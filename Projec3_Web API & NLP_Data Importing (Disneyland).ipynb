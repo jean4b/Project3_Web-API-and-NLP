{
 "cells": [
  {
   "cell_type": "markdown",
   "metadata": {},
   "source": [
    "# Project 3: Web API and NLP Data Importing (Disneyland)"
   ]
  },
  {
   "cell_type": "markdown",
   "metadata": {},
   "source": [
    "## Problem Statement"
   ]
  },
  {
   "cell_type": "markdown",
   "metadata": {},
   "source": [
    "- The objective is to built the most optimal text classification model between Disneyland and Universal Subreddits, which will be implemented in KKDays (Travel booking agency) algorthm to classify customer's comments on these two theme parks. Moreover, the company wants to understand which brand is more popular and understand customer's tone/sentiment from the comment. The result would be the promotional tactics that will be targeted toward the more popular brand."
   ]
  },
  {
   "cell_type": "markdown",
   "metadata": {},
   "source": [
    "## Libraries Importing "
   ]
  },
  {
   "cell_type": "code",
   "execution_count": 9,
   "metadata": {},
   "outputs": [],
   "source": [
    "from selenium import webdriver\n",
    "from bs4 import BeautifulSoup\n",
    "import pandas as pd\n",
    "from tqdm import tqdm\n",
    "from time import sleep\n",
    "import json, os\n"
   ]
  },
  {
   "cell_type": "markdown",
   "metadata": {},
   "source": [
    "## Instantiate webdriver"
   ]
  },
  {
   "cell_type": "code",
   "execution_count": 10,
   "metadata": {},
   "outputs": [],
   "source": [
    "## instantiate driver\n",
    "## check the version of Google Chrome and download correct version of chromedriver\n",
    "driver = webdriver.Chrome()"
   ]
  },
  {
   "cell_type": "code",
   "execution_count": 11,
   "metadata": {},
   "outputs": [],
   "source": [
    "## get page of \"social grep\", which gived old posts of subreddit\n",
    "## original reddit url = 'https://www.reddit.com/r/Disneyland/'\n",
    "\n",
    "subreddit = 'disneyland' # choose by yourself\n",
    "start_date = '2010-01-01' # choose by yourself\n",
    "\n",
    "url = f'https://socialgrep.com/search?query=%2Fr%2F{subreddit}%2Cafter%3A{start_date}&order_by=oldest'\n",
    "\n",
    "driver.get(url)\n",
    "repeat_time, waiting_time = 4, 2\n",
    "\n",
    "## scroll to the bottom of the page and wait\n",
    "for i in range(repeat_time):\n",
    "    driver.execute_script(f\"window.scrollTo(0, document.body.scrollHeight);\")\n",
    "    sleep(waiting_time)"
   ]
  },
  {
   "cell_type": "markdown",
   "metadata": {},
   "source": [
    "## Example of one post"
   ]
  },
  {
   "cell_type": "code",
   "execution_count": 10,
   "metadata": {},
   "outputs": [],
   "source": [
    "## function to scrape\n",
    "def get_content(post, subreddit):\n",
    "    try:\n",
    "        vote = int(post.select_one('span.text-info').text)\n",
    "    except:\n",
    "        vote = 0\n",
    "    try:\n",
    "        title = post.a.text\n",
    "    except:\n",
    "        return None\n",
    "    try:\n",
    "        text = post.select_one('div.post_content').get_text(separator='\\n').strip()\n",
    "        if text == '':\n",
    "            text = None\n",
    "    except:\n",
    "        text = None\n",
    "    date = post.select_one('h6.card-subtitle').text.split(',')[1].strip()\n",
    "\n",
    "    if text == None and title == f\"/r/{subreddit.lower()}\":\n",
    "        return None\n",
    "    else:\n",
    "        return {\n",
    "            \"vote\" : vote,\n",
    "            \"title\" : title,\n",
    "            \"text\" : text,\n",
    "            \"date\" : date\n",
    "        }"
   ]
  },
  {
   "cell_type": "code",
   "execution_count": 11,
   "metadata": {},
   "outputs": [
    {
     "data": {
      "text/plain": [
       "{'vote': 1,\n",
       " 'title': 'Disneyland Time Lapse',\n",
       " 'text': '[deleted]',\n",
       " 'date': '2010-12-16'}"
      ]
     },
     "execution_count": 11,
     "metadata": {},
     "output_type": "execute_result"
    }
   ],
   "source": [
    "soup = BeautifulSoup(driver.page_source)\n",
    "posts = soup.select('div.card-body') # content is under here\n",
    "\n",
    "get_content(posts[1], subreddit) # show one example"
   ]
  },
  {
   "cell_type": "markdown",
   "metadata": {},
   "source": [
    "# For loop with datetime"
   ]
  },
  {
   "cell_type": "code",
   "execution_count": 12,
   "metadata": {},
   "outputs": [],
   "source": [
    "if os.path.exists(f'{subreddit}.json'):\n",
    "    ## resume scraping from the last date in the json file\n",
    "    with open(f'{subreddit}.json', 'r') as f:\n",
    "        scraped_data = json.load(f)\n",
    "    new_date = scraped_data[-1]['date']\n",
    "    url = f'https://socialgrep.com/search?query=%2Fr%2F{subreddit}%2Cafter%3A{new_date}&order_by=oldest'\n",
    "else:\n",
    "    ## if the file not exists, create a new list\n",
    "    scraped_data = []"
   ]
  },
  {
   "cell_type": "code",
   "execution_count": 24,
   "metadata": {},
   "outputs": [
    {
     "name": "stderr",
     "output_type": "stream",
     "text": [
      "100%|██████████| 400/400 [1:21:03<00:00, 12.16s/it]\n"
     ]
    }
   ],
   "source": [
    "## scrape and append to `scraped_data`\n",
    "## RUN THIS CELL AGAIN AND AGAIN until getting the latest post\n",
    "\n",
    "for _ in tqdm(range(400)): # set repeat time \n",
    "\n",
    "    ## scroll to the bottom of the page and wait\n",
    "    driver.get(url)\n",
    "    for i in range(4):\n",
    "        driver.execute_script(f\"window.scrollTo(0, document.body.scrollHeight);\")\n",
    "        sleep(2)\n",
    "\n",
    "    ## get HTML\n",
    "    soup = BeautifulSoup(driver.page_source)\n",
    "    posts = soup.select('div.card-body')\n",
    "\n",
    "    ## iterate each post\n",
    "    for post in posts:\n",
    "        one_post_dict = get_content(post, subreddit)\n",
    "        if one_post_dict != None:\n",
    "            scraped_data.append(one_post_dict)\n",
    "\n",
    "    ## save to json\n",
    "    with open(f'{subreddit}.json', 'w') as f:\n",
    "        json.dump(scraped_data, f, indent=False, ensure_ascii=False)\n",
    "\n",
    "    ## set new date\n",
    "    new_date = scraped_data[-1]['date']\n",
    "    url = f'https://socialgrep.com/search?query=%2Fr%2F{subreddit}%2Cafter%3A{new_date}&order_by=oldest'\n"
   ]
  },
  {
   "cell_type": "markdown",
   "metadata": {},
   "source": [
    "## To dataframe and drop duplicate"
   ]
  },
  {
   "cell_type": "code",
   "execution_count": 25,
   "metadata": {},
   "outputs": [
    {
     "data": {
      "text/html": [
       "<div>\n",
       "<style scoped>\n",
       "    .dataframe tbody tr th:only-of-type {\n",
       "        vertical-align: middle;\n",
       "    }\n",
       "\n",
       "    .dataframe tbody tr th {\n",
       "        vertical-align: top;\n",
       "    }\n",
       "\n",
       "    .dataframe thead th {\n",
       "        text-align: right;\n",
       "    }\n",
       "</style>\n",
       "<table border=\"1\" class=\"dataframe\">\n",
       "  <thead>\n",
       "    <tr style=\"text-align: right;\">\n",
       "      <th></th>\n",
       "      <th>vote</th>\n",
       "      <th>title</th>\n",
       "      <th>text</th>\n",
       "      <th>date</th>\n",
       "    </tr>\n",
       "  </thead>\n",
       "  <tbody>\n",
       "    <tr>\n",
       "      <th>0</th>\n",
       "      <td>4</td>\n",
       "      <td>Disney Parks Live Stream! Big Announcement!</td>\n",
       "      <td>None</td>\n",
       "      <td>2010-09-23</td>\n",
       "    </tr>\n",
       "    <tr>\n",
       "      <th>1</th>\n",
       "      <td>1</td>\n",
       "      <td>Disneyland Time Lapse</td>\n",
       "      <td>[deleted]</td>\n",
       "      <td>2010-12-16</td>\n",
       "    </tr>\n",
       "    <tr>\n",
       "      <th>2</th>\n",
       "      <td>1</td>\n",
       "      <td>The sound workshop of Disneyland Imagineers...</td>\n",
       "      <td>[deleted]</td>\n",
       "      <td>2011-02-25</td>\n",
       "    </tr>\n",
       "    <tr>\n",
       "      <th>3</th>\n",
       "      <td>2</td>\n",
       "      <td>The skunk. Every Freaking Time!</td>\n",
       "      <td>None</td>\n",
       "      <td>2011-10-02</td>\n",
       "    </tr>\n",
       "    <tr>\n",
       "      <th>4</th>\n",
       "      <td>16</td>\n",
       "      <td>Disneyland Entrance</td>\n",
       "      <td>None</td>\n",
       "      <td>2011-10-03</td>\n",
       "    </tr>\n",
       "    <tr>\n",
       "      <th>...</th>\n",
       "      <td>...</td>\n",
       "      <td>...</td>\n",
       "      <td>...</td>\n",
       "      <td>...</td>\n",
       "    </tr>\n",
       "    <tr>\n",
       "      <th>12570</th>\n",
       "      <td>196</td>\n",
       "      <td>Got engaged last Friday!</td>\n",
       "      <td>[deleted]</td>\n",
       "      <td>2017-09-28</td>\n",
       "    </tr>\n",
       "    <tr>\n",
       "      <th>12571</th>\n",
       "      <td>5</td>\n",
       "      <td>Plaza inn character buffet</td>\n",
       "      <td>Hi all! I have a question. So on Saturday morn...</td>\n",
       "      <td>2017-09-29</td>\n",
       "    </tr>\n",
       "    <tr>\n",
       "      <th>12572</th>\n",
       "      <td>1</td>\n",
       "      <td>How late can you pay for your visit?</td>\n",
       "      <td>Looking through the FAQ, I didn't see anything...</td>\n",
       "      <td>2017-09-29</td>\n",
       "    </tr>\n",
       "    <tr>\n",
       "      <th>12573</th>\n",
       "      <td>12</td>\n",
       "      <td>Visiting Disneyland during Christmas!</td>\n",
       "      <td>So, my family and I (wife, 8 y/o boy, 6 y/o bo...</td>\n",
       "      <td>2017-09-29</td>\n",
       "    </tr>\n",
       "    <tr>\n",
       "      <th>12574</th>\n",
       "      <td>1</td>\n",
       "      <td>Tokyo DisneySea street performer. Would you Wa...</td>\n",
       "      <td>None</td>\n",
       "      <td>2017-09-29</td>\n",
       "    </tr>\n",
       "  </tbody>\n",
       "</table>\n",
       "<p>10076 rows × 4 columns</p>\n",
       "</div>"
      ],
      "text/plain": [
       "       vote                                              title  \\\n",
       "0         4        Disney Parks Live Stream! Big Announcement!   \n",
       "1         1                              Disneyland Time Lapse   \n",
       "2         1     The sound workshop of Disneyland Imagineers...   \n",
       "3         2                    The skunk. Every Freaking Time!   \n",
       "4        16                                Disneyland Entrance   \n",
       "...     ...                                                ...   \n",
       "12570   196                           Got engaged last Friday!   \n",
       "12571     5                         Plaza inn character buffet   \n",
       "12572     1               How late can you pay for your visit?   \n",
       "12573    12              Visiting Disneyland during Christmas!   \n",
       "12574     1  Tokyo DisneySea street performer. Would you Wa...   \n",
       "\n",
       "                                                    text       date  \n",
       "0                                                   None 2010-09-23  \n",
       "1                                              [deleted] 2010-12-16  \n",
       "2                                              [deleted] 2011-02-25  \n",
       "3                                                   None 2011-10-02  \n",
       "4                                                   None 2011-10-03  \n",
       "...                                                  ...        ...  \n",
       "12570                                          [deleted] 2017-09-28  \n",
       "12571  Hi all! I have a question. So on Saturday morn... 2017-09-29  \n",
       "12572  Looking through the FAQ, I didn't see anything... 2017-09-29  \n",
       "12573  So, my family and I (wife, 8 y/o boy, 6 y/o bo... 2017-09-29  \n",
       "12574                                               None 2017-09-29  \n",
       "\n",
       "[10076 rows x 4 columns]"
      ]
     },
     "execution_count": 25,
     "metadata": {},
     "output_type": "execute_result"
    }
   ],
   "source": [
    "df = pd.read_json(f'{subreddit}.json').drop_duplicates()\n",
    "df"
   ]
  },
  {
   "cell_type": "code",
   "execution_count": 26,
   "metadata": {},
   "outputs": [
    {
     "data": {
      "text/plain": [
       "vote        0\n",
       "title       0\n",
       "text     3673\n",
       "date        0\n",
       "dtype: int64"
      ]
     },
     "execution_count": 26,
     "metadata": {},
     "output_type": "execute_result"
    }
   ],
   "source": [
    "## missing value in text\n",
    "df.isna().sum()"
   ]
  },
  {
   "cell_type": "code",
   "execution_count": 27,
   "metadata": {},
   "outputs": [
    {
     "data": {
      "text/html": [
       "<div>\n",
       "<style scoped>\n",
       "    .dataframe tbody tr th:only-of-type {\n",
       "        vertical-align: middle;\n",
       "    }\n",
       "\n",
       "    .dataframe tbody tr th {\n",
       "        vertical-align: top;\n",
       "    }\n",
       "\n",
       "    .dataframe thead th {\n",
       "        text-align: right;\n",
       "    }\n",
       "</style>\n",
       "<table border=\"1\" class=\"dataframe\">\n",
       "  <thead>\n",
       "    <tr style=\"text-align: right;\">\n",
       "      <th></th>\n",
       "      <th>vote</th>\n",
       "      <th>title</th>\n",
       "      <th>text</th>\n",
       "      <th>date</th>\n",
       "    </tr>\n",
       "  </thead>\n",
       "  <tbody>\n",
       "    <tr>\n",
       "      <th>1</th>\n",
       "      <td>1</td>\n",
       "      <td>Disneyland Time Lapse</td>\n",
       "      <td>[deleted]</td>\n",
       "      <td>2010-12-16</td>\n",
       "    </tr>\n",
       "    <tr>\n",
       "      <th>2</th>\n",
       "      <td>1</td>\n",
       "      <td>The sound workshop of Disneyland Imagineers...</td>\n",
       "      <td>[deleted]</td>\n",
       "      <td>2011-02-25</td>\n",
       "    </tr>\n",
       "    <tr>\n",
       "      <th>23</th>\n",
       "      <td>1</td>\n",
       "      <td>Mini Lego Sleeping Beauty Castle</td>\n",
       "      <td>[deleted]</td>\n",
       "      <td>2011-12-08</td>\n",
       "    </tr>\n",
       "    <tr>\n",
       "      <th>28</th>\n",
       "      <td>1</td>\n",
       "      <td>Best places to eat in or near Disneyland, Cali...</td>\n",
       "      <td>[deleted]</td>\n",
       "      <td>2012-01-02</td>\n",
       "    </tr>\n",
       "    <tr>\n",
       "      <th>33</th>\n",
       "      <td>3</td>\n",
       "      <td>Disneyland Hotels which one to stay at?</td>\n",
       "      <td>[deleted]</td>\n",
       "      <td>2012-01-25</td>\n",
       "    </tr>\n",
       "    <tr>\n",
       "      <th>...</th>\n",
       "      <td>...</td>\n",
       "      <td>...</td>\n",
       "      <td>...</td>\n",
       "      <td>...</td>\n",
       "    </tr>\n",
       "    <tr>\n",
       "      <th>12551</th>\n",
       "      <td>1</td>\n",
       "      <td>so what do you guys think about pda at the par...</td>\n",
       "      <td>[removed]</td>\n",
       "      <td>2017-09-27</td>\n",
       "    </tr>\n",
       "    <tr>\n",
       "      <th>12554</th>\n",
       "      <td>1</td>\n",
       "      <td>Dress code for Mickeys Halloween Party</td>\n",
       "      <td>[removed]</td>\n",
       "      <td>2017-09-27</td>\n",
       "    </tr>\n",
       "    <tr>\n",
       "      <th>12563</th>\n",
       "      <td>5</td>\n",
       "      <td>Oogie Boogie Popcorn!</td>\n",
       "      <td>[deleted]</td>\n",
       "      <td>2017-09-28</td>\n",
       "    </tr>\n",
       "    <tr>\n",
       "      <th>12564</th>\n",
       "      <td>56</td>\n",
       "      <td>Just popped up on my disney app. No idea who t...</td>\n",
       "      <td>[deleted]</td>\n",
       "      <td>2017-09-28</td>\n",
       "    </tr>\n",
       "    <tr>\n",
       "      <th>12570</th>\n",
       "      <td>196</td>\n",
       "      <td>Got engaged last Friday!</td>\n",
       "      <td>[deleted]</td>\n",
       "      <td>2017-09-28</td>\n",
       "    </tr>\n",
       "  </tbody>\n",
       "</table>\n",
       "<p>2314 rows × 4 columns</p>\n",
       "</div>"
      ],
      "text/plain": [
       "       vote                                              title       text  \\\n",
       "1         1                              Disneyland Time Lapse  [deleted]   \n",
       "2         1     The sound workshop of Disneyland Imagineers...  [deleted]   \n",
       "23        1                   Mini Lego Sleeping Beauty Castle  [deleted]   \n",
       "28        1  Best places to eat in or near Disneyland, Cali...  [deleted]   \n",
       "33        3            Disneyland Hotels which one to stay at?  [deleted]   \n",
       "...     ...                                                ...        ...   \n",
       "12551     1  so what do you guys think about pda at the par...  [removed]   \n",
       "12554     1             Dress code for Mickeys Halloween Party  [removed]   \n",
       "12563     5                              Oogie Boogie Popcorn!  [deleted]   \n",
       "12564    56  Just popped up on my disney app. No idea who t...  [deleted]   \n",
       "12570   196                           Got engaged last Friday!  [deleted]   \n",
       "\n",
       "            date  \n",
       "1     2010-12-16  \n",
       "2     2011-02-25  \n",
       "23    2011-12-08  \n",
       "28    2012-01-02  \n",
       "33    2012-01-25  \n",
       "...          ...  \n",
       "12551 2017-09-27  \n",
       "12554 2017-09-27  \n",
       "12563 2017-09-28  \n",
       "12564 2017-09-28  \n",
       "12570 2017-09-28  \n",
       "\n",
       "[2314 rows x 4 columns]"
      ]
     },
     "execution_count": 27,
     "metadata": {},
     "output_type": "execute_result"
    }
   ],
   "source": [
    "## text includes [removed] [deleted]\n",
    "df[df['text'].isin(['[removed]', '[deleted]'])]"
   ]
  },
  {
   "cell_type": "code",
   "execution_count": 30,
   "metadata": {},
   "outputs": [],
   "source": [
    "disney_df = df[(~df['text'].isin(['[removed]', '[deleted]'])) & (df['text'].notna())].drop_duplicates(subset=['text'])\n",
    "disney_df.to_csv('disneyland.csv', index=False)"
   ]
  },
  {
   "cell_type": "code",
   "execution_count": 1,
   "metadata": {},
   "outputs": [
    {
     "ename": "NameError",
     "evalue": "name 'df' is not defined",
     "output_type": "error",
     "traceback": [
      "\u001b[0;31m---------------------------------------------------------------------------\u001b[0m",
      "\u001b[0;31mNameError\u001b[0m                                 Traceback (most recent call last)",
      "Cell \u001b[0;32mIn[1], line 1\u001b[0m\n\u001b[0;32m----> 1\u001b[0m disney_df \u001b[38;5;241m=\u001b[39m \u001b[43mdf\u001b[49m[(\u001b[38;5;241m~\u001b[39mdf[\u001b[38;5;124m'\u001b[39m\u001b[38;5;124mtext\u001b[39m\u001b[38;5;124m'\u001b[39m]\u001b[38;5;241m.\u001b[39misin([\u001b[38;5;124m'\u001b[39m\u001b[38;5;124m[removed]\u001b[39m\u001b[38;5;124m'\u001b[39m, \u001b[38;5;124m'\u001b[39m\u001b[38;5;124m[deleted]\u001b[39m\u001b[38;5;124m'\u001b[39m])) \u001b[38;5;241m&\u001b[39m (df[\u001b[38;5;124m'\u001b[39m\u001b[38;5;124mtext\u001b[39m\u001b[38;5;124m'\u001b[39m]\u001b[38;5;241m.\u001b[39mnotna())]\u001b[38;5;241m.\u001b[39mdrop_duplicates(subset\u001b[38;5;241m=\u001b[39m[\u001b[38;5;124m'\u001b[39m\u001b[38;5;124mtext\u001b[39m\u001b[38;5;124m'\u001b[39m])\n\u001b[1;32m      2\u001b[0m disney_df\n",
      "\u001b[0;31mNameError\u001b[0m: name 'df' is not defined"
     ]
    }
   ],
   "source": [
    "disney_df = df[(~df['text'].isin(['[removed]', '[deleted]'])) & (df['text'].notna())].drop_duplicates(subset=['text'])\n",
    "disney_df"
   ]
  },
  {
   "cell_type": "code",
   "execution_count": 7,
   "metadata": {},
   "outputs": [
    {
     "data": {
      "text/html": [
       "<div>\n",
       "<style scoped>\n",
       "    .dataframe tbody tr th:only-of-type {\n",
       "        vertical-align: middle;\n",
       "    }\n",
       "\n",
       "    .dataframe tbody tr th {\n",
       "        vertical-align: top;\n",
       "    }\n",
       "\n",
       "    .dataframe thead th {\n",
       "        text-align: right;\n",
       "    }\n",
       "</style>\n",
       "<table border=\"1\" class=\"dataframe\">\n",
       "  <thead>\n",
       "    <tr style=\"text-align: right;\">\n",
       "      <th></th>\n",
       "      <th>vote</th>\n",
       "      <th>title</th>\n",
       "      <th>text</th>\n",
       "      <th>date</th>\n",
       "    </tr>\n",
       "  </thead>\n",
       "  <tbody>\n",
       "    <tr>\n",
       "      <th>0</th>\n",
       "      <td>12</td>\n",
       "      <td>[Poll] Is this ok?</td>\n",
       "      <td>Hey, /r/disneyland. I think I'll try and post ...</td>\n",
       "      <td>2011-10-04</td>\n",
       "    </tr>\n",
       "    <tr>\n",
       "      <th>1</th>\n",
       "      <td>8</td>\n",
       "      <td>Favorite Land?</td>\n",
       "      <td>So, what's YOUR favorite land in Disneyland?</td>\n",
       "      <td>2011-10-09</td>\n",
       "    </tr>\n",
       "    <tr>\n",
       "      <th>2</th>\n",
       "      <td>4</td>\n",
       "      <td>Does anyone have any pictures from inside club...</td>\n",
       "      <td>Hey everyone! I don't know if you're allowed t...</td>\n",
       "      <td>2011-10-10</td>\n",
       "    </tr>\n",
       "    <tr>\n",
       "      <th>3</th>\n",
       "      <td>4</td>\n",
       "      <td>Who is your favorite face character?</td>\n",
       "      <td>I love Bert and Mary. I think it's something a...</td>\n",
       "      <td>2011-10-10</td>\n",
       "    </tr>\n",
       "    <tr>\n",
       "      <th>4</th>\n",
       "      <td>7</td>\n",
       "      <td>Does Disneyland drug test employees? (x-post f...</td>\n",
       "      <td>I have an interview Friday, and I'd like to kn...</td>\n",
       "      <td>2011-11-10</td>\n",
       "    </tr>\n",
       "    <tr>\n",
       "      <th>...</th>\n",
       "      <td>...</td>\n",
       "      <td>...</td>\n",
       "      <td>...</td>\n",
       "      <td>...</td>\n",
       "    </tr>\n",
       "    <tr>\n",
       "      <th>3852</th>\n",
       "      <td>3</td>\n",
       "      <td>What day to get Maxpass</td>\n",
       "      <td>I'm going to Disneyland/DCA in October for a w...</td>\n",
       "      <td>2017-09-28</td>\n",
       "    </tr>\n",
       "    <tr>\n",
       "      <th>3853</th>\n",
       "      <td>4</td>\n",
       "      <td>Disneyland questions</td>\n",
       "      <td>As it turns out as I’m preparing for my WDW Ch...</td>\n",
       "      <td>2017-09-28</td>\n",
       "    </tr>\n",
       "    <tr>\n",
       "      <th>3854</th>\n",
       "      <td>5</td>\n",
       "      <td>Plaza inn character buffet</td>\n",
       "      <td>Hi all! I have a question. So on Saturday morn...</td>\n",
       "      <td>2017-09-29</td>\n",
       "    </tr>\n",
       "    <tr>\n",
       "      <th>3855</th>\n",
       "      <td>1</td>\n",
       "      <td>How late can you pay for your visit?</td>\n",
       "      <td>Looking through the FAQ, I didn't see anything...</td>\n",
       "      <td>2017-09-29</td>\n",
       "    </tr>\n",
       "    <tr>\n",
       "      <th>3856</th>\n",
       "      <td>12</td>\n",
       "      <td>Visiting Disneyland during Christmas!</td>\n",
       "      <td>So, my family and I (wife, 8 y/o boy, 6 y/o bo...</td>\n",
       "      <td>2017-09-29</td>\n",
       "    </tr>\n",
       "  </tbody>\n",
       "</table>\n",
       "<p>3857 rows × 4 columns</p>\n",
       "</div>"
      ],
      "text/plain": [
       "      vote                                              title  \\\n",
       "0       12                                 [Poll] Is this ok?   \n",
       "1        8                                     Favorite Land?   \n",
       "2        4  Does anyone have any pictures from inside club...   \n",
       "3        4               Who is your favorite face character?   \n",
       "4        7  Does Disneyland drug test employees? (x-post f...   \n",
       "...    ...                                                ...   \n",
       "3852     3                            What day to get Maxpass   \n",
       "3853     4                               Disneyland questions   \n",
       "3854     5                         Plaza inn character buffet   \n",
       "3855     1               How late can you pay for your visit?   \n",
       "3856    12              Visiting Disneyland during Christmas!   \n",
       "\n",
       "                                                   text       date  \n",
       "0     Hey, /r/disneyland. I think I'll try and post ... 2011-10-04  \n",
       "1          So, what's YOUR favorite land in Disneyland? 2011-10-09  \n",
       "2     Hey everyone! I don't know if you're allowed t... 2011-10-10  \n",
       "3     I love Bert and Mary. I think it's something a... 2011-10-10  \n",
       "4     I have an interview Friday, and I'd like to kn... 2011-11-10  \n",
       "...                                                 ...        ...  \n",
       "3852  I'm going to Disneyland/DCA in October for a w... 2017-09-28  \n",
       "3853  As it turns out as I’m preparing for my WDW Ch... 2017-09-28  \n",
       "3854  Hi all! I have a question. So on Saturday morn... 2017-09-29  \n",
       "3855  Looking through the FAQ, I didn't see anything... 2017-09-29  \n",
       "3856  So, my family and I (wife, 8 y/o boy, 6 y/o bo... 2017-09-29  \n",
       "\n",
       "[3857 rows x 4 columns]"
      ]
     },
     "execution_count": 7,
     "metadata": {},
     "output_type": "execute_result"
    }
   ],
   "source": [
    "disney_df = pd.read_json('disneyland_dropped.json')\n",
    "disney_df"
   ]
  }
 ],
 "metadata": {
  "kernelspec": {
   "display_name": "Python 3 (ipykernel)",
   "language": "python",
   "name": "python3"
  },
  "language_info": {
   "codemirror_mode": {
    "name": "ipython",
    "version": 3
   },
   "file_extension": ".py",
   "mimetype": "text/x-python",
   "name": "python",
   "nbconvert_exporter": "python",
   "pygments_lexer": "ipython3",
   "version": "3.9.6"
  },
  "vscode": {
   "interpreter": {
    "hash": "aee8b7b246df8f9039afb4144a1f6fd8d2ca17a180786b69acc140d282b71a49"
   }
  }
 },
 "nbformat": 4,
 "nbformat_minor": 4
}
