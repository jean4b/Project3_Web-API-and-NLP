{
 "cells": [
  {
   "cell_type": "markdown",
   "id": "6df75653-dd54-4ce2-88bf-f9ab19cdffd8",
   "metadata": {},
   "source": [
    "# Project 3: Web API & NLP Modeling and Model Evaluation"
   ]
  },
  {
   "cell_type": "markdown",
   "id": "53908f32-c0c0-45e1-a88f-337222394b1e",
   "metadata": {},
   "source": [
    "## Libraries Importing"
   ]
  },
  {
   "cell_type": "code",
   "execution_count": 91,
   "id": "1828fca5-51c5-4ee5-96ce-e9d2c66dc0a3",
   "metadata": {},
   "outputs": [],
   "source": [
    "# Import standard libraries\n",
    "import requests\n",
    "import pandas as pd\n",
    "import numpy as np\n",
    "import time\n",
    "import random\n",
    "import seaborn as sns\n",
    "import matplotlib.pyplot as plt\n",
    "\n",
    "# Import scikit learn libraries\n",
    "from sklearn.model_selection import train_test_split, GridSearchCV\n",
    "from sklearn.linear_model import LogisticRegression\n",
    "from sklearn.neighbors import KNeighborsClassifier\n",
    "from sklearn.pipeline import Pipeline\n",
    "from sklearn.naive_bayes import MultinomialNB\n",
    "from sklearn.ensemble import RandomForestClassifier\n",
    "from sklearn.metrics import confusion_matrix, ConfusionMatrixDisplay, classification_report, accuracy_score, f1_score\n",
    "from sklearn.tree import DecisionTreeClassifier\n",
    "\n",
    "# Import natural language processing relevant libraries \n",
    "from sklearn.feature_extraction.text import CountVectorizer, TfidfVectorizer\n",
    "from nltk.tokenize import RegexpTokenizer, word_tokenize\n",
    "from nltk.stem import WordNetLemmatizer\n",
    "from nltk.stem.porter import PorterStemmer\n",
    "from nltk.corpus import stopwords\n",
    "from nltk.sentiment.vader import SentimentIntensityAnalyzer\n",
    "import re\n",
    "import spacy\n",
    "\n",
    "# Load English model and instantiate\n",
    "nlp = spacy.load(\"en_core_web_sm\")\n"
   ]
  },
  {
   "cell_type": "markdown",
   "id": "4dca1464-fff1-442c-8859-b4ef2a3eb528",
   "metadata": {},
   "source": [
    "## Data Importing"
   ]
  },
  {
   "cell_type": "code",
   "execution_count": 2,
   "id": "223faeee-dab0-41e0-aec1-2421f54d69e2",
   "metadata": {},
   "outputs": [
    {
     "data": {
      "text/html": [
       "<div>\n",
       "<style scoped>\n",
       "    .dataframe tbody tr th:only-of-type {\n",
       "        vertical-align: middle;\n",
       "    }\n",
       "\n",
       "    .dataframe tbody tr th {\n",
       "        vertical-align: top;\n",
       "    }\n",
       "\n",
       "    .dataframe thead th {\n",
       "        text-align: right;\n",
       "    }\n",
       "</style>\n",
       "<table border=\"1\" class=\"dataframe\">\n",
       "  <thead>\n",
       "    <tr style=\"text-align: right;\">\n",
       "      <th></th>\n",
       "      <th>mapped_subreddit</th>\n",
       "      <th>text</th>\n",
       "      <th>title</th>\n",
       "      <th>post</th>\n",
       "      <th>tokenized</th>\n",
       "      <th>tokenized_nostop</th>\n",
       "      <th>tokenized_lemma</th>\n",
       "      <th>tokenized_lemma_nostop</th>\n",
       "    </tr>\n",
       "  </thead>\n",
       "  <tbody>\n",
       "    <tr>\n",
       "      <th>0</th>\n",
       "      <td>1</td>\n",
       "      <td>Hey, /r/disneyland. I think I'll try and post ...</td>\n",
       "      <td>[Poll] Is this ok?</td>\n",
       "      <td>Hey, /r/disneyland. I think I'll try and post ...</td>\n",
       "      <td>hey , /r/. i think i 'll try and post cool   p...</td>\n",
       "      <td>i i 'll and on here every once in a do you thi...</td>\n",
       "      <td>hey , /r/. I think I 'll try and post cool   p...</td>\n",
       "      <td>I I 'll and on here every once in a do you thi...</td>\n",
       "    </tr>\n",
       "    <tr>\n",
       "      <th>1</th>\n",
       "      <td>1</td>\n",
       "      <td>So, what's YOUR favorite land in Disneyland?</td>\n",
       "      <td>Favorite Land?</td>\n",
       "      <td>So, what's YOUR favorite land in Disneyland?Fa...</td>\n",
       "      <td>so , what 's your favorite land in ? favorite ...</td>\n",
       "      <td>so what 's your in</td>\n",
       "      <td>so , what be your favorite land in ? Favorite ...</td>\n",
       "      <td>so what be your in</td>\n",
       "    </tr>\n",
       "    <tr>\n",
       "      <th>2</th>\n",
       "      <td>1</td>\n",
       "      <td>Hey everyone! I don't know if you're allowed t...</td>\n",
       "      <td>Does anyone have any pictures from inside club...</td>\n",
       "      <td>Hey everyone! I don't know if you're allowed t...</td>\n",
       "      <td>hey everyone ! i do n't know if you 're allowe...</td>\n",
       "      <td>everyone i do n't if you 're to take in there ...</td>\n",
       "      <td>hey everyone ! I do n't know if you be allow t...</td>\n",
       "      <td>everyone I do n't if you be to take in there o...</td>\n",
       "    </tr>\n",
       "    <tr>\n",
       "      <th>3</th>\n",
       "      <td>1</td>\n",
       "      <td>I love Bert and Mary. I think it's something a...</td>\n",
       "      <td>Who is your favorite face character?</td>\n",
       "      <td>I love Bert and Mary. I think it's something a...</td>\n",
       "      <td>i love bert and mary . i think it 's something...</td>\n",
       "      <td>i and i it 's something about them being than ...</td>\n",
       "      <td>I love Bert and Mary . I think it be something...</td>\n",
       "      <td>I and I it be something about they be than or ...</td>\n",
       "    </tr>\n",
       "    <tr>\n",
       "      <th>4</th>\n",
       "      <td>1</td>\n",
       "      <td>I have an interview Friday, and I'd like to kn...</td>\n",
       "      <td>Does Disneyland drug test employees? (x-post f...</td>\n",
       "      <td>I have an interview Friday, and I'd like to kn...</td>\n",
       "      <td>i have an interview friday , and i 'd like to ...</td>\n",
       "      <td>i have an and i 'd to if before i do n't any i...</td>\n",
       "      <td>I have an interview Friday , and I would like ...</td>\n",
       "      <td>I have an and I would to if before I do n't an...</td>\n",
       "    </tr>\n",
       "  </tbody>\n",
       "</table>\n",
       "</div>"
      ],
      "text/plain": [
       "   mapped_subreddit                                               text  \\\n",
       "0                 1  Hey, /r/disneyland. I think I'll try and post ...   \n",
       "1                 1       So, what's YOUR favorite land in Disneyland?   \n",
       "2                 1  Hey everyone! I don't know if you're allowed t...   \n",
       "3                 1  I love Bert and Mary. I think it's something a...   \n",
       "4                 1  I have an interview Friday, and I'd like to kn...   \n",
       "\n",
       "                                               title  \\\n",
       "0                                 [Poll] Is this ok?   \n",
       "1                                     Favorite Land?   \n",
       "2  Does anyone have any pictures from inside club...   \n",
       "3               Who is your favorite face character?   \n",
       "4  Does Disneyland drug test employees? (x-post f...   \n",
       "\n",
       "                                                post  \\\n",
       "0  Hey, /r/disneyland. I think I'll try and post ...   \n",
       "1  So, what's YOUR favorite land in Disneyland?Fa...   \n",
       "2  Hey everyone! I don't know if you're allowed t...   \n",
       "3  I love Bert and Mary. I think it's something a...   \n",
       "4  I have an interview Friday, and I'd like to kn...   \n",
       "\n",
       "                                           tokenized  \\\n",
       "0  hey , /r/. i think i 'll try and post cool   p...   \n",
       "1  so , what 's your favorite land in ? favorite ...   \n",
       "2  hey everyone ! i do n't know if you 're allowe...   \n",
       "3  i love bert and mary . i think it 's something...   \n",
       "4  i have an interview friday , and i 'd like to ...   \n",
       "\n",
       "                                    tokenized_nostop  \\\n",
       "0  i i 'll and on here every once in a do you thi...   \n",
       "1                                 so what 's your in   \n",
       "2  everyone i do n't if you 're to take in there ...   \n",
       "3  i and i it 's something about them being than ...   \n",
       "4  i have an and i 'd to if before i do n't any i...   \n",
       "\n",
       "                                     tokenized_lemma  \\\n",
       "0  hey , /r/. I think I 'll try and post cool   p...   \n",
       "1  so , what be your favorite land in ? Favorite ...   \n",
       "2  hey everyone ! I do n't know if you be allow t...   \n",
       "3  I love Bert and Mary . I think it be something...   \n",
       "4  I have an interview Friday , and I would like ...   \n",
       "\n",
       "                              tokenized_lemma_nostop  \n",
       "0  I I 'll and on here every once in a do you thi...  \n",
       "1                                 so what be your in  \n",
       "2  everyone I do n't if you be to take in there o...  \n",
       "3  I and I it be something about they be than or ...  \n",
       "4  I have an and I would to if before I do n't an...  "
      ]
     },
     "execution_count": 2,
     "metadata": {},
     "output_type": "execute_result"
    }
   ],
   "source": [
    "# Import the tokenized df and view the data\n",
    "df_tokenized = pd.read_csv('Data/tokenized_df.csv')\n",
    "df_tokenized.head()"
   ]
  },
  {
   "cell_type": "code",
   "execution_count": 3,
   "id": "69155f9d-ea38-4ab1-9fbf-6de894f38556",
   "metadata": {},
   "outputs": [
    {
     "data": {
      "text/html": [
       "<div>\n",
       "<style scoped>\n",
       "    .dataframe tbody tr th:only-of-type {\n",
       "        vertical-align: middle;\n",
       "    }\n",
       "\n",
       "    .dataframe tbody tr th {\n",
       "        vertical-align: top;\n",
       "    }\n",
       "\n",
       "    .dataframe thead th {\n",
       "        text-align: right;\n",
       "    }\n",
       "</style>\n",
       "<table border=\"1\" class=\"dataframe\">\n",
       "  <thead>\n",
       "    <tr style=\"text-align: right;\">\n",
       "      <th></th>\n",
       "      <th>mapped_subreddit</th>\n",
       "      <th>text</th>\n",
       "      <th>title</th>\n",
       "      <th>post</th>\n",
       "      <th>tokenized</th>\n",
       "      <th>tokenized_nostop</th>\n",
       "      <th>tokenized_lemma</th>\n",
       "      <th>tokenized_lemma_nostop</th>\n",
       "    </tr>\n",
       "  </thead>\n",
       "  <tbody>\n",
       "    <tr>\n",
       "      <th>0</th>\n",
       "      <td>1</td>\n",
       "      <td>Hey, /r/disneyland. I think I'll try and post ...</td>\n",
       "      <td>[Poll] Is this ok?</td>\n",
       "      <td>Hey, /r/disneyland. I think I'll try and post ...</td>\n",
       "      <td>hey , /r/. i think i 'll try and post cool   p...</td>\n",
       "      <td>i i 'll and on here every once in a do you thi...</td>\n",
       "      <td>hey , /r/. I think I 'll try and post cool   p...</td>\n",
       "      <td>I I 'll and on here every once in a do you thi...</td>\n",
       "    </tr>\n",
       "    <tr>\n",
       "      <th>1</th>\n",
       "      <td>1</td>\n",
       "      <td>So, what's YOUR favorite land in Disneyland?</td>\n",
       "      <td>Favorite Land?</td>\n",
       "      <td>So, what's YOUR favorite land in Disneyland?Fa...</td>\n",
       "      <td>so , what 's your favorite land in ? favorite ...</td>\n",
       "      <td>so what 's your in</td>\n",
       "      <td>so , what be your favorite land in ? Favorite ...</td>\n",
       "      <td>so what be your in</td>\n",
       "    </tr>\n",
       "    <tr>\n",
       "      <th>2</th>\n",
       "      <td>1</td>\n",
       "      <td>Hey everyone! I don't know if you're allowed t...</td>\n",
       "      <td>Does anyone have any pictures from inside club...</td>\n",
       "      <td>Hey everyone! I don't know if you're allowed t...</td>\n",
       "      <td>hey everyone ! i do n't know if you 're allowe...</td>\n",
       "      <td>everyone i do n't if you 're to take in there ...</td>\n",
       "      <td>hey everyone ! I do n't know if you be allow t...</td>\n",
       "      <td>everyone I do n't if you be to take in there o...</td>\n",
       "    </tr>\n",
       "    <tr>\n",
       "      <th>3</th>\n",
       "      <td>1</td>\n",
       "      <td>I love Bert and Mary. I think it's something a...</td>\n",
       "      <td>Who is your favorite face character?</td>\n",
       "      <td>I love Bert and Mary. I think it's something a...</td>\n",
       "      <td>i love bert and mary . i think it 's something...</td>\n",
       "      <td>i and i it 's something about them being than ...</td>\n",
       "      <td>I love Bert and Mary . I think it be something...</td>\n",
       "      <td>I and I it be something about they be than or ...</td>\n",
       "    </tr>\n",
       "    <tr>\n",
       "      <th>4</th>\n",
       "      <td>1</td>\n",
       "      <td>I have an interview Friday, and I'd like to kn...</td>\n",
       "      <td>Does Disneyland drug test employees? (x-post f...</td>\n",
       "      <td>I have an interview Friday, and I'd like to kn...</td>\n",
       "      <td>i have an interview friday , and i 'd like to ...</td>\n",
       "      <td>i have an and i 'd to if before i do n't any i...</td>\n",
       "      <td>I have an interview Friday , and I would like ...</td>\n",
       "      <td>I have an and I would to if before I do n't an...</td>\n",
       "    </tr>\n",
       "  </tbody>\n",
       "</table>\n",
       "</div>"
      ],
      "text/plain": [
       "   mapped_subreddit                                               text  \\\n",
       "0                 1  Hey, /r/disneyland. I think I'll try and post ...   \n",
       "1                 1       So, what's YOUR favorite land in Disneyland?   \n",
       "2                 1  Hey everyone! I don't know if you're allowed t...   \n",
       "3                 1  I love Bert and Mary. I think it's something a...   \n",
       "4                 1  I have an interview Friday, and I'd like to kn...   \n",
       "\n",
       "                                               title  \\\n",
       "0                                 [Poll] Is this ok?   \n",
       "1                                     Favorite Land?   \n",
       "2  Does anyone have any pictures from inside club...   \n",
       "3               Who is your favorite face character?   \n",
       "4  Does Disneyland drug test employees? (x-post f...   \n",
       "\n",
       "                                                post  \\\n",
       "0  Hey, /r/disneyland. I think I'll try and post ...   \n",
       "1  So, what's YOUR favorite land in Disneyland?Fa...   \n",
       "2  Hey everyone! I don't know if you're allowed t...   \n",
       "3  I love Bert and Mary. I think it's something a...   \n",
       "4  I have an interview Friday, and I'd like to kn...   \n",
       "\n",
       "                                           tokenized  \\\n",
       "0  hey , /r/. i think i 'll try and post cool   p...   \n",
       "1  so , what 's your favorite land in ? favorite ...   \n",
       "2  hey everyone ! i do n't know if you 're allowe...   \n",
       "3  i love bert and mary . i think it 's something...   \n",
       "4  i have an interview friday , and i 'd like to ...   \n",
       "\n",
       "                                    tokenized_nostop  \\\n",
       "0  i i 'll and on here every once in a do you thi...   \n",
       "1                                 so what 's your in   \n",
       "2  everyone i do n't if you 're to take in there ...   \n",
       "3  i and i it 's something about them being than ...   \n",
       "4  i have an and i 'd to if before i do n't any i...   \n",
       "\n",
       "                                     tokenized_lemma  \\\n",
       "0  hey , /r/. I think I 'll try and post cool   p...   \n",
       "1  so , what be your favorite land in ? Favorite ...   \n",
       "2  hey everyone ! I do n't know if you be allow t...   \n",
       "3  I love Bert and Mary . I think it be something...   \n",
       "4  I have an interview Friday , and I would like ...   \n",
       "\n",
       "                              tokenized_lemma_nostop  \n",
       "0  I I 'll and on here every once in a do you thi...  \n",
       "1                                 so what be your in  \n",
       "2  everyone I do n't if you be to take in there o...  \n",
       "3  I and I it be something about they be than or ...  \n",
       "4  I have an and I would to if before I do n't an...  "
      ]
     },
     "execution_count": 3,
     "metadata": {},
     "output_type": "execute_result"
    }
   ],
   "source": [
    "# Bootstrapping universalstudios data \n",
    "\n",
    "# Concating 2000 universalstudios samples to the existing df\n",
    "df_bootstrapped = pd.concat([df_tokenized, df_tokenized[df_tokenized['mapped_subreddit']==0].sample(2000, replace=True)])\n",
    "df_bootstrapped.head()"
   ]
  },
  {
   "cell_type": "markdown",
   "id": "9a8b9e43-c062-4b35-94f4-21ad23446ecc",
   "metadata": {},
   "source": [
    "**Reason for utilizing bootstrapping**\n",
    "- Because of the imbalance of the data between 2 classes where Disney has almost 2 times more data than Universal, Bootstrapping is then implemented for increasing the universal data to be at the same level as Disney\n",
    "- Bootstrapping is done by randomly sampled 2000 rows from Universal subreddit and concat them to df_tokenized"
   ]
  },
  {
   "cell_type": "markdown",
   "id": "f20f5521-83a4-4da7-a3e9-10e3c54900b7",
   "metadata": {},
   "source": [
    "## Data Assigning "
   ]
  },
  {
   "cell_type": "markdown",
   "id": "44cc4bf7-29e7-41b3-860e-92264d855b42",
   "metadata": {},
   "source": [
    "**Reason for choosing tokenized_lemma column**\n",
    "- Even though tokenized_lemma_nostop would be the most suitable option, but once tested out with top words procedure, the outcome of the top word rank was not distinct for classification at all\n",
    "- As a result, tokenized_lemma is the chosen column, stop_words removal are applied individually later in the model"
   ]
  },
  {
   "cell_type": "code",
   "execution_count": 4,
   "id": "cc3b3328-fada-4de7-9ac6-741358b65f9f",
   "metadata": {},
   "outputs": [],
   "source": [
    "# Assign tokenized & lemmatized post to X and mapped subreddit to y\n",
    "X = df_tokenized['tokenized_lemma']\n",
    "y = df_tokenized['mapped_subreddit']"
   ]
  },
  {
   "cell_type": "code",
   "execution_count": 5,
   "id": "8407fca4-6268-4980-ae86-35d00b6149b6",
   "metadata": {},
   "outputs": [],
   "source": [
    "# Assign tokenized & lemmatized bootstrapped data to X_bootstrapped and mapped subreddit bootstrapped data to y bootstrapped\n",
    "X_bootstrapped = df_bootstrapped['tokenized_lemma']\n",
    "y_bootstrapped = df_bootstrapped['mapped_subreddit']"
   ]
  },
  {
   "cell_type": "markdown",
   "id": "1d92e045-5074-4cfa-9b73-eb35031ebf55",
   "metadata": {},
   "source": [
    "## Top Words: Post-Data Cleaning"
   ]
  },
  {
   "cell_type": "markdown",
   "id": "1b724ec0-e37b-45a7-87bb-05ebeeb4c897",
   "metadata": {},
   "source": [
    "- Another rank of top words are performed once again after the text data had been pre-processed. This is to see if stop words or target words have been removed, or whether the outcome of the rank has changed\n",
    "- Overall, target words are removed, however; some irrelevant words are still appear on the list after top words removal"
   ]
  },
  {
   "cell_type": "markdown",
   "id": "18724838-5c00-41d6-a600-6193c40d0113",
   "metadata": {},
   "source": [
    "### Diney: 1-gram Top Words"
   ]
  },
  {
   "cell_type": "code",
   "execution_count": 6,
   "id": "49552fbe-6d18-43fa-9b8a-bba4c03234ba",
   "metadata": {},
   "outputs": [
    {
     "data": {
      "text/html": [
       "<div>\n",
       "<style scoped>\n",
       "    .dataframe tbody tr th:only-of-type {\n",
       "        vertical-align: middle;\n",
       "    }\n",
       "\n",
       "    .dataframe tbody tr th {\n",
       "        vertical-align: top;\n",
       "    }\n",
       "\n",
       "    .dataframe thead th {\n",
       "        text-align: right;\n",
       "    }\n",
       "</style>\n",
       "<table border=\"1\" class=\"dataframe\">\n",
       "  <thead>\n",
       "    <tr style=\"text-align: right;\">\n",
       "      <th></th>\n",
       "      <th>Count</th>\n",
       "    </tr>\n",
       "  </thead>\n",
       "  <tbody>\n",
       "    <tr>\n",
       "      <th>park</th>\n",
       "      <td>2313</td>\n",
       "    </tr>\n",
       "    <tr>\n",
       "      <th>day</th>\n",
       "      <td>2083</td>\n",
       "    </tr>\n",
       "    <tr>\n",
       "      <th>time</th>\n",
       "      <td>1957</td>\n",
       "    </tr>\n",
       "    <tr>\n",
       "      <th>just</th>\n",
       "      <td>1710</td>\n",
       "    </tr>\n",
       "    <tr>\n",
       "      <th>know</th>\n",
       "      <td>1588</td>\n",
       "    </tr>\n",
       "    <tr>\n",
       "      <th>ride</th>\n",
       "      <td>1440</td>\n",
       "    </tr>\n",
       "    <tr>\n",
       "      <th>like</th>\n",
       "      <td>1332</td>\n",
       "    </tr>\n",
       "    <tr>\n",
       "      <th>want</th>\n",
       "      <td>1166</td>\n",
       "    </tr>\n",
       "    <tr>\n",
       "      <th>year</th>\n",
       "      <td>1103</td>\n",
       "    </tr>\n",
       "    <tr>\n",
       "      <th>pass</th>\n",
       "      <td>986</td>\n",
       "    </tr>\n",
       "    <tr>\n",
       "      <th>make</th>\n",
       "      <td>963</td>\n",
       "    </tr>\n",
       "    <tr>\n",
       "      <th>trip</th>\n",
       "      <td>919</td>\n",
       "    </tr>\n",
       "    <tr>\n",
       "      <th>think</th>\n",
       "      <td>886</td>\n",
       "    </tr>\n",
       "    <tr>\n",
       "      <th>good</th>\n",
       "      <td>813</td>\n",
       "    </tr>\n",
       "    <tr>\n",
       "      <th>really</th>\n",
       "      <td>774</td>\n",
       "    </tr>\n",
       "  </tbody>\n",
       "</table>\n",
       "</div>"
      ],
      "text/plain": [
       "        Count\n",
       "park     2313\n",
       "day      2083\n",
       "time     1957\n",
       "just     1710\n",
       "know     1588\n",
       "ride     1440\n",
       "like     1332\n",
       "want     1166\n",
       "year     1103\n",
       "pass      986\n",
       "make      963\n",
       "trip      919\n",
       "think     886\n",
       "good      813\n",
       "really    774"
      ]
     },
     "execution_count": 6,
     "metadata": {},
     "output_type": "execute_result"
    }
   ],
   "source": [
    "# Set up CountVectorizer with a parameter that removes stop_words\n",
    "cvec = CountVectorizer(stop_words='english')\n",
    "\n",
    "# Fit Disneyland's tokenized & lemmatized posts\n",
    "cvec.fit(df_tokenized.loc[df_tokenized['mapped_subreddit']==1]['tokenized_lemma'])\n",
    "\n",
    "# Transform Disneyland's tokenized & lemmatized posts\n",
    "disney_post_cvec = cvec.transform(df_tokenized.loc[df_tokenized['mapped_subreddit']==1]['tokenized_lemma'])\n",
    "\n",
    "# Change the transformed posts into a dense matrix, then creating a dataframe with the dense matrix with columns names which are the unique words presented in the data\n",
    "disney_cvec_df = pd.DataFrame(disney_post_cvec.todense(), columns=cvec.get_feature_names_out())\n",
    "\n",
    "# Create the dataframe that sorts the top 15 most occurences words\n",
    "disney_top_words = pd.DataFrame(disney_cvec_df.sum().sort_values(ascending=False).head(15), columns = ['Count'])\n",
    "disney_top_words"
   ]
  },
  {
   "cell_type": "markdown",
   "id": "d6a1c822-209c-434d-8b32-3c0a4688ee42",
   "metadata": {},
   "source": [
    "### Disney: 2-gram Top Words"
   ]
  },
  {
   "cell_type": "code",
   "execution_count": 7,
   "id": "dcccd524-131a-4f1f-b6f3-3bed98deade9",
   "metadata": {},
   "outputs": [
    {
     "data": {
      "text/html": [
       "<div>\n",
       "<style scoped>\n",
       "    .dataframe tbody tr th:only-of-type {\n",
       "        vertical-align: middle;\n",
       "    }\n",
       "\n",
       "    .dataframe tbody tr th {\n",
       "        vertical-align: top;\n",
       "    }\n",
       "\n",
       "    .dataframe thead th {\n",
       "        text-align: right;\n",
       "    }\n",
       "</style>\n",
       "<table border=\"1\" class=\"dataframe\">\n",
       "  <thead>\n",
       "    <tr style=\"text-align: right;\">\n",
       "      <th></th>\n",
       "      <th>Count</th>\n",
       "    </tr>\n",
       "  </thead>\n",
       "  <tbody>\n",
       "    <tr>\n",
       "      <th>cast member</th>\n",
       "      <td>340</td>\n",
       "    </tr>\n",
       "    <tr>\n",
       "      <th>annual pass</th>\n",
       "      <td>234</td>\n",
       "    </tr>\n",
       "    <tr>\n",
       "      <th>california adventure</th>\n",
       "      <td>219</td>\n",
       "    </tr>\n",
       "    <tr>\n",
       "      <th>fast pass</th>\n",
       "      <td>188</td>\n",
       "    </tr>\n",
       "    <tr>\n",
       "      <th>day park</th>\n",
       "      <td>181</td>\n",
       "    </tr>\n",
       "    <tr>\n",
       "      <th>year old</th>\n",
       "      <td>164</td>\n",
       "    </tr>\n",
       "    <tr>\n",
       "      <th>space mountain</th>\n",
       "      <td>160</td>\n",
       "    </tr>\n",
       "    <tr>\n",
       "      <th>park hopper</th>\n",
       "      <td>154</td>\n",
       "    </tr>\n",
       "    <tr>\n",
       "      <th>world color</th>\n",
       "      <td>153</td>\n",
       "    </tr>\n",
       "    <tr>\n",
       "      <th>halloween party</th>\n",
       "      <td>142</td>\n",
       "    </tr>\n",
       "    <tr>\n",
       "      <th>haunted mansion</th>\n",
       "      <td>141</td>\n",
       "    </tr>\n",
       "    <tr>\n",
       "      <th>feel like</th>\n",
       "      <td>134</td>\n",
       "    </tr>\n",
       "    <tr>\n",
       "      <th>thank advance</th>\n",
       "      <td>132</td>\n",
       "    </tr>\n",
       "    <tr>\n",
       "      <th>look like</th>\n",
       "      <td>123</td>\n",
       "    </tr>\n",
       "    <tr>\n",
       "      <th>star wars</th>\n",
       "      <td>113</td>\n",
       "    </tr>\n",
       "  </tbody>\n",
       "</table>\n",
       "</div>"
      ],
      "text/plain": [
       "                      Count\n",
       "cast member             340\n",
       "annual pass             234\n",
       "california adventure    219\n",
       "fast pass               188\n",
       "day park                181\n",
       "year old                164\n",
       "space mountain          160\n",
       "park hopper             154\n",
       "world color             153\n",
       "halloween party         142\n",
       "haunted mansion         141\n",
       "feel like               134\n",
       "thank advance           132\n",
       "look like               123\n",
       "star wars               113"
      ]
     },
     "execution_count": 7,
     "metadata": {},
     "output_type": "execute_result"
    }
   ],
   "source": [
    "# Set up CountVectorizer with a parameter that removes stop_words and consider only 2 adjecent words\n",
    "cvec_bigrams = CountVectorizer(ngram_range=(2, 2), stop_words='english')\n",
    "\n",
    "# Fit Disneyland's bigrammed tokenized & lemmatized posts\n",
    "cvec_bigrams.fit(df_tokenized.loc[df_tokenized['mapped_subreddit']==1]['tokenized_lemma'])\n",
    "\n",
    "# Transform Disneyland's bigrammed tokenized & lemmatized posts\n",
    "bigrams_cvec = cvec_bigrams.transform(df_tokenized.loc[df_tokenized['mapped_subreddit']==1]['tokenized_lemma'])\n",
    "\n",
    "# Change the transformed posts into a dense matrix, then creating a dataframe with the dense matrix with columns names which are the unique words presented in the data\n",
    "bigrams_df = pd.DataFrame(bigrams_cvec.todense(), columns=cvec_bigrams.get_feature_names_out())\n",
    "\n",
    "# Create the dataframe that sorts the top 15 most occurences words bigrammed words\n",
    "disney_top_biwords = pd.DataFrame(bigrams_df.sum().sort_values(ascending=False).head(15), columns = ['Count'])\n",
    "disney_top_biwords"
   ]
  },
  {
   "cell_type": "markdown",
   "id": "b3cfe9f8-9fc6-4bef-9c2c-535c6811461c",
   "metadata": {},
   "source": [
    "### Disney: 3-gram Top Words"
   ]
  },
  {
   "cell_type": "code",
   "execution_count": 8,
   "id": "08867800-f714-4ab4-9ddd-4e63038bdfad",
   "metadata": {},
   "outputs": [
    {
     "data": {
      "text/html": [
       "<div>\n",
       "<style scoped>\n",
       "    .dataframe tbody tr th:only-of-type {\n",
       "        vertical-align: middle;\n",
       "    }\n",
       "\n",
       "    .dataframe tbody tr th {\n",
       "        vertical-align: top;\n",
       "    }\n",
       "\n",
       "    .dataframe thead th {\n",
       "        text-align: right;\n",
       "    }\n",
       "</style>\n",
       "<table border=\"1\" class=\"dataframe\">\n",
       "  <thead>\n",
       "    <tr style=\"text-align: right;\">\n",
       "      <th></th>\n",
       "      <th>Count</th>\n",
       "    </tr>\n",
       "  </thead>\n",
       "  <tbody>\n",
       "    <tr>\n",
       "      <th>day park hopper</th>\n",
       "      <td>76</td>\n",
       "    </tr>\n",
       "    <tr>\n",
       "      <th>mickey halloween party</th>\n",
       "      <td>53</td>\n",
       "    </tr>\n",
       "    <tr>\n",
       "      <th>star wars land</th>\n",
       "      <td>39</td>\n",
       "    </tr>\n",
       "    <tr>\n",
       "      <th>radiator springs racers</th>\n",
       "      <td>32</td>\n",
       "    </tr>\n",
       "    <tr>\n",
       "      <th>park hopper ticket</th>\n",
       "      <td>29</td>\n",
       "    </tr>\n",
       "    <tr>\n",
       "      <th>want make sure</th>\n",
       "      <td>27</td>\n",
       "    </tr>\n",
       "    <tr>\n",
       "      <th>annual pass holder</th>\n",
       "      <td>26</td>\n",
       "    </tr>\n",
       "    <tr>\n",
       "      <th>new orleans square</th>\n",
       "      <td>24</td>\n",
       "    </tr>\n",
       "    <tr>\n",
       "      <th>single rider line</th>\n",
       "      <td>24</td>\n",
       "    </tr>\n",
       "    <tr>\n",
       "      <th>park hopper pass</th>\n",
       "      <td>23</td>\n",
       "    </tr>\n",
       "    <tr>\n",
       "      <th>happy place earth</th>\n",
       "      <td>21</td>\n",
       "    </tr>\n",
       "    <tr>\n",
       "      <th>big thunder mountain</th>\n",
       "      <td>20</td>\n",
       "    </tr>\n",
       "    <tr>\n",
       "      <th>thank advance help</th>\n",
       "      <td>20</td>\n",
       "    </tr>\n",
       "    <tr>\n",
       "      <th>stay grand californian</th>\n",
       "      <td>18</td>\n",
       "    </tr>\n",
       "    <tr>\n",
       "      <th>halloween party ticket</th>\n",
       "      <td>18</td>\n",
       "    </tr>\n",
       "  </tbody>\n",
       "</table>\n",
       "</div>"
      ],
      "text/plain": [
       "                         Count\n",
       "day park hopper             76\n",
       "mickey halloween party      53\n",
       "star wars land              39\n",
       "radiator springs racers     32\n",
       "park hopper ticket          29\n",
       "want make sure              27\n",
       "annual pass holder          26\n",
       "new orleans square          24\n",
       "single rider line           24\n",
       "park hopper pass            23\n",
       "happy place earth           21\n",
       "big thunder mountain        20\n",
       "thank advance help          20\n",
       "stay grand californian      18\n",
       "halloween party ticket      18"
      ]
     },
     "execution_count": 8,
     "metadata": {},
     "output_type": "execute_result"
    }
   ],
   "source": [
    "# Set up CountVectorizer with a parameter that removes stop_words and consider only 3 adjacent words\n",
    "cvec_trigrams = CountVectorizer(ngram_range=(3, 3), stop_words='english')\n",
    "\n",
    "# Fit Disneyland's trigrammed tokenized & lemmatized posts\n",
    "cvec_trigrams.fit(df_tokenized.loc[df_tokenized['mapped_subreddit']==1]['tokenized_lemma'])\n",
    "\n",
    "# Transform Disneyland's bigrammed tokenized & lemmatized posts\n",
    "trigrams_cvec = cvec_trigrams.transform(df_tokenized.loc[df_tokenized['mapped_subreddit']==1]['tokenized_lemma'])\n",
    "\n",
    "# Change the transformed posts into a dense matrix, then creating a dataframe with the dense matrix with columns names which are the unique words presented in the data\n",
    "trigrams_df = pd.DataFrame(trigrams_cvec.todense(), columns=cvec_trigrams.get_feature_names_out())\n",
    "\n",
    "# Create the dataframe that sorts the top 15 most occurences words trigrammed words\n",
    "disney_top_triwords = pd.DataFrame(trigrams_df.sum().sort_values(ascending=False).head(15), columns = ['Count'])\n",
    "disney_top_triwords"
   ]
  },
  {
   "cell_type": "markdown",
   "id": "409b54cf-bb8a-4c70-8c46-a136c885e3d4",
   "metadata": {},
   "source": [
    "### Universal: 1-gram Top Words"
   ]
  },
  {
   "cell_type": "code",
   "execution_count": 9,
   "id": "669a5ee5-6066-4472-8a5a-edcbf1b732ed",
   "metadata": {},
   "outputs": [
    {
     "data": {
      "text/html": [
       "<div>\n",
       "<style scoped>\n",
       "    .dataframe tbody tr th:only-of-type {\n",
       "        vertical-align: middle;\n",
       "    }\n",
       "\n",
       "    .dataframe tbody tr th {\n",
       "        vertical-align: top;\n",
       "    }\n",
       "\n",
       "    .dataframe thead th {\n",
       "        text-align: right;\n",
       "    }\n",
       "</style>\n",
       "<table border=\"1\" class=\"dataframe\">\n",
       "  <thead>\n",
       "    <tr style=\"text-align: right;\">\n",
       "      <th></th>\n",
       "      <th>Count</th>\n",
       "    </tr>\n",
       "  </thead>\n",
       "  <tbody>\n",
       "    <tr>\n",
       "      <th>park</th>\n",
       "      <td>1043</td>\n",
       "    </tr>\n",
       "    <tr>\n",
       "      <th>day</th>\n",
       "      <td>941</td>\n",
       "    </tr>\n",
       "    <tr>\n",
       "      <th>ride</th>\n",
       "      <td>880</td>\n",
       "    </tr>\n",
       "    <tr>\n",
       "      <th>pass</th>\n",
       "      <td>785</td>\n",
       "    </tr>\n",
       "    <tr>\n",
       "      <th>time</th>\n",
       "      <td>710</td>\n",
       "    </tr>\n",
       "    <tr>\n",
       "      <th>ticket</th>\n",
       "      <td>629</td>\n",
       "    </tr>\n",
       "    <tr>\n",
       "      <th>know</th>\n",
       "      <td>510</td>\n",
       "    </tr>\n",
       "    <tr>\n",
       "      <th>just</th>\n",
       "      <td>506</td>\n",
       "    </tr>\n",
       "    <tr>\n",
       "      <th>like</th>\n",
       "      <td>456</td>\n",
       "    </tr>\n",
       "    <tr>\n",
       "      <th>want</th>\n",
       "      <td>433</td>\n",
       "    </tr>\n",
       "    <tr>\n",
       "      <th>hollywood</th>\n",
       "      <td>430</td>\n",
       "    </tr>\n",
       "    <tr>\n",
       "      <th>express</th>\n",
       "      <td>400</td>\n",
       "    </tr>\n",
       "    <tr>\n",
       "      <th>orlando</th>\n",
       "      <td>362</td>\n",
       "    </tr>\n",
       "    <tr>\n",
       "      <th>plan</th>\n",
       "      <td>337</td>\n",
       "    </tr>\n",
       "    <tr>\n",
       "      <th>think</th>\n",
       "      <td>312</td>\n",
       "    </tr>\n",
       "  </tbody>\n",
       "</table>\n",
       "</div>"
      ],
      "text/plain": [
       "           Count\n",
       "park        1043\n",
       "day          941\n",
       "ride         880\n",
       "pass         785\n",
       "time         710\n",
       "ticket       629\n",
       "know         510\n",
       "just         506\n",
       "like         456\n",
       "want         433\n",
       "hollywood    430\n",
       "express      400\n",
       "orlando      362\n",
       "plan         337\n",
       "think        312"
      ]
     },
     "execution_count": 9,
     "metadata": {},
     "output_type": "execute_result"
    }
   ],
   "source": [
    "# Set up CountVectorizer with a parameter that removes stop_words \n",
    "cvec = CountVectorizer(stop_words='english')\n",
    "\n",
    "# Fit Universalstudio's tokenized & lemmatized posts\n",
    "cvec.fit(df_tokenized.loc[df_tokenized['mapped_subreddit']==0]['tokenized_lemma'])\n",
    "\n",
    "# Transform Universalstudio's tokenized & lemmatized posts\n",
    "universal_post_cvec = cvec.transform(df_tokenized.loc[df_tokenized['mapped_subreddit']==0]['tokenized_lemma'])\n",
    "\n",
    "# Change the transformed posts into a dense matrix, then creating a dataframe with the dense matrix with columns names which are the unique words presented in the data\n",
    "universal_cvec_df = pd.DataFrame(universal_post_cvec.todense(), columns=cvec.get_feature_names_out())\n",
    "\n",
    "# Create the dataframe that sorts the top 15 most occurences words trigrammed words\n",
    "universal_top_words = pd.DataFrame(universal_cvec_df.sum().sort_values(ascending=False).head(15), columns = ['Count'])\n",
    "universal_top_words"
   ]
  },
  {
   "cell_type": "markdown",
   "id": "536245c7-701c-494d-a080-fe7b8826bbe2",
   "metadata": {},
   "source": [
    "### Universal: 2-gram Top Words"
   ]
  },
  {
   "cell_type": "code",
   "execution_count": 10,
   "id": "b04b50b2-bca1-44ec-add4-b6c0a90adc38",
   "metadata": {},
   "outputs": [
    {
     "data": {
      "text/html": [
       "<div>\n",
       "<style scoped>\n",
       "    .dataframe tbody tr th:only-of-type {\n",
       "        vertical-align: middle;\n",
       "    }\n",
       "\n",
       "    .dataframe tbody tr th {\n",
       "        vertical-align: top;\n",
       "    }\n",
       "\n",
       "    .dataframe thead th {\n",
       "        text-align: right;\n",
       "    }\n",
       "</style>\n",
       "<table border=\"1\" class=\"dataframe\">\n",
       "  <thead>\n",
       "    <tr style=\"text-align: right;\">\n",
       "      <th></th>\n",
       "      <th>Count</th>\n",
       "    </tr>\n",
       "  </thead>\n",
       "  <tbody>\n",
       "    <tr>\n",
       "      <th>express pass</th>\n",
       "      <td>241</td>\n",
       "    </tr>\n",
       "    <tr>\n",
       "      <th>harry potter</th>\n",
       "      <td>214</td>\n",
       "    </tr>\n",
       "    <tr>\n",
       "      <th>nintendo world</th>\n",
       "      <td>128</td>\n",
       "    </tr>\n",
       "    <tr>\n",
       "      <th>annual pass</th>\n",
       "      <td>125</td>\n",
       "    </tr>\n",
       "    <tr>\n",
       "      <th>studios hollywood</th>\n",
       "      <td>115</td>\n",
       "    </tr>\n",
       "    <tr>\n",
       "      <th>super nintendo</th>\n",
       "      <td>104</td>\n",
       "    </tr>\n",
       "    <tr>\n",
       "      <th>theme park</th>\n",
       "      <td>84</td>\n",
       "    </tr>\n",
       "    <tr>\n",
       "      <th>wait time</th>\n",
       "      <td>71</td>\n",
       "    </tr>\n",
       "    <tr>\n",
       "      <th>buy ticket</th>\n",
       "      <td>70</td>\n",
       "    </tr>\n",
       "    <tr>\n",
       "      <th>day park</th>\n",
       "      <td>65</td>\n",
       "    </tr>\n",
       "    <tr>\n",
       "      <th>halloween horror</th>\n",
       "      <td>59</td>\n",
       "    </tr>\n",
       "    <tr>\n",
       "      <th>day ticket</th>\n",
       "      <td>58</td>\n",
       "    </tr>\n",
       "    <tr>\n",
       "      <th>thank advance</th>\n",
       "      <td>56</td>\n",
       "    </tr>\n",
       "    <tr>\n",
       "      <th>jurassic park</th>\n",
       "      <td>53</td>\n",
       "    </tr>\n",
       "    <tr>\n",
       "      <th>horror nights</th>\n",
       "      <td>53</td>\n",
       "    </tr>\n",
       "  </tbody>\n",
       "</table>\n",
       "</div>"
      ],
      "text/plain": [
       "                   Count\n",
       "express pass         241\n",
       "harry potter         214\n",
       "nintendo world       128\n",
       "annual pass          125\n",
       "studios hollywood    115\n",
       "super nintendo       104\n",
       "theme park            84\n",
       "wait time             71\n",
       "buy ticket            70\n",
       "day park              65\n",
       "halloween horror      59\n",
       "day ticket            58\n",
       "thank advance         56\n",
       "jurassic park         53\n",
       "horror nights         53"
      ]
     },
     "execution_count": 10,
     "metadata": {},
     "output_type": "execute_result"
    }
   ],
   "source": [
    "# Set up CountVectorizer with a parameter that removes stop_words and consider only 2 adjacent words\n",
    "cvec_bigrams = CountVectorizer(ngram_range=(2, 2), stop_words='english')\n",
    "\n",
    "# Fit Universalstudio's tokenized & lemmatized posts\n",
    "cvec_bigrams.fit(df_tokenized.loc[df_tokenized['mapped_subreddit']==0]['tokenized_lemma'])\n",
    "\n",
    "# Transform Universalstudio's tokenized & lemmatized posts\n",
    "bigrams_cvec = cvec_bigrams.transform(df_tokenized.loc[df_tokenized['mapped_subreddit']==0]['tokenized_lemma'])\n",
    "\n",
    "# Change the transformed posts into a dense matrix, then creating a dataframe with the dense matrix with columns names which are the unique words presented in the data\n",
    "bigrams_df = pd.DataFrame(bigrams_cvec.todense(), columns=cvec_bigrams.get_feature_names_out())\n",
    "\n",
    "# Create the dataframe that sorts the top 15 most occurences words bigrammed words\n",
    "universal_top_biwords = pd.DataFrame(bigrams_df.sum().sort_values(ascending=False).head(15), columns = ['Count'])\n",
    "universal_top_biwords"
   ]
  },
  {
   "cell_type": "markdown",
   "id": "c68c5fe6-e70d-4c48-aaa2-fdede5a26169",
   "metadata": {},
   "source": [
    "### Universal: 3-gram Top Words"
   ]
  },
  {
   "cell_type": "code",
   "execution_count": 11,
   "id": "bea3e462-7c81-416a-b5bb-f35ffd881537",
   "metadata": {},
   "outputs": [
    {
     "data": {
      "text/html": [
       "<div>\n",
       "<style scoped>\n",
       "    .dataframe tbody tr th:only-of-type {\n",
       "        vertical-align: middle;\n",
       "    }\n",
       "\n",
       "    .dataframe tbody tr th {\n",
       "        vertical-align: top;\n",
       "    }\n",
       "\n",
       "    .dataframe thead th {\n",
       "        text-align: right;\n",
       "    }\n",
       "</style>\n",
       "<table border=\"1\" class=\"dataframe\">\n",
       "  <thead>\n",
       "    <tr style=\"text-align: right;\">\n",
       "      <th></th>\n",
       "      <th>Count</th>\n",
       "    </tr>\n",
       "  </thead>\n",
       "  <tbody>\n",
       "    <tr>\n",
       "      <th>super nintendo world</th>\n",
       "      <td>95</td>\n",
       "    </tr>\n",
       "    <tr>\n",
       "      <th>halloween horror nights</th>\n",
       "      <td>36</td>\n",
       "    </tr>\n",
       "    <tr>\n",
       "      <th>harry potter world</th>\n",
       "      <td>28</td>\n",
       "    </tr>\n",
       "    <tr>\n",
       "      <th>day park park</th>\n",
       "      <td>22</td>\n",
       "    </tr>\n",
       "    <tr>\n",
       "      <th>halloween horror night</th>\n",
       "      <td>22</td>\n",
       "    </tr>\n",
       "    <tr>\n",
       "      <th>buy express pass</th>\n",
       "      <td>18</td>\n",
       "    </tr>\n",
       "    <tr>\n",
       "      <th>jurassic park ride</th>\n",
       "      <td>18</td>\n",
       "    </tr>\n",
       "    <tr>\n",
       "      <th>harry potter fan</th>\n",
       "      <td>16</td>\n",
       "    </tr>\n",
       "    <tr>\n",
       "      <th>world harry potter</th>\n",
       "      <td>15</td>\n",
       "    </tr>\n",
       "    <tr>\n",
       "      <th>harry potter ride</th>\n",
       "      <td>15</td>\n",
       "    </tr>\n",
       "    <tr>\n",
       "      <th>express pass worth</th>\n",
       "      <td>14</td>\n",
       "    </tr>\n",
       "    <tr>\n",
       "      <th>park park ticket</th>\n",
       "      <td>14</td>\n",
       "    </tr>\n",
       "    <tr>\n",
       "      <th>single rider line</th>\n",
       "      <td>13</td>\n",
       "    </tr>\n",
       "    <tr>\n",
       "      <th>jurassic world ride</th>\n",
       "      <td>13</td>\n",
       "    </tr>\n",
       "    <tr>\n",
       "      <th>super mario world</th>\n",
       "      <td>11</td>\n",
       "    </tr>\n",
       "  </tbody>\n",
       "</table>\n",
       "</div>"
      ],
      "text/plain": [
       "                         Count\n",
       "super nintendo world        95\n",
       "halloween horror nights     36\n",
       "harry potter world          28\n",
       "day park park               22\n",
       "halloween horror night      22\n",
       "buy express pass            18\n",
       "jurassic park ride          18\n",
       "harry potter fan            16\n",
       "world harry potter          15\n",
       "harry potter ride           15\n",
       "express pass worth          14\n",
       "park park ticket            14\n",
       "single rider line           13\n",
       "jurassic world ride         13\n",
       "super mario world           11"
      ]
     },
     "execution_count": 11,
     "metadata": {},
     "output_type": "execute_result"
    }
   ],
   "source": [
    "# Set up CountVectorizer with a parameter that removes stop_words and consider only 3 adjacent words\n",
    "cvec_trigrams = CountVectorizer(ngram_range=(3, 3), stop_words='english')\n",
    "\n",
    "# Fit Universalstudio's tokenized & lemmatized posts\n",
    "cvec_trigrams.fit(df_tokenized.loc[df_tokenized['mapped_subreddit']==0]['tokenized_lemma'])\n",
    "\n",
    "# Transform Universalstudio's tokenized & lemmatized posts\n",
    "trigrams_cvec = cvec_trigrams.transform(df_tokenized.loc[df_tokenized['mapped_subreddit']==0]['tokenized_lemma'])\n",
    "\n",
    "# Change the transformed posts into a dense matrix, then creating a dataframe with the dense matrix with columns names which are the unique words presented in the data\n",
    "trigrams_df = pd.DataFrame(trigrams_cvec.todense(), columns=cvec_trigrams.get_feature_names_out())\n",
    "\n",
    "# Create the dataframe that sorts the top 15 most occurences words trigrammed words\n",
    "universal_top_triwords = pd.DataFrame(trigrams_df.sum().sort_values(ascending=False).head(15), columns = ['Count'])\n",
    "universal_top_triwords"
   ]
  },
  {
   "cell_type": "markdown",
   "id": "a8245cf9-bda5-4f2a-8983-398f4f5b70a2",
   "metadata": {},
   "source": [
    "## Training and Testing Data Splitting"
   ]
  },
  {
   "cell_type": "code",
   "execution_count": 12,
   "id": "ddb7d132-8a49-4812-9d74-2ba87665cb8d",
   "metadata": {},
   "outputs": [],
   "source": [
    "# Split the data into the training and testing sets.\n",
    "X_train, X_test, y_train, y_test = train_test_split(X,\n",
    "                                                    y,\n",
    "                                                    test_size=0.33,\n",
    "                                                    stratify=y,\n",
    "                                                    random_state=42)"
   ]
  },
  {
   "cell_type": "code",
   "execution_count": 13,
   "id": "00ac8d3c-f7a0-41a5-9584-1945f31b984e",
   "metadata": {},
   "outputs": [],
   "source": [
    "# Split the bootstrapped data into the training and testing sets.\n",
    "X_train_boot, X_test_boot, y_train_boot, y_test_boot = train_test_split(X_bootstrapped,\n",
    "                                                    y_bootstrapped,\n",
    "                                                    test_size=0.33,\n",
    "                                                    random_state=42)"
   ]
  },
  {
   "cell_type": "markdown",
   "id": "f942995d-80d4-4bae-bc91-0657505e3480",
   "metadata": {},
   "source": [
    "## Baseline Accuracy"
   ]
  },
  {
   "cell_type": "code",
   "execution_count": 88,
   "id": "3d973fdc-d424-4ac6-aa3f-6c2fed4358c0",
   "metadata": {},
   "outputs": [
    {
     "data": {
      "text/plain": [
       "mapped_subreddit\n",
       "1    0.72\n",
       "0    0.28\n",
       "Name: proportion, dtype: float64"
      ]
     },
     "execution_count": 88,
     "metadata": {},
     "output_type": "execute_result"
    }
   ],
   "source": [
    "# See the distribution of normalized data and baseline accuracy\n",
    "y.value_counts(normalize=True).round(2)"
   ]
  },
  {
   "cell_type": "code",
   "execution_count": 89,
   "id": "08485ee6-1275-46b4-b8ba-4b25d2178393",
   "metadata": {},
   "outputs": [
    {
     "data": {
      "text/plain": [
       "mapped_subreddit\n",
       "1    0.52\n",
       "0    0.48\n",
       "Name: proportion, dtype: float64"
      ]
     },
     "execution_count": 89,
     "metadata": {},
     "output_type": "execute_result"
    }
   ],
   "source": [
    "# See the distribution of normalized bootstrapped data and baseline accuracy\n",
    "y_bootstrapped.value_counts(normalize=True).round(2)"
   ]
  },
  {
   "cell_type": "markdown",
   "id": "64727c64-a959-49d0-9268-18b458492a2a",
   "metadata": {},
   "source": [
    "## Model1: CountVectorizer + Logistic Regression (Original)"
   ]
  },
  {
   "cell_type": "code",
   "execution_count": 16,
   "id": "0087e886-1363-4ff2-a112-e7b66fe9d502",
   "metadata": {},
   "outputs": [],
   "source": [
    "# Set up the pipeline of CountVecotizer and Logistic Regression combined with parameters obtained from GridSearch in model2\n",
    "pipe = Pipeline([\n",
    "    ('cvec', CountVectorizer(max_features=5000, max_df=0.95, ngram_range=(1, 1), stop_words='english')),\n",
    "    ('logreg', LogisticRegression(C=1, solver='liblinear'))\n",
    "])"
   ]
  },
  {
   "cell_type": "code",
   "execution_count": 17,
   "id": "a32d8243-f1ab-4c4a-94d2-104d5c7de2d1",
   "metadata": {},
   "outputs": [
    {
     "data": {
      "text/html": [
       "<style>#sk-container-id-1 {color: black;}#sk-container-id-1 pre{padding: 0;}#sk-container-id-1 div.sk-toggleable {background-color: white;}#sk-container-id-1 label.sk-toggleable__label {cursor: pointer;display: block;width: 100%;margin-bottom: 0;padding: 0.3em;box-sizing: border-box;text-align: center;}#sk-container-id-1 label.sk-toggleable__label-arrow:before {content: \"▸\";float: left;margin-right: 0.25em;color: #696969;}#sk-container-id-1 label.sk-toggleable__label-arrow:hover:before {color: black;}#sk-container-id-1 div.sk-estimator:hover label.sk-toggleable__label-arrow:before {color: black;}#sk-container-id-1 div.sk-toggleable__content {max-height: 0;max-width: 0;overflow: hidden;text-align: left;background-color: #f0f8ff;}#sk-container-id-1 div.sk-toggleable__content pre {margin: 0.2em;color: black;border-radius: 0.25em;background-color: #f0f8ff;}#sk-container-id-1 input.sk-toggleable__control:checked~div.sk-toggleable__content {max-height: 200px;max-width: 100%;overflow: auto;}#sk-container-id-1 input.sk-toggleable__control:checked~label.sk-toggleable__label-arrow:before {content: \"▾\";}#sk-container-id-1 div.sk-estimator input.sk-toggleable__control:checked~label.sk-toggleable__label {background-color: #d4ebff;}#sk-container-id-1 div.sk-label input.sk-toggleable__control:checked~label.sk-toggleable__label {background-color: #d4ebff;}#sk-container-id-1 input.sk-hidden--visually {border: 0;clip: rect(1px 1px 1px 1px);clip: rect(1px, 1px, 1px, 1px);height: 1px;margin: -1px;overflow: hidden;padding: 0;position: absolute;width: 1px;}#sk-container-id-1 div.sk-estimator {font-family: monospace;background-color: #f0f8ff;border: 1px dotted black;border-radius: 0.25em;box-sizing: border-box;margin-bottom: 0.5em;}#sk-container-id-1 div.sk-estimator:hover {background-color: #d4ebff;}#sk-container-id-1 div.sk-parallel-item::after {content: \"\";width: 100%;border-bottom: 1px solid gray;flex-grow: 1;}#sk-container-id-1 div.sk-label:hover label.sk-toggleable__label {background-color: #d4ebff;}#sk-container-id-1 div.sk-serial::before {content: \"\";position: absolute;border-left: 1px solid gray;box-sizing: border-box;top: 0;bottom: 0;left: 50%;z-index: 0;}#sk-container-id-1 div.sk-serial {display: flex;flex-direction: column;align-items: center;background-color: white;padding-right: 0.2em;padding-left: 0.2em;position: relative;}#sk-container-id-1 div.sk-item {position: relative;z-index: 1;}#sk-container-id-1 div.sk-parallel {display: flex;align-items: stretch;justify-content: center;background-color: white;position: relative;}#sk-container-id-1 div.sk-item::before, #sk-container-id-1 div.sk-parallel-item::before {content: \"\";position: absolute;border-left: 1px solid gray;box-sizing: border-box;top: 0;bottom: 0;left: 50%;z-index: -1;}#sk-container-id-1 div.sk-parallel-item {display: flex;flex-direction: column;z-index: 1;position: relative;background-color: white;}#sk-container-id-1 div.sk-parallel-item:first-child::after {align-self: flex-end;width: 50%;}#sk-container-id-1 div.sk-parallel-item:last-child::after {align-self: flex-start;width: 50%;}#sk-container-id-1 div.sk-parallel-item:only-child::after {width: 0;}#sk-container-id-1 div.sk-dashed-wrapped {border: 1px dashed gray;margin: 0 0.4em 0.5em 0.4em;box-sizing: border-box;padding-bottom: 0.4em;background-color: white;}#sk-container-id-1 div.sk-label label {font-family: monospace;font-weight: bold;display: inline-block;line-height: 1.2em;}#sk-container-id-1 div.sk-label-container {text-align: center;}#sk-container-id-1 div.sk-container {/* jupyter's `normalize.less` sets `[hidden] { display: none; }` but bootstrap.min.css set `[hidden] { display: none !important; }` so we also need the `!important` here to be able to override the default hidden behavior on the sphinx rendered scikit-learn.org. See: https://github.com/scikit-learn/scikit-learn/issues/21755 */display: inline-block !important;position: relative;}#sk-container-id-1 div.sk-text-repr-fallback {display: none;}</style><div id=\"sk-container-id-1\" class=\"sk-top-container\"><div class=\"sk-text-repr-fallback\"><pre>Pipeline(steps=[(&#x27;cvec&#x27;,\n",
       "                 CountVectorizer(max_df=0.95, max_features=5000,\n",
       "                                 stop_words=&#x27;english&#x27;)),\n",
       "                (&#x27;logreg&#x27;, LogisticRegression(C=1, solver=&#x27;liblinear&#x27;))])</pre><b>In a Jupyter environment, please rerun this cell to show the HTML representation or trust the notebook. <br />On GitHub, the HTML representation is unable to render, please try loading this page with nbviewer.org.</b></div><div class=\"sk-container\" hidden><div class=\"sk-item sk-dashed-wrapped\"><div class=\"sk-label-container\"><div class=\"sk-label sk-toggleable\"><input class=\"sk-toggleable__control sk-hidden--visually\" id=\"sk-estimator-id-1\" type=\"checkbox\" ><label for=\"sk-estimator-id-1\" class=\"sk-toggleable__label sk-toggleable__label-arrow\">Pipeline</label><div class=\"sk-toggleable__content\"><pre>Pipeline(steps=[(&#x27;cvec&#x27;,\n",
       "                 CountVectorizer(max_df=0.95, max_features=5000,\n",
       "                                 stop_words=&#x27;english&#x27;)),\n",
       "                (&#x27;logreg&#x27;, LogisticRegression(C=1, solver=&#x27;liblinear&#x27;))])</pre></div></div></div><div class=\"sk-serial\"><div class=\"sk-item\"><div class=\"sk-estimator sk-toggleable\"><input class=\"sk-toggleable__control sk-hidden--visually\" id=\"sk-estimator-id-2\" type=\"checkbox\" ><label for=\"sk-estimator-id-2\" class=\"sk-toggleable__label sk-toggleable__label-arrow\">CountVectorizer</label><div class=\"sk-toggleable__content\"><pre>CountVectorizer(max_df=0.95, max_features=5000, stop_words=&#x27;english&#x27;)</pre></div></div></div><div class=\"sk-item\"><div class=\"sk-estimator sk-toggleable\"><input class=\"sk-toggleable__control sk-hidden--visually\" id=\"sk-estimator-id-3\" type=\"checkbox\" ><label for=\"sk-estimator-id-3\" class=\"sk-toggleable__label sk-toggleable__label-arrow\">LogisticRegression</label><div class=\"sk-toggleable__content\"><pre>LogisticRegression(C=1, solver=&#x27;liblinear&#x27;)</pre></div></div></div></div></div></div></div>"
      ],
      "text/plain": [
       "Pipeline(steps=[('cvec',\n",
       "                 CountVectorizer(max_df=0.95, max_features=5000,\n",
       "                                 stop_words='english')),\n",
       "                ('logreg', LogisticRegression(C=1, solver='liblinear'))])"
      ]
     },
     "execution_count": 17,
     "metadata": {},
     "output_type": "execute_result"
    }
   ],
   "source": [
    "# Fit the pipeline to Training data\n",
    "pipe.fit(X_train, y_train)"
   ]
  },
  {
   "cell_type": "code",
   "execution_count": 18,
   "id": "ccb1a2de-6965-4fa0-ae22-5da706738ced",
   "metadata": {},
   "outputs": [
    {
     "data": {
      "text/plain": [
       "0.99"
      ]
     },
     "execution_count": 18,
     "metadata": {},
     "output_type": "execute_result"
    }
   ],
   "source": [
    "# Retrieve the accuracy score of Training data\n",
    "pipe.score(X_train, y_train).round(2)"
   ]
  },
  {
   "cell_type": "code",
   "execution_count": 19,
   "id": "c84709a6-1001-4e94-b29d-c6981ec2fc03",
   "metadata": {},
   "outputs": [
    {
     "data": {
      "text/plain": [
       "0.91"
      ]
     },
     "execution_count": 19,
     "metadata": {},
     "output_type": "execute_result"
    }
   ],
   "source": [
    "# Retrieve the accuracy score of Testing data\n",
    "pipe.score(X_test, y_test).round(2)"
   ]
  },
  {
   "cell_type": "code",
   "execution_count": 20,
   "id": "62eeab92-9782-45ec-9af7-b398a9c5e1e7",
   "metadata": {},
   "outputs": [
    {
     "data": {
      "image/png": "[encoded data removed]",
      "text/plain": [
       "<Figure size 640x480 with 2 Axes>"
      ]
     },
     "metadata": {},
     "output_type": "display_data"
    }
   ],
   "source": [
    "# Get predictions of Testing data\n",
    "predictions1 = pipe.predict(X_test)\n",
    "\n",
    "# Set up confusion matrix\n",
    "dist = ConfusionMatrixDisplay(confusion_matrix(y_test, predictions1),\n",
    "                              display_labels=['Universal', 'Disney'])\n",
    "dist.plot();"
   ]
  },
  {
   "cell_type": "code",
   "execution_count": 21,
   "id": "85cd5836-1c81-403d-9257-b9e9dbd9dd65",
   "metadata": {},
   "outputs": [
    {
     "name": "stdout",
     "output_type": "stream",
     "text": [
      "True Negatives :  372\n",
      "False Positives :  124\n",
      "False Negatives :  40\n",
      "True Positives :  1233\n"
     ]
    }
   ],
   "source": [
    "# Set up the confusion matrix and extract individual score elements\n",
    "\n",
    "tn1, fp1, fn1, tp1 = confusion_matrix(y_test, predictions1).ravel()\n",
    "print(\"True Negatives : \",tn1)\n",
    "print(\"False Positives : \",fp1)\n",
    "print(\"False Negatives : \", fn1) \n",
    "print(\"True Positives : \", tp1)"
   ]
  },
  {
   "cell_type": "code",
   "execution_count": 22,
   "id": "f4bfc156-4ad9-49e6-9da6-b4d486182ce9",
   "metadata": {},
   "outputs": [
    {
     "name": "stdout",
     "output_type": "stream",
     "text": [
      "Sensitivity:  0.97\n"
     ]
    }
   ],
   "source": [
    "# Obtain Sensitivity score\n",
    "print('Sensitivity: ', (tp1/(tp1+fn1)).round(2))"
   ]
  },
  {
   "cell_type": "code",
   "execution_count": 23,
   "id": "d7548968-e989-4552-a0d6-8885e9678e41",
   "metadata": {},
   "outputs": [
    {
     "name": "stdout",
     "output_type": "stream",
     "text": [
      "Specificity:  0.75\n"
     ]
    }
   ],
   "source": [
    "# Obtain Specificity score\n",
    "print('Specificity: ', (tn1/(tn1+fp1)).round(2))"
   ]
  },
  {
   "cell_type": "code",
   "execution_count": 24,
   "id": "d39e6250-f236-4e5d-83f0-e6584c140d73",
   "metadata": {},
   "outputs": [
    {
     "name": "stdout",
     "output_type": "stream",
     "text": [
      "              precision    recall  f1-score   support\n",
      "\n",
      "           0       0.90      0.75      0.82       496\n",
      "           1       0.91      0.97      0.94      1273\n",
      "\n",
      "    accuracy                           0.91      1769\n",
      "   macro avg       0.91      0.86      0.88      1769\n",
      "weighted avg       0.91      0.91      0.90      1769\n",
      "\n"
     ]
    }
   ],
   "source": [
    "# Set up classification report\n",
    "print(classification_report(y_test, predictions1))"
   ]
  },
  {
   "cell_type": "code",
   "execution_count": 25,
   "id": "976499a5-9c91-4d1b-a025-c9f9c2c95030",
   "metadata": {},
   "outputs": [
    {
     "name": "stdout",
     "output_type": "stream",
     "text": [
      "      true  pred                                               post\n",
      "3907     0     1  decide to head over this weekend for Father 's...\n",
      "4617     0     1  out of boredom , I be read an article about se...\n",
      "3952     0     1  for I , it be always to be a skipper on Jake '...\n",
      "4871     0     1  I be a Travel Nurse currently station at Talla...\n",
      "3297     1     0  basically what the title say ! last weekend I ...\n",
      "...    ...   ...                                                ...\n",
      "1453     1     0  pretty much as the title state . I have try on...\n",
      "4135     0     1  my fiance and I be gon na be in Florida the we...\n",
      "1300     1     0  I and my girlfriend be go to   in September fo...\n",
      "4473     0     1  around when do you think it ’ll open this summ...\n",
      "4377     0     1  I be at the park frequently if anybody need so...\n",
      "\n",
      "[164 rows x 3 columns]\n"
     ]
    }
   ],
   "source": [
    "# Set up a dataframe of y_test, prediction, and X_test columns\n",
    "result_df1 = pd.DataFrame({'true':y_test, 'pred':predictions1, 'post': X_test})\n",
    "\n",
    "# Set missprediction where y_test is not equal to prediction\n",
    "missprediction1 = result_df1[result_df1['true']!=result_df1['pred']]\n",
    "print(missprediction1)\n",
    "\n",
    "# Save missprediction to csv file\n",
    "missprediction1.to_csv('missed_predictions1.csv', index=False)"
   ]
  },
  {
   "cell_type": "markdown",
   "id": "171ca204-657a-4490-b5c8-b56aea09b90b",
   "metadata": {},
   "source": [
    "**Model Evaluation**\n",
    "- Training score: 0.99 indicates that the model learned the patterns present in the training data very well\n",
    "- Testing score: 0.91 indicates the model is able to perform well on outside data\n",
    "- The model is a little overfit but still can perform on outside data quite well\n",
    "- Precision score: 0.90 and 0.91 indicates the model correctly predicts the class: Universal 90% and class: Disneyland 91% of the time\n",
    "- Recall score: 0.75 and 0.97 indicates that the model is able to identify the actual values of class: Universal 75% and class: Disneyland 96% of the time\n",
    "- F1 score: 0.81 and 0.93 indicates the model good balanced performance on both precision and recall for Disneyland class, but not as good performance for Universal class\n",
    "- Accuracy score: 0.91 indicates the the model is highly accurate\n",
    "- Macro avg and Weighted avg: 0.88 and 0.90 indicates good performance of the model\n",
    "- Incorrectly predict: Universal 15%, Disney 10%\n",
    "- Out of 1769 posts, 164 posts are incorrectly predicted: 9.27%\n",
    "\n",
    "**Final Evaluation**\n",
    "- Model1 is able to perform well with Disneyland class, but in terms of identifying Universal class, the score is still far from Disneyland. Some overfitting of the data is recognized-"
   ]
  },
  {
   "cell_type": "markdown",
   "id": "18bf04c3-e3b4-480a-98a5-ebfb87cc2466",
   "metadata": {},
   "source": [
    "## Model2: CountVectorizer + Logistic Regression (Bootstrapped)"
   ]
  },
  {
   "cell_type": "code",
   "execution_count": 27,
   "id": "d0d0e3a5-8166-4dd1-a0a9-628ec774c777",
   "metadata": {},
   "outputs": [],
   "source": [
    "# Set up the pipeline of CountVecotizer and Logistic Regression combined with parameters obtained from GridSearch\n",
    "pipe1 = Pipeline([\n",
    "    ('cvec', CountVectorizer(max_features=5000, max_df=0.95, ngram_range=(1, 1), stop_words='english')),\n",
    "    ('logreg', LogisticRegression(C=1, solver='liblinear'))\n",
    "])"
   ]
  },
  {
   "cell_type": "code",
   "execution_count": 28,
   "id": "5473f7d8-14dd-46ab-9b8a-a754c85c63a6",
   "metadata": {},
   "outputs": [],
   "source": [
    "#gs = GridSearchCV(pipe1, \n",
    "                  #param_grid=pipe1_params, \n",
    "                  #cv=5,\n",
    "                  #verbose=1)"
   ]
  },
  {
   "cell_type": "code",
   "execution_count": 29,
   "id": "273673d4-da94-4e29-ba52-4c4be10addba",
   "metadata": {},
   "outputs": [
    {
     "data": {
      "text/html": [
       "<style>#sk-container-id-2 {color: black;}#sk-container-id-2 pre{padding: 0;}#sk-container-id-2 div.sk-toggleable {background-color: white;}#sk-container-id-2 label.sk-toggleable__label {cursor: pointer;display: block;width: 100%;margin-bottom: 0;padding: 0.3em;box-sizing: border-box;text-align: center;}#sk-container-id-2 label.sk-toggleable__label-arrow:before {content: \"▸\";float: left;margin-right: 0.25em;color: #696969;}#sk-container-id-2 label.sk-toggleable__label-arrow:hover:before {color: black;}#sk-container-id-2 div.sk-estimator:hover label.sk-toggleable__label-arrow:before {color: black;}#sk-container-id-2 div.sk-toggleable__content {max-height: 0;max-width: 0;overflow: hidden;text-align: left;background-color: #f0f8ff;}#sk-container-id-2 div.sk-toggleable__content pre {margin: 0.2em;color: black;border-radius: 0.25em;background-color: #f0f8ff;}#sk-container-id-2 input.sk-toggleable__control:checked~div.sk-toggleable__content {max-height: 200px;max-width: 100%;overflow: auto;}#sk-container-id-2 input.sk-toggleable__control:checked~label.sk-toggleable__label-arrow:before {content: \"▾\";}#sk-container-id-2 div.sk-estimator input.sk-toggleable__control:checked~label.sk-toggleable__label {background-color: #d4ebff;}#sk-container-id-2 div.sk-label input.sk-toggleable__control:checked~label.sk-toggleable__label {background-color: #d4ebff;}#sk-container-id-2 input.sk-hidden--visually {border: 0;clip: rect(1px 1px 1px 1px);clip: rect(1px, 1px, 1px, 1px);height: 1px;margin: -1px;overflow: hidden;padding: 0;position: absolute;width: 1px;}#sk-container-id-2 div.sk-estimator {font-family: monospace;background-color: #f0f8ff;border: 1px dotted black;border-radius: 0.25em;box-sizing: border-box;margin-bottom: 0.5em;}#sk-container-id-2 div.sk-estimator:hover {background-color: #d4ebff;}#sk-container-id-2 div.sk-parallel-item::after {content: \"\";width: 100%;border-bottom: 1px solid gray;flex-grow: 1;}#sk-container-id-2 div.sk-label:hover label.sk-toggleable__label {background-color: #d4ebff;}#sk-container-id-2 div.sk-serial::before {content: \"\";position: absolute;border-left: 1px solid gray;box-sizing: border-box;top: 0;bottom: 0;left: 50%;z-index: 0;}#sk-container-id-2 div.sk-serial {display: flex;flex-direction: column;align-items: center;background-color: white;padding-right: 0.2em;padding-left: 0.2em;position: relative;}#sk-container-id-2 div.sk-item {position: relative;z-index: 1;}#sk-container-id-2 div.sk-parallel {display: flex;align-items: stretch;justify-content: center;background-color: white;position: relative;}#sk-container-id-2 div.sk-item::before, #sk-container-id-2 div.sk-parallel-item::before {content: \"\";position: absolute;border-left: 1px solid gray;box-sizing: border-box;top: 0;bottom: 0;left: 50%;z-index: -1;}#sk-container-id-2 div.sk-parallel-item {display: flex;flex-direction: column;z-index: 1;position: relative;background-color: white;}#sk-container-id-2 div.sk-parallel-item:first-child::after {align-self: flex-end;width: 50%;}#sk-container-id-2 div.sk-parallel-item:last-child::after {align-self: flex-start;width: 50%;}#sk-container-id-2 div.sk-parallel-item:only-child::after {width: 0;}#sk-container-id-2 div.sk-dashed-wrapped {border: 1px dashed gray;margin: 0 0.4em 0.5em 0.4em;box-sizing: border-box;padding-bottom: 0.4em;background-color: white;}#sk-container-id-2 div.sk-label label {font-family: monospace;font-weight: bold;display: inline-block;line-height: 1.2em;}#sk-container-id-2 div.sk-label-container {text-align: center;}#sk-container-id-2 div.sk-container {/* jupyter's `normalize.less` sets `[hidden] { display: none; }` but bootstrap.min.css set `[hidden] { display: none !important; }` so we also need the `!important` here to be able to override the default hidden behavior on the sphinx rendered scikit-learn.org. See: https://github.com/scikit-learn/scikit-learn/issues/21755 */display: inline-block !important;position: relative;}#sk-container-id-2 div.sk-text-repr-fallback {display: none;}</style><div id=\"sk-container-id-2\" class=\"sk-top-container\"><div class=\"sk-text-repr-fallback\"><pre>Pipeline(steps=[(&#x27;cvec&#x27;,\n",
       "                 CountVectorizer(max_df=0.95, max_features=5000,\n",
       "                                 stop_words=&#x27;english&#x27;)),\n",
       "                (&#x27;logreg&#x27;, LogisticRegression(C=1, solver=&#x27;liblinear&#x27;))])</pre><b>In a Jupyter environment, please rerun this cell to show the HTML representation or trust the notebook. <br />On GitHub, the HTML representation is unable to render, please try loading this page with nbviewer.org.</b></div><div class=\"sk-container\" hidden><div class=\"sk-item sk-dashed-wrapped\"><div class=\"sk-label-container\"><div class=\"sk-label sk-toggleable\"><input class=\"sk-toggleable__control sk-hidden--visually\" id=\"sk-estimator-id-4\" type=\"checkbox\" ><label for=\"sk-estimator-id-4\" class=\"sk-toggleable__label sk-toggleable__label-arrow\">Pipeline</label><div class=\"sk-toggleable__content\"><pre>Pipeline(steps=[(&#x27;cvec&#x27;,\n",
       "                 CountVectorizer(max_df=0.95, max_features=5000,\n",
       "                                 stop_words=&#x27;english&#x27;)),\n",
       "                (&#x27;logreg&#x27;, LogisticRegression(C=1, solver=&#x27;liblinear&#x27;))])</pre></div></div></div><div class=\"sk-serial\"><div class=\"sk-item\"><div class=\"sk-estimator sk-toggleable\"><input class=\"sk-toggleable__control sk-hidden--visually\" id=\"sk-estimator-id-5\" type=\"checkbox\" ><label for=\"sk-estimator-id-5\" class=\"sk-toggleable__label sk-toggleable__label-arrow\">CountVectorizer</label><div class=\"sk-toggleable__content\"><pre>CountVectorizer(max_df=0.95, max_features=5000, stop_words=&#x27;english&#x27;)</pre></div></div></div><div class=\"sk-item\"><div class=\"sk-estimator sk-toggleable\"><input class=\"sk-toggleable__control sk-hidden--visually\" id=\"sk-estimator-id-6\" type=\"checkbox\" ><label for=\"sk-estimator-id-6\" class=\"sk-toggleable__label sk-toggleable__label-arrow\">LogisticRegression</label><div class=\"sk-toggleable__content\"><pre>LogisticRegression(C=1, solver=&#x27;liblinear&#x27;)</pre></div></div></div></div></div></div></div>"
      ],
      "text/plain": [
       "Pipeline(steps=[('cvec',\n",
       "                 CountVectorizer(max_df=0.95, max_features=5000,\n",
       "                                 stop_words='english')),\n",
       "                ('logreg', LogisticRegression(C=1, solver='liblinear'))])"
      ]
     },
     "execution_count": 29,
     "metadata": {},
     "output_type": "execute_result"
    }
   ],
   "source": [
    "# Fit the pipeline to Training data bootstrapped data\n",
    "pipe1.fit(X_train_boot, y_train_boot)"
   ]
  },
  {
   "cell_type": "code",
   "execution_count": 30,
   "id": "c155dc2a-737d-4f8b-bbd8-5fafbad66b93",
   "metadata": {},
   "outputs": [],
   "source": [
    "#gs.best_score_"
   ]
  },
  {
   "cell_type": "code",
   "execution_count": 31,
   "id": "c999b6ef-0fc2-48f2-b57e-29f48b7424af",
   "metadata": {},
   "outputs": [],
   "source": [
    "#gs.best_params_"
   ]
  },
  {
   "cell_type": "code",
   "execution_count": 32,
   "id": "d27611de-faad-4e0a-90eb-12bac3994b12",
   "metadata": {},
   "outputs": [
    {
     "data": {
      "text/plain": [
       "0.99"
      ]
     },
     "execution_count": 32,
     "metadata": {},
     "output_type": "execute_result"
    }
   ],
   "source": [
    "# Retrieve the accuracy score of Training bootstrapped data\n",
    "pipe1.score(X_train_boot, y_train_boot).round(2)"
   ]
  },
  {
   "cell_type": "code",
   "execution_count": 33,
   "id": "80ba48eb-9d96-4f93-83a9-5f684a338701",
   "metadata": {},
   "outputs": [
    {
     "data": {
      "text/plain": [
       "0.95"
      ]
     },
     "execution_count": 33,
     "metadata": {},
     "output_type": "execute_result"
    }
   ],
   "source": [
    "# Retrieve the accuracy score of Testing bootstrapped data\n",
    "pipe1.score(X_test_boot, y_test_boot).round(2)"
   ]
  },
  {
   "cell_type": "code",
   "execution_count": 34,
   "id": "9b2843cd-c6e4-4cd2-af4c-723f1b3640d6",
   "metadata": {},
   "outputs": [
    {
     "data": {
      "text/plain": [
       "<sklearn.metrics._plot.confusion_matrix.ConfusionMatrixDisplay at 0x125499940>"
      ]
     },
     "execution_count": 34,
     "metadata": {},
     "output_type": "execute_result"
    },
    {
     "data": {
      "image/png": "[encoded data removed]",
      "text/plain": [
       "<Figure size 640x480 with 2 Axes>"
      ]
     },
     "metadata": {},
     "output_type": "display_data"
    }
   ],
   "source": [
    "# Get predictions of Testing bootstrapped data\n",
    "predictions2 = pipe1.predict(X_test_boot)\n",
    "\n",
    "# Set up confusion matrix\n",
    "dist = ConfusionMatrixDisplay(confusion_matrix(y_test_boot, predictions2),\n",
    "                              display_labels=['Universal', 'Disney'])\n",
    "dist.plot()"
   ]
  },
  {
   "cell_type": "code",
   "execution_count": 35,
   "id": "9a6cd3e2-5180-403e-b5d5-b7918e7ed8c5",
   "metadata": {},
   "outputs": [
    {
     "name": "stdout",
     "output_type": "stream",
     "text": [
      "True Negatives :  1089\n",
      "False Positives :  47\n",
      "False Negatives :  79\n",
      "True Positives :  1214\n"
     ]
    }
   ],
   "source": [
    "# Set up the confusion matrix and extract individual score elements\n",
    "\n",
    "tn2, fp2, fn2, tp2 = confusion_matrix(y_test_boot, predictions2).ravel()\n",
    "print(\"True Negatives : \",tn2)\n",
    "print(\"False Positives : \",fp2)\n",
    "print(\"False Negatives : \", fn2) \n",
    "print(\"True Positives : \", tp2)"
   ]
  },
  {
   "cell_type": "code",
   "execution_count": 36,
   "id": "54c5fa64-2536-4731-94ba-eadb0fb6d688",
   "metadata": {},
   "outputs": [
    {
     "name": "stdout",
     "output_type": "stream",
     "text": [
      "Sensitivity:  0.94\n"
     ]
    }
   ],
   "source": [
    "# Obtain Sensitivity score\n",
    "print('Sensitivity: ', (tp2/(tp2+fn2)).round(2))"
   ]
  },
  {
   "cell_type": "code",
   "execution_count": 37,
   "id": "16e72810-90a8-4f25-9ced-794cf5836666",
   "metadata": {},
   "outputs": [
    {
     "name": "stdout",
     "output_type": "stream",
     "text": [
      "Specificity:  0.96\n"
     ]
    }
   ],
   "source": [
    "# Obtain Specificity score\n",
    "print('Specificity: ', (tn2/(tn2+fp2)).round(2))"
   ]
  },
  {
   "cell_type": "code",
   "execution_count": 38,
   "id": "f2d9d2c7-723c-4b11-a971-6229a34d004f",
   "metadata": {},
   "outputs": [
    {
     "name": "stdout",
     "output_type": "stream",
     "text": [
      "              precision    recall  f1-score   support\n",
      "\n",
      "           0       0.93      0.96      0.95      1136\n",
      "           1       0.96      0.94      0.95      1293\n",
      "\n",
      "    accuracy                           0.95      2429\n",
      "   macro avg       0.95      0.95      0.95      2429\n",
      "weighted avg       0.95      0.95      0.95      2429\n",
      "\n"
     ]
    }
   ],
   "source": [
    "# Set up classification report\n",
    "\n",
    "print(classification_report(y_test_boot, predictions2))"
   ]
  },
  {
   "cell_type": "code",
   "execution_count": 39,
   "id": "1840e975-b233-41b3-ba1f-ef466f383a66",
   "metadata": {},
   "outputs": [
    {
     "name": "stdout",
     "output_type": "stream",
     "text": [
      "      true  pred                                               post\n",
      "1765     1     0  I have n't see anyone mention this yet .   be ...\n",
      "1544     1     0  my mom be allergic to primarily nut and fish ....\n",
      "468      1     0  hi all :) \\n\\n\\n my girlfriend and I be plan o...\n",
      "2698     1     0  I just move here a little bit ago after gradua...\n",
      "1446     1     0  Hi , all ! \\n\\n\\n I have n't be to the park in...\n",
      "...    ...   ...                                                ...\n",
      "71       1     0  my friend and I have park hopper pass for this...\n",
      "2271     1     0  hello all ! \\n\\n\\n awhile ago , I sign up for ...\n",
      "1366     1     0  we have a 7:30am reservation at Park Plaza for...\n",
      "4564     0     1  post in hope that someone that have pull at th...\n",
      "3966     0     1  my wife and I be head to   Jan 24 - 26 . we be...\n",
      "\n",
      "[126 rows x 3 columns]\n"
     ]
    }
   ],
   "source": [
    "# Set up a dataframe of y_test, prediction, and X_test columns\n",
    "result_df2 = pd.DataFrame({'true':y_test_boot, 'pred':predictions2, 'post': X_test_boot})\n",
    "\n",
    "# Set missprediction where y_test is not equal to prediction\n",
    "missprediction2 = result_df2[result_df2['true']!=result_df2['pred']]\n",
    "print(missprediction2)\n",
    "\n",
    "# Save missprediction to csv file\n",
    "missprediction2.to_csv('missed_predictions2.csv', index=False)"
   ]
  },
  {
   "cell_type": "markdown",
   "id": "9c3f97af-a598-4161-b876-54357ca9c277",
   "metadata": {},
   "source": [
    "**Model Evaluation**\n",
    "- Training score: 0.99 indicates that the model learned the patterns present in the data perfectly\n",
    "- Testing score: 0.95 indicates the model is able to perform very well on outside data\n",
    "- The model is not overfit and have a close performance between training data and testing data\n",
    "- Precision score: 0.93 and 0.96 indicates the model correctly predicts the class: Universal 93% and class: Disneyland 96% of the time\n",
    "- Recall score: 0.96 and 0.94 indicates that the model is able to identify the actual values of class: Universal 96% and class: Disneyland 94% of the time\n",
    "- F1 score: 0.95 and 0.95 indicates the model well balanced performance on both precision and recall and the score are matched between these 2 classes.\n",
    "- Accuracy score: 0.95 indicates the the model is highly accurate\n",
    "- Macro avg and Weighted avg: 0.95 and 0.95 indicates high performance of the model\n",
    "- Incorrectly predict: Universal 9% Disney 5%\n",
    "- Out of 2429 posts, 126 posts are incorrectly predicted: 5.19%\n",
    "\n",
    "**Final Evaluation**\n",
    "- With Universal data bootstrapping, the performance of the same model (CountVec + Logreg) has seen an improvement in the performance. The disparity of the training and testing score has seen a reduction from 8 to 4.\n",
    "- Universal class has seen a significant improvement in performance where the precision and recall score have been increased. So, bootstrapping is needed for Universal's previous imbalanced data to Disney's.\n",
    "- Disneyland is slightly overperformed Universal in prediction, but in terms of recall, Universal performs better. However, when consider F1 score, the performances of both classes are matched"
   ]
  },
  {
   "cell_type": "markdown",
   "id": "3446a77f-77dd-4a05-a798-9940f65f978d",
   "metadata": {},
   "source": [
    "## Model3: CountVectorizer + RandomForestClassifier"
   ]
  },
  {
   "cell_type": "code",
   "execution_count": 40,
   "id": "ece843b4-4828-4345-979e-1441e0561f5d",
   "metadata": {},
   "outputs": [],
   "source": [
    "# Set up the pipeline of CountVecotizer and Random Forest Classifier combined with parameters obtained from GridSearch \n",
    "\n",
    "pipe3 = Pipeline([\n",
    "    ('cvec', CountVectorizer(max_df=0.95, max_features=2000, min_df=3, ngram_range=(1, 2), stop_words='english')),\n",
    "    ('rf', RandomForestClassifier(max_depth=None, n_estimators=100))])\n"
   ]
  },
  {
   "cell_type": "code",
   "execution_count": 41,
   "id": "6cca1511-14d8-4f87-8b56-b296cc5ba269",
   "metadata": {},
   "outputs": [],
   "source": [
    "#gs3 = GridSearchCV(pipe3, \n",
    "                  #param_grid=pipe3_params, \n",
    "                  #cv=5,\n",
    "                  #verbose=1)"
   ]
  },
  {
   "cell_type": "code",
   "execution_count": 42,
   "id": "1ce3e33e-d117-4f58-beef-97fdff98d866",
   "metadata": {},
   "outputs": [
    {
     "data": {
      "text/html": [
       "<style>#sk-container-id-3 {color: black;}#sk-container-id-3 pre{padding: 0;}#sk-container-id-3 div.sk-toggleable {background-color: white;}#sk-container-id-3 label.sk-toggleable__label {cursor: pointer;display: block;width: 100%;margin-bottom: 0;padding: 0.3em;box-sizing: border-box;text-align: center;}#sk-container-id-3 label.sk-toggleable__label-arrow:before {content: \"▸\";float: left;margin-right: 0.25em;color: #696969;}#sk-container-id-3 label.sk-toggleable__label-arrow:hover:before {color: black;}#sk-container-id-3 div.sk-estimator:hover label.sk-toggleable__label-arrow:before {color: black;}#sk-container-id-3 div.sk-toggleable__content {max-height: 0;max-width: 0;overflow: hidden;text-align: left;background-color: #f0f8ff;}#sk-container-id-3 div.sk-toggleable__content pre {margin: 0.2em;color: black;border-radius: 0.25em;background-color: #f0f8ff;}#sk-container-id-3 input.sk-toggleable__control:checked~div.sk-toggleable__content {max-height: 200px;max-width: 100%;overflow: auto;}#sk-container-id-3 input.sk-toggleable__control:checked~label.sk-toggleable__label-arrow:before {content: \"▾\";}#sk-container-id-3 div.sk-estimator input.sk-toggleable__control:checked~label.sk-toggleable__label {background-color: #d4ebff;}#sk-container-id-3 div.sk-label input.sk-toggleable__control:checked~label.sk-toggleable__label {background-color: #d4ebff;}#sk-container-id-3 input.sk-hidden--visually {border: 0;clip: rect(1px 1px 1px 1px);clip: rect(1px, 1px, 1px, 1px);height: 1px;margin: -1px;overflow: hidden;padding: 0;position: absolute;width: 1px;}#sk-container-id-3 div.sk-estimator {font-family: monospace;background-color: #f0f8ff;border: 1px dotted black;border-radius: 0.25em;box-sizing: border-box;margin-bottom: 0.5em;}#sk-container-id-3 div.sk-estimator:hover {background-color: #d4ebff;}#sk-container-id-3 div.sk-parallel-item::after {content: \"\";width: 100%;border-bottom: 1px solid gray;flex-grow: 1;}#sk-container-id-3 div.sk-label:hover label.sk-toggleable__label {background-color: #d4ebff;}#sk-container-id-3 div.sk-serial::before {content: \"\";position: absolute;border-left: 1px solid gray;box-sizing: border-box;top: 0;bottom: 0;left: 50%;z-index: 0;}#sk-container-id-3 div.sk-serial {display: flex;flex-direction: column;align-items: center;background-color: white;padding-right: 0.2em;padding-left: 0.2em;position: relative;}#sk-container-id-3 div.sk-item {position: relative;z-index: 1;}#sk-container-id-3 div.sk-parallel {display: flex;align-items: stretch;justify-content: center;background-color: white;position: relative;}#sk-container-id-3 div.sk-item::before, #sk-container-id-3 div.sk-parallel-item::before {content: \"\";position: absolute;border-left: 1px solid gray;box-sizing: border-box;top: 0;bottom: 0;left: 50%;z-index: -1;}#sk-container-id-3 div.sk-parallel-item {display: flex;flex-direction: column;z-index: 1;position: relative;background-color: white;}#sk-container-id-3 div.sk-parallel-item:first-child::after {align-self: flex-end;width: 50%;}#sk-container-id-3 div.sk-parallel-item:last-child::after {align-self: flex-start;width: 50%;}#sk-container-id-3 div.sk-parallel-item:only-child::after {width: 0;}#sk-container-id-3 div.sk-dashed-wrapped {border: 1px dashed gray;margin: 0 0.4em 0.5em 0.4em;box-sizing: border-box;padding-bottom: 0.4em;background-color: white;}#sk-container-id-3 div.sk-label label {font-family: monospace;font-weight: bold;display: inline-block;line-height: 1.2em;}#sk-container-id-3 div.sk-label-container {text-align: center;}#sk-container-id-3 div.sk-container {/* jupyter's `normalize.less` sets `[hidden] { display: none; }` but bootstrap.min.css set `[hidden] { display: none !important; }` so we also need the `!important` here to be able to override the default hidden behavior on the sphinx rendered scikit-learn.org. See: https://github.com/scikit-learn/scikit-learn/issues/21755 */display: inline-block !important;position: relative;}#sk-container-id-3 div.sk-text-repr-fallback {display: none;}</style><div id=\"sk-container-id-3\" class=\"sk-top-container\"><div class=\"sk-text-repr-fallback\"><pre>Pipeline(steps=[(&#x27;cvec&#x27;,\n",
       "                 CountVectorizer(max_df=0.95, max_features=2000, min_df=3,\n",
       "                                 ngram_range=(1, 2), stop_words=&#x27;english&#x27;)),\n",
       "                (&#x27;rf&#x27;, RandomForestClassifier())])</pre><b>In a Jupyter environment, please rerun this cell to show the HTML representation or trust the notebook. <br />On GitHub, the HTML representation is unable to render, please try loading this page with nbviewer.org.</b></div><div class=\"sk-container\" hidden><div class=\"sk-item sk-dashed-wrapped\"><div class=\"sk-label-container\"><div class=\"sk-label sk-toggleable\"><input class=\"sk-toggleable__control sk-hidden--visually\" id=\"sk-estimator-id-7\" type=\"checkbox\" ><label for=\"sk-estimator-id-7\" class=\"sk-toggleable__label sk-toggleable__label-arrow\">Pipeline</label><div class=\"sk-toggleable__content\"><pre>Pipeline(steps=[(&#x27;cvec&#x27;,\n",
       "                 CountVectorizer(max_df=0.95, max_features=2000, min_df=3,\n",
       "                                 ngram_range=(1, 2), stop_words=&#x27;english&#x27;)),\n",
       "                (&#x27;rf&#x27;, RandomForestClassifier())])</pre></div></div></div><div class=\"sk-serial\"><div class=\"sk-item\"><div class=\"sk-estimator sk-toggleable\"><input class=\"sk-toggleable__control sk-hidden--visually\" id=\"sk-estimator-id-8\" type=\"checkbox\" ><label for=\"sk-estimator-id-8\" class=\"sk-toggleable__label sk-toggleable__label-arrow\">CountVectorizer</label><div class=\"sk-toggleable__content\"><pre>CountVectorizer(max_df=0.95, max_features=2000, min_df=3, ngram_range=(1, 2),\n",
       "                stop_words=&#x27;english&#x27;)</pre></div></div></div><div class=\"sk-item\"><div class=\"sk-estimator sk-toggleable\"><input class=\"sk-toggleable__control sk-hidden--visually\" id=\"sk-estimator-id-9\" type=\"checkbox\" ><label for=\"sk-estimator-id-9\" class=\"sk-toggleable__label sk-toggleable__label-arrow\">RandomForestClassifier</label><div class=\"sk-toggleable__content\"><pre>RandomForestClassifier()</pre></div></div></div></div></div></div></div>"
      ],
      "text/plain": [
       "Pipeline(steps=[('cvec',\n",
       "                 CountVectorizer(max_df=0.95, max_features=2000, min_df=3,\n",
       "                                 ngram_range=(1, 2), stop_words='english')),\n",
       "                ('rf', RandomForestClassifier())])"
      ]
     },
     "execution_count": 42,
     "metadata": {},
     "output_type": "execute_result"
    }
   ],
   "source": [
    "# Fit the pipeline to Training bootstrapped data\n",
    "\n",
    "pipe3.fit(X_train_boot, y_train_boot)"
   ]
  },
  {
   "cell_type": "code",
   "execution_count": 43,
   "id": "e172f554-e7d7-421e-b900-f279ab209fde",
   "metadata": {},
   "outputs": [],
   "source": [
    "#gs3.best_params_"
   ]
  },
  {
   "cell_type": "code",
   "execution_count": 44,
   "id": "dadbf75a-dcbb-4774-9b82-3bfe065d8e1c",
   "metadata": {},
   "outputs": [
    {
     "data": {
      "text/plain": [
       "1.0"
      ]
     },
     "execution_count": 44,
     "metadata": {},
     "output_type": "execute_result"
    }
   ],
   "source": [
    "# Retrieve the accuracy score of Training bootstrapped data\n",
    "\n",
    "pipe3.score(X_train_boot, y_train_boot).round(2)"
   ]
  },
  {
   "cell_type": "code",
   "execution_count": 45,
   "id": "68ce63b9-cb8d-4715-999d-bcb9431ceada",
   "metadata": {},
   "outputs": [
    {
     "data": {
      "text/plain": [
       "0.96"
      ]
     },
     "execution_count": 45,
     "metadata": {},
     "output_type": "execute_result"
    }
   ],
   "source": [
    "# Retrieve the accuracy score of Testing bootstrapped data\n",
    "\n",
    "pipe3.score(X_test_boot, y_test_boot).round(2)"
   ]
  },
  {
   "cell_type": "code",
   "execution_count": 46,
   "id": "73a70a68-f4fd-4dac-bdf6-0775bb086ba6",
   "metadata": {},
   "outputs": [
    {
     "data": {
      "text/plain": [
       "<sklearn.metrics._plot.confusion_matrix.ConfusionMatrixDisplay at 0x12558fe50>"
      ]
     },
     "execution_count": 46,
     "metadata": {},
     "output_type": "execute_result"
    },
    {
     "data": {
      "image/png": "[encoded data removed]",
      "text/plain": [
       "<Figure size 640x480 with 2 Axes>"
      ]
     },
     "metadata": {},
     "output_type": "display_data"
    }
   ],
   "source": [
    "# Get predictions of Testing bootstrapped data\n",
    "predictions3 = pipe3.predict(X_test_boot)\n",
    "\n",
    "# Confusion matrix\n",
    "dist = ConfusionMatrixDisplay(confusion_matrix(y_test_boot, predictions3), \n",
    "                       display_labels=['Universal', 'Disney'])\n",
    "dist.plot()"
   ]
  },
  {
   "cell_type": "code",
   "execution_count": 47,
   "id": "22e7a859-2f11-4275-8cb7-743070b6864f",
   "metadata": {},
   "outputs": [
    {
     "name": "stdout",
     "output_type": "stream",
     "text": [
      "True Negatives :  1080\n",
      "False Positives :  56\n",
      "False Negatives :  45\n",
      "True Positives :  1248\n"
     ]
    }
   ],
   "source": [
    "# Set up the confusion matrix and extract individual score elements\n",
    "\n",
    "tn3, fp3, fn3, tp3 = confusion_matrix(y_test_boot, predictions3).ravel()\n",
    "print(\"True Negatives : \",tn3)\n",
    "print(\"False Positives : \",fp3)\n",
    "print(\"False Negatives : \", fn3) \n",
    "print(\"True Positives : \", tp3)"
   ]
  },
  {
   "cell_type": "code",
   "execution_count": 48,
   "id": "713e1ded-678c-4934-8b3c-41e8755470e4",
   "metadata": {},
   "outputs": [
    {
     "name": "stdout",
     "output_type": "stream",
     "text": [
      "Sensitivity:  0.97\n"
     ]
    }
   ],
   "source": [
    "# Obtain Sensitivity score\n",
    "print('Sensitivity: ', (tp3/(tp3+fn3)).round(2))"
   ]
  },
  {
   "cell_type": "code",
   "execution_count": 49,
   "id": "85a8f056-7920-446d-96c2-4c4a0368ed25",
   "metadata": {},
   "outputs": [
    {
     "name": "stdout",
     "output_type": "stream",
     "text": [
      "Specificity:  0.95\n"
     ]
    }
   ],
   "source": [
    "# Obtain Specificity score\n",
    "print('Specificity: ', (tn3/(tn3+fp3)).round(2))"
   ]
  },
  {
   "cell_type": "code",
   "execution_count": 50,
   "id": "f756b132-aac2-40f7-ba29-537f79296e78",
   "metadata": {},
   "outputs": [
    {
     "name": "stdout",
     "output_type": "stream",
     "text": [
      "              precision    recall  f1-score   support\n",
      "\n",
      "           0       0.96      0.95      0.96      1136\n",
      "           1       0.96      0.97      0.96      1293\n",
      "\n",
      "    accuracy                           0.96      2429\n",
      "   macro avg       0.96      0.96      0.96      2429\n",
      "weighted avg       0.96      0.96      0.96      2429\n",
      "\n"
     ]
    }
   ],
   "source": [
    "# Set up classification report\n",
    "\n",
    "print(classification_report(y_test_boot, predictions3))"
   ]
  },
  {
   "cell_type": "code",
   "execution_count": 51,
   "id": "eb81a831-c655-4aad-a96c-6b0b01246b27",
   "metadata": {},
   "outputs": [
    {
     "name": "stdout",
     "output_type": "stream",
     "text": [
      "      true  pred                                               post\n",
      "468      1     0  hi all :) \\n\\n\\n my girlfriend and I be plan o...\n",
      "1729     1     0  so I want to buy they online to skip the ticke...\n",
      "4172     0     1  what be some non - dessert snack credit option...\n",
      "2318     1     0  and have pin . I be just over by ticket buildi...\n",
      "2057     1     0  hi everyone , \\n\\n\\n I have be look off and on...\n",
      "...    ...   ...                                                ...\n",
      "71       1     0  my friend and I have park hopper pass for this...\n",
      "1666     1     0  hello my fellow er ! \\n\\n\\n as some of you may...\n",
      "4564     0     1  post in hope that someone that have pull at th...\n",
      "3966     0     1  my wife and I be head to   Jan 24 - 26 . we be...\n",
      "2922     1     0  pretty simple question . I could n't find an a...\n",
      "\n",
      "[101 rows x 3 columns]\n"
     ]
    }
   ],
   "source": [
    "# Set up a dataframe of y_test, prediction, and X_test columns\n",
    "result_df3 = pd.DataFrame({'true':y_test_boot, 'pred':predictions3, 'post': X_test_boot})\n",
    "\n",
    "# Set missprediction where y_test is not equal to prediction\n",
    "missprediction3 = result_df3[result_df3['true']!=result_df3['pred']]\n",
    "print(missprediction3)\n",
    "\n",
    "# Save missprediction to csv file\n",
    "missprediction3.to_csv('missed_predictions3.csv', index=False)"
   ]
  },
  {
   "cell_type": "code",
   "execution_count": 95,
   "id": "7d44a593-7a04-4690-8e7a-579033d1db18",
   "metadata": {},
   "outputs": [
    {
     "name": "stdout",
     "output_type": "stream",
     "text": [
      "Mispredictions:\n",
      "      true  pred                                               post\n",
      "468      1     0  hi all :) \\n\\n\\n my girlfriend and I be plan o...\n",
      "1729     1     0  so I want to buy they online to skip the ticke...\n",
      "4172     0     1  what be some non - dessert snack credit option...\n",
      "2318     1     0  and have pin . I be just over by ticket buildi...\n",
      "2057     1     0  hi everyone , \\n\\n\\n I have be look off and on...\n",
      "...    ...   ...                                                ...\n",
      "71       1     0  my friend and I have park hopper pass for this...\n",
      "1666     1     0  hello my fellow er ! \\n\\n\\n as some of you may...\n",
      "4564     0     1  post in hope that someone that have pull at th...\n",
      "3966     0     1  my wife and I be head to   Jan 24 - 26 . we be...\n",
      "2922     1     0  pretty simple question . I could n't find an a...\n",
      "\n",
      "[101 rows x 3 columns]\n",
      "\n",
      "Full 'post' content of Mispredictions:\n",
      "hi all :) \n",
      "\n",
      "\n",
      " my girlfriend and I be plan on go to   may 12 - 18 to celebrate our 2 year and my graduation from college . we be break - do any of you know any way to get cheap discount ticket ? ? ? \n",
      "\n",
      "\n",
      " thank in advance :) Broke College Couple - Cheap   ticket ?\n",
      "so I want to buy they online to skip the ticket line , but it say it can take up to 24 hour to get the email with my ticket ! I do n't want to risk not get they . what should I do ? thanksgoe to   in like 12 hour - buy ticket online ?\n",
      "what be some non - dessert snack credit option for the   quick service plan ?   be the snack credit item clearly mark on the menus?non - sweet snack option ?\n",
      "and have pin . I be just over by ticket building 5at the main gate wait for family\n",
      "hi everyone , \n",
      "\n",
      "\n",
      " I have be look off and on for souvenir copy of the old   A - e ride ticket , but I have n't find anything real promising yet . do anyone know if you can find those somewhere?anyone know where to find souvenir ride ticket ?\n",
      "I be go the day after Christmas and I have hear it can get pretty cold around then . how be the weather in late December ?\n",
      "hey all ! \n",
      "\n",
      "\n",
      " my Girlfriend and I be plan on visit   mid 2017 and I plan on use / earn point / mile during our trip . any other churner visit ? \n",
      "\n",
      "\n",
      " I plan on use my Hyatt point to stay at the Hyatt House right near the property , which seem like a good point redemption at 15,000 / free night . any other hotel recommendation ? I get plenty of point in both Hyatt and IHG right now . \n",
      "\n",
      "\n",
      " I plan on fly down on Southwest for ~5k point round trip each . \n",
      "\n",
      "\n",
      " but I ca n't seem to figure out the good way to purchase   ticket . they do n't seem to code as travel at the park , but I earn 3x point per dollar in the travel category . any travel agency that code as travel for   tickets?anyone travel to   with mile / point ? trick to earn point / mile on my trip ?\n",
      "I keep get an error about a field not be complete but they be all fill out . try to book for our stay in June . \n",
      "\n",
      "\n",
      " I have be on hold on the phone for 90 minute . \n",
      "\n",
      "\n",
      " be there something I be miss regard how to contact guest service / book a stay?unable to Book Online ?\n",
      "I be confused . so I know that one of the reason that DL and DW do n't have / aren't plan a Marvel Land be that   have the right to certain character at their Orlando park . so , do this mean we wo n't ever have a Marvel Land , or do we have to wait for some sort of contract to end before it can happen ? be it just   who can have a Marvel Land , or will DW get one at some point too ? if someone could give a good explanation on the subject , that would be great . the article I read be n't helpful . Marvel Land ?\n",
      "just my luck ! I go online to purchase a power pass and the price change from around $ 270 to $ 344 . they have also add a new low bracket \" Seasonal Pass \" for $ 288 that do not allow access to event like Mardi Gras or the Macy 's Parade . \n",
      "\n",
      "\n",
      " here be the link for the new pricing : \n",
      " Pass Price Increase\n",
      "just my luck ! I go online to purchase a power pass and the price change from around $ 270 to $ 344 . they have also add a new low bracket \" Seasonal Pass \" for $ 288 that do not allow access to event like Mardi Gras or the Macy 's Parade . \n",
      "\n",
      "\n",
      " here be the link for the new pricing : \n",
      " Pass Price Increase\n",
      "be you able to purchase a preferred pass at the park and do the flex payment plan or do those have to be purchase online only?flex - plan payment\n",
      "when you be wait at the front gate at island of adventure , and an employee tell you the line to the left be fast , he be a liar ( by about 30 minute ) . also the fast pass line I pay an extra $ 700 dollar for today , be long than the regular line . wtfline at the entry and fast pass\n",
      "be it worth pack and bring it along ? obviously not go to be play with it but I would like to effectively use its street pass featurefor those of you that own a Nintendo 3ds , be street pass at   effective ?\n",
      "do anyone know if the vip tour price be discount ( for whatwver day ) if we have the California neighbor pass ? I ca n't find it anywhere but figure it be not . \n",
      "\n",
      "\n",
      " ThanksVIP cost with California neighbor pass\n",
      "my wife and I be head to   Jan 24 - 26 . we be stay off - site . I be in the Canadian Navy and have be to the park before and get a military discount at the gate . I ca n't recall how much of a discount it be ... do anybody have any idea if they still do this ? thanksmilitary discount at the gate ?\n",
      "hey guy , so with the upcoming Guardians of the galaxy ride , I figure   will eventually populate more ride with marvel material , with that say I be a big fan of Black Panther . if you do n't know he lead the most technologically advanced nation   on the planet , Wakanda . so I think hey , depend on how successful the film be , and how flesh out Wakanda be . there be some attraction material there . I think about it and say that Tommorowland would be the good spot as it fit the theme of futuristic , utopian setting . People will say Animal Kingdom be well but because of right issue   ca n't make Marvel attraction in Orlando . so my question be if this be to happen . what would be the good ride to replace Black Panther with?black Panther , Tommorowland ?\n",
      "the lack of classic monster merchandise throughout the park be appalling . its the   horror film that put   on the map and all they have dedicate to those classic character be a small little endcap inside 2 gift shop 😒 .Classic monster\n",
      "hey all , \n",
      "\n",
      "\n",
      " my husband and I be head to   for a family reunion this weekend ! very excited , we have n't do anything   since our Honeymoon in FL ! \n",
      "\n",
      "\n",
      " here be our pickle , transportation be become difficult . family wise everyone be all over the place so he and I be just decide to do our own thing to get to the property . we be stay at the   Hotel . I notice there be no free transportation from hotel but the do offer the number for the bus or private service . both expenssive but doable , but uninteresting to spend close to 2 hour on a bus to get to my hotel . \n",
      "\n",
      "\n",
      " I just want to ask and gather opinion on what other do to get from a to B. in Orlando we do uber to get to and from park and it be painless and flawless . have anyone have luck do that in CA ? \n",
      "\n",
      "\n",
      " rent a car seem pointless as we be practically a block away from the park / downtown . we wo n't be go or do anything else . and the bus be just time consume and a bit expenssive from my quote ( 96 $ for 2 people ) . \n",
      "\n",
      "\n",
      " I appreciate all the advice and help!transportation help !\n",
      "my mom ’s be tell by many of her friend and coworker that because of spring break , we would have to get there 2 hour before the park open so we do n’t have to wait in line so long . how have it be the past few day ? how early should we get there?how early should I get to the park ?\n",
      "so who else be go to see it tomorrow night?Goo Goo Dolls concert ?\n",
      "I have recently book up for a holiday to lane Paris with a few friend and I be stick on which park we should choose we only have 1 day in   and the choice be either   Park or Walk   Studios . \n",
      "\n",
      "\n",
      " we be a group who like fast ride and also a Character meet and greet . \n",
      "\n",
      "\n",
      " which would you suggest ? Park or Walt   Studio Park ? - Paris\n",
      "the lack of classic monster merchandise throughout the park be appalling . its the   horror film that put   on the map and all they have dedicate to those classic character be a small little endcap inside 2 gift shop 😒 .Classic monster\n",
      "back in the day ( 2000 ) , I be a skipper on Jaws . I remember that the background music in Amity ( the area around the ride ) be maybe 6 - 8 song and I would love to figure out what those song be . I swear they tell we during training that all the song be from either the year Jaws come out or maybe the year it be supposedly set in . or maybe summer or Fourth of July song from the early 70 ? \n",
      "\n",
      "\n",
      " the only song I definitely remember without a doubt be Summer Breeze by Seals and Croft . one of the other skipper would sing along with it on the headset whenever it be on . anyone remember any of the other songs?I need some help remember the Amity background music playlist .\n",
      "any one go today any tip for a new platinum pass member ? 12/26 Monday .\n",
      "so come up next month I can finally take my wife and kid to   and be try to plan ahead some ride , food , etc . before so we should n't miss out on anything . I be wonder what the usual crowd size be during this time . also , I have be look for affordable transportation to and from   Studios and/or Knotts Berry farm . thank for any tips!going in Feb. 7th-17th . what should I expect for crowd ?\n",
      "I and my wife be think of go next year and want what the explorer pass entailquestion about pass .\n",
      "also , will it be crowd ? first time visit the wizarde world , what should I expect this time of year?visite in early November 2019 , any tips or suggestion ? ?\n",
      "can I change the date ? I mean to buy it a week from what I buy ... anyone know if I can fix this??bought the wrong date\n",
      "how do you feel about wear your glass on ride or what be your tip for make sure they stay on ? ( advice about specific ride be a plus ! ) \n",
      "\n",
      "\n",
      " I be go to   next month and my big concern be wear my glass on ride . at most amusement park I take they off on roller coaster or ride where my head might swing around . suggestion greatly appreciate . a question for glass wear ride - goer\n",
      "I have a very special first - timer come to visit I next month and I be very excited to take he . be there any discount go on right now?discount ticket for two break college student ?\n",
      "I get motion sickness due to many of the ride here . have anyone use Dramamine or Bonine to mitigate these effect ? \n",
      "\n",
      "\n",
      " if you have take either one , which do you take and how much of a difference do you notice?bonine or Dramamine ?\n",
      "my sister and I be go to   tomorrow . I have an annual pass , but she 'll need a ticket . can I buy she a ticket through the app today ? or , should I wait and have she buy the ticket through her own app ? will I be able to manage both of our fast pass through my app if she buy her own ticket?can I buy a ticket for a Friend through my App ?\n",
      "what be your favorite eatery in the entire resort , park , hotel , City Walk include ? \n",
      "\n",
      "\n",
      " tomorrow we be have lunch at Sal 's in Portifino .   such an awesome anti pasta plate!Today 's lunch : Mythos\n",
      "I search , but did n't see it on here . if you be a canadian resident , the ticket be now heavily discount ( you can get the discount through Flightcenter as well . ) it look like they be do an \" at par - ish \" promo . on sale until February , but first use well past that . Park ticket 25 % off for canadian resident\n",
      "hello ! Boyfriend and I will be in   in 3 week , and we want to get a caricature portrait do as a soviner . be there any good location that have they ? I have be hear Liberty Square and Hollywood Studios area be the good to find thembest place / time to get a colored Charicture portrait ?\n",
      "hey everyone ! just a quick question - I recently buy the annual silver pass for the park but want to upgrade to gold for the free parking throughout the year . I be bombard with work so one of my family member who go to the park recently be able to upgrade my pass there . if I be to park , will they be ask for any form of identification or verification since it be my first time use it since the upgrade ? and if so , will they be need my identification or my family member who do the upgrade?Gold Pass question\n",
      "just curious about what be in stor . any worker here ? I be a new hire and start work this week want to know what orientation be like\n",
      "also , will it be crowd ? first time visit the wizarde world , what should I expect this time of year?visite in early November 2019 , any tips or suggestion ? ?\n",
      "be it easy to get an interview ? \n",
      "\n",
      "\n",
      " do you travel long distance to work ? \n",
      "\n",
      "\n",
      " how rewarding be the job ? \n",
      "\n",
      "\n",
      " do you recommend submit an application ? \n",
      "\n",
      "\n",
      "\n",
      "\n",
      " just curious . .. I love be a guest , and I always wonder how much the cast member enjoy the work . \n",
      " edit : for anonymity , please do not include the state or local you be / have be occupy . no need to share that info . 🎢 work at   Studios , what be that like ? 🫠\n",
      "I just want to express this feeling I have after I try the Chili Cone Queso . it could do well . \n",
      "\n",
      "\n",
      " I grow up make Frito 's with chili cheese bean as a snack and this bring back memory , but right from the get go , I know it be go to be an ' Meh , okay ' snack . \n",
      "\n",
      "\n",
      "\n",
      "\n",
      " the lack of Frito 's chip . \n",
      "\n",
      "\n",
      " how little be the portion \n",
      "\n",
      "\n",
      " the staleness and lack of flavor of the cone itself . \n",
      "\n",
      "\n",
      "\n",
      "\n",
      " the only good thing that I like be the beef chuck be large then usual . but it could do well by emphasize the Frito 's chip . it be a good snack , but I do n't think people should give it as much of a praise just because it be a   snack . \n",
      "\n",
      "\n",
      " another snack that will go on the list and I be sure people will disagree , ( which be the point of this thread ) be the Churrios . they be good , for a churrio . but I swear the Churrios at Costco win just a bit more over the   Churrio . the one at   seem to be lack a bit of the soft chewy inside that Costco Churrio have   plenty off . that be the part I enjoy the most when eat a Churrio . \n",
      "\n",
      "\n",
      " also \" it be a Small world \" to end the list . what be something about the   Resort that almost everyone like , but you do n't ?\n",
      "do anyone have the ticket entry sound to   Land ? I want to use it as a sms tone . \n",
      "\n",
      "\n",
      " the current sound only please!ticket entry sound\n",
      "I have apply for merchandise , how should I prepare ?  \n",
      "\n",
      "\n",
      " I know to dress and smell awesome and I have   get ta shorten the beard by a lot . so what be I missing?I have an interview in a week\n",
      "there be a photo id at the bottom of the wallet I purchase , do anyone know if it be too late to call back and give the photo ID for more reprint of the same photo?i purchase a photo in wallet but want the 5x7\n",
      "as the title say , I just win a 4 pack of   ticket . edit : so accord to you guy isitpacke be a bad site to use . \n",
      "\n",
      "\n",
      " basically I want to go when I will be able to get as much stuff do as possible in 1 day . so be there any date or month I should aim to go to make that happen?Just win 4   ticket . when to go ?\n",
      "if you be in the park tomorrow and would like to get together with some other solo traveler , please DM I :) anyone go to EVE tomorrow and want to meet up ?\n",
      "I be a 19 year old that have a military card , triple AAA , and be a student . what be the good way to save money on ticket to ? 99 $ be a lot more than I be expect . \n",
      "\n",
      "\n",
      " I be plan on go with my girlfriend during December . maybe even November but no early than that . \n",
      "\n",
      "\n",
      " be Ebay or Craigslist a safe way to buy ticket ? be there a way to save money on buy two 1 day ticket at once?any way to get discount ticket to   during the month of December ?\n",
      "my family have annual pass and just get the e - mail allow we access to the park on the 5th of June . my son and I be both immunocompromise but we really want to go . my son be in a wheelchair and amusement park be onee of the few thing he can do and enjoy like a non - disabled kid . we be really think about do it but I ca n't decide how dumb it would be lol I know it be not the smart thing but we could really use a little vacation right now . can you guy talk I into or out of going?should we go ?\n",
      "yesterday at Gringotts ride we try to put in our stuff in the locker but it say it be $ 2 . last time I go here in 2015 it be free . be ride locker no long free ?\n",
      "out what IP house be my favorite in the past year as we finally make it to the final four from my March Madness bracket , who would be your winner ?\n",
      "Hi , \n",
      "\n",
      "\n",
      " I be plan an express vacation for the last October weekend , and buy my ticket through 's webpage . when I open the PDF file with my   eTickets it show : \n",
      "\n",
      "\n",
      " ' Valid Through : January 13 , 2019 ' \n",
      "\n",
      "\n",
      " but in 's Android app it show : \n",
      "\n",
      "\n",
      " ' valid thru 10/04/2017 ' \n",
      "\n",
      "\n",
      " have anyone encounter something like this ? I understand that the ticket expire 13 day after the first use , but I have n't use they , just log on to the app with my   username . \n",
      "\n",
      "\n",
      " thank you for your help!different expiration date for e - ticket ?\n",
      "my girlfriend and I be annual pass holder , and our year be come to an end so we decide to get silhouette ( finally ) at the studio . yesterday , one of the full time artist , Steven , be work , and it be n't busy so he spend about 15 minute with we and tell we about his life story ! \n",
      "\n",
      "\n",
      " it turn out his wife be also a silhouette artist , and they work at Tokyo   together for over 20 year ( just return to Anaheim 3 year ago ) he tell we ( and show we picture ! ) of hide travel around Japan -- chase the cherry blossom and the map for Tokyo   Sea . \n",
      "\n",
      "\n",
      " I know it be be say before , but the silhouette studio be an underrated gem of the resort . $ 10 for a silhouette and you get to experience the mastery of these artist like steven!great moment at   - Steven of the Silhouette Studio\n",
      "hey all - be you allow to bring in food to ? I see on the website you can but it be only allow in the park area . \n",
      "\n",
      "\n",
      " but when I last go I seem to remember it did n't matter . anyone know?can you bring food into ?\n",
      "I be go the day after Christmas and I have hear it can get pretty cold around then . how be the weather in late December ?\n",
      "I be wonder if the CM at the park be nice to visitor ? I go there for the first time and the ticket checker lady be very nice , she like my pin and say they be cute . I have to interact with three   other CM in the park and they be very friendly too . be all of they nice or be it just my experience ? a little scared , I ’ll go again and have a bad experience with CM.Are the CM in the park nice ?\n",
      "wife be out of town and friend be busy . look to spend a day out at the Parks . I may have an extra ticket available as well . anyone in the San Fernando Valley go to the Parks this weekend ?\n",
      "be there a difference to which sound come out at the ticket booth ? \n",
      "\n",
      "\n",
      " Whistle : \n",
      "\n",
      "\n",
      " magic : \n",
      " do the entry sound \" whistle \" and \" magic \" mean ? sound that occur when ticket be scan .\n",
      "look to go May 17 - 22 and want to know what a good price be for room . I be get $ 178 for cabina bay , which seem pretty good to I , but obviously always look to save some money . how far in advance should you book your resort rooms?how far in advance to buy resort hotel room ?\n",
      "hello ! quick question about the Socal Resident Offer for the 2 - day 1 - park / day option . do the second day have to be use right after the first day ( i.e. would I have to go to /CA two day in a row ) ? and would the second - day ticket be able to be transfer ? I be think of give it to a cousin as a graduation gift . socal Resident Offer\n",
      "I be plan a surprise trip to   for my boyfriend however we share a checking account . how do ticket purchase show up on your account statement ? be there a way to pay by PayPal or anything ? thank you!how do   ticket purchase show up on account statement ?\n",
      "so my wife and I have decide to become Silver season pass holder on our next trip out!we look the calendar for the time she already have off and realize that the first day we be plan to be there be actually a blackout date .   however the 2nd day be available .   be there any way we can upgrade at the park once we visit the first day ?   unfortunately we ca n't switch our day off . I need help with the season pass ! !\n",
      "look to go May 17 - 22 and want to know what a good price be for room . I be get $ 178 for cabina bay , which seem pretty good to I , but obviously always look to save some money . how far in advance should you book your resort rooms?how far in advance to buy resort hotel room ?\n",
      "so my wife and I have decide to become Silver season pass holder on our next trip out!we look the calendar for the time she already have off and realize that the first day we be plan to be there be actually a blackout date .   however the 2nd day be available .   be there any way we can upgrade at the park once we visit the first day ?   unfortunately we ca n't switch our day off . I need help with the season pass ! !\n",
      "so I still have my   ticket from 11 - 6 - 16 and I be wonder if I can still upgrade it to a season pass ? and if so , can I do that online ? .. or do I have to visit the park again?ticket upgrade to Season Pass ?\n",
      "I want to go to   towards the end of january on a day that it be rain so that the park be nt crowd . and I do n't want to go if it be n't rain . so my question two parted . do I have to buy a ticket for a specific date , or can I just buy a ticket the day that I decide to go ? and if I do buy a ticket for a specific date , can I swap it out for a different date if I decide not to go ? \n",
      " thanksb time to buy ticket\n",
      "so I see there be a holiday menu go on currently , be it possible to still order off their regular menu?question about carthay circle\n",
      "back in the day ( 2000 ) , I be a skipper on Jaws . I remember that the background music in Amity ( the area around the ride ) be maybe 6 - 8 song and I would love to figure out what those song be . I swear they tell we during training that all the song be from either the year Jaws come out or maybe the year it be supposedly set in . or maybe summer or Fourth of July song from the early 70 ? \n",
      "\n",
      "\n",
      " the only song I definitely remember without a doubt be Summer Breeze by Seals and Croft . one of the other skipper would sing along with it on the headset whenever it be on . anyone remember any of the other songs?I need some help remember the Amity background music playlist .\n",
      "do anybody know the schedule for Grinchmas ? I be take my fiancé for New Years Eve . any help appreciated!grinchmas schedule January 31st 2016\n",
      "my wife and I be head to   Jan 24 - 26 . we be stay off - site . I be in the Canadian Navy and have be to the park before and get a military discount at the gate . I ca n't recall how much of a discount it be ... do anybody have any idea if they still do this ? thanksmilitary discount at the gate ?\n",
      "I have a fanny pack with a metal clasp . would the metal clasp be allow on most ride or just a 3 prong plastic clip?3 prong clip type\n",
      "hi all , I start an LA base Meetup group and be try to build a following before scheduling event . if I do n't get enough people , I will probably cancel it as you need to pay in order to keep it go . \n",
      "\n",
      "\n",
      " the group will be mostly   meetup , potluck and movie night , new release movie and possibly some tour of the studio lot . \n",
      "\n",
      "\n",
      " here be the link : \n",
      "\n",
      "\n",
      " I will also need admin to manage the page and schedule some event . New LA base Meetup group .\n",
      "hi , as the title say my family and I will go to   this next Saturday and to   Studios on Sunday . we be stay with a cousin that live 20 min away ( by car , she say ) , I be wonder : \n",
      " 1.- do we have to get there pretty early to avoid do long line ? \n",
      " 2.- be it ok if I buy the ticket there or be it well if I buy they online ? \n",
      " 3.- can we take our own snack ? \n",
      " 4.- besides the initial fee , be there any other thing I have to pay ( other than food , gift , etc ) \n",
      " thank you all in advancelooke for some tip or idea for upcoming visit\n",
      "hey everyone ! just a quick question - I recently buy the annual silver pass for the park but want to upgrade to gold for the free parking throughout the year . I be bombard with work so one of my family member who go to the park recently be able to upgrade my pass there . if I be to park , will they be ask for any form of identification or verification since it be my first time use it since the upgrade ? and if so , will they be need my identification or my family member who do the upgrade?Gold Pass question\n",
      "what be some non - dessert snack credit option for the   quick service plan ?   be the snack credit item clearly mark on the menus?non - sweet snack option ?\n",
      "I be go to   in February and only have enough money to get a one day ticket to the park . I be wonder what be some must see attraction and ride . any advice ? in February !\n",
      "I have   ticket that I have never use that I buy two year ago . have they expired?expiration of   ticket ?\n",
      "my mom ’s be tell by many of her friend and coworker that because of spring break , we would have to get there 2 hour before the park open so we do n’t have to wait in line so long . how have it be the past few day ? how early should we get there?how early should I get to the park ?\n",
      "I just turn 30 and its my very first visit to . I be beyond excited and have such an amazing time there . word ca n't express the love and happiness I feel there . probably the happy thing I have ever experience in my life . \n",
      "\n",
      "\n",
      " we get home and I have a total emotional breakdown . all I want to do be go back to . \n",
      "\n",
      "\n",
      " have anyone experience this post   blue ? its go on day 2 and my first day back at work be a bit hard for I . I get home and that end up in tear as well . \n",
      "\n",
      "\n",
      " I be not sure why this happen . the ride , the food , the smell , the constant \" go , go , go \" at ? it be just such a magical and wonderful experience . other friend have say the post   blue taper off after a week or so sometimes . \n",
      "\n",
      "\n",
      " my friend go about every two / three month to   and have the $ 500 pass thing . now that I have be , I be also think about the pass .   be about six hour from where we be and I just miss it dearly . we be only there 2 day and I definitely feel like that be not enough time to experience everything . first time at   and emotional after ? ? !\n",
      "all of the premier hotel be sell out in mid December . we be try to figure out if we want to stay at one of their \" budget \" hotel , or just stay somewhere nearby . it be just I and my wife , no kid . TIA.Stay onsite or no ?\n",
      "anyone know how much they tend to charge at the park for upgrade a single day pass to a season pass at the park ? upgrade to a season pass at the park\n",
      "what be some non - dessert snack credit option for the   quick service plan ?   be the snack credit item clearly mark on the menus?non - sweet snack option ?\n",
      "have you guy run into this … I be try to book a resort ( 2/20 through 2/23 ) , but the reservation line say they be only except five day reservation ? the hotel be either not available or crazy over price ?   some thing about this do n’t seem right or be I miss something?shenanigan\n",
      "as the title say , I have a 12 hour layover at LAX on my way to Orlando . do anybody have any experience or tip on how I can get to the park and back most efficiently?Lax 12 hour layover .\n",
      "I be just in Orlando for   in May and I have the good time with FastPass and our pre - make reservation . I be wonder how much luck people have purchase FastPass the day they visit , and if that be even a possibility . this be my first time in California , and I need to make the most of our trip . how can I make sure I be not wait standby on every ride ? thank ! first timer\n",
      "I pre - buy a one day pass though T - Mobile , on the day off , can I update to the Silver Pass and still make payment ? how much would I need to pay the day of for the upgrade?t - mobile one day - upgrade to Silver Pass …\n",
      "have anyone put together a bucket list of thing they want to do at   Orlando ? I make one when I be a   Cast Member ( \n",
      " ) but now I be think of make a   Orlando theme one and have a hard time thinking of thing to put on it . any idea you might have be highly appreciated!Bucket List Items for   Orlando ?\n",
      "open Discussion . recently visit   for a AP Preview event of Harry Potter land and notice they have build a nice but extensive permanent Security check at the entrance . since 2001 ’s \" temporary \" bag check / security check now have be in place for almost 16 year . do any of you have an idea why they have n’t go ahead and start a plan to place permanent structure here ? possible revamp of the esplanade or do   think they will go away?permanent Security Check Structures .\n",
      "the movie be not even out yet .   but base on the book and Steven Spielberg be direct the movie .   it would make a great ride ,   could even ride around in a delorean .   and could have an Arcade in the line or something . should   create a Ready Player one ride ?\n",
      "realize my husband and I will down there during his birthday and wonder if they be do anything special . \n",
      " thank you 😊 be   do anything special for Dr. Suess birthday ? ( March 2nd )\n",
      "hey r/ ! I buy ticket on my iPhone app and have some question . do I need to stand in the ticket line to have these print or do I go just to the gate ? if that be the case how do I get a hard copy in order to get fast pass ? I could n't find any info online or in the sub . \n",
      "\n",
      "\n",
      " Thanks!Question- buy ticket on   app .\n",
      "do anyone else find the first room extremely cringe and uncomfortable ? \n",
      "\n",
      "\n",
      " hey Y'all ready to parteeyyy!!?actor room in supercharge\n",
      "look to go May 17 - 22 and want to know what a good price be for room . I be get $ 178 for cabina bay , which seem pretty good to I , but obviously always look to save some money . how far in advance should you book your resort rooms?how far in advance to buy resort hotel room ?\n",
      "my family have annual pass and just get the e - mail allow we access to the park on the 5th of June . my son and I be both immunocompromise but we really want to go . my son be in a wheelchair and amusement park be onee of the few thing he can do and enjoy like a non - disabled kid . we be really think about do it but I ca n't decide how dumb it would be lol I know it be not the smart thing but we could really use a little vacation right now . can you guy talk I into or out of going?should we go ?\n",
      "can I go to the Jazz Kitchen Express & Order Beignets in order get my downtown   Parking Validated ? if not what would be other way you get parking validate for a 3 - 4 hour   trip?beignet and dtd parking validation\n",
      "be it possible to bring an empty reusable water bottle into the park and refill it at drink fountains?bringe a reusable water bottle into the park ?\n",
      "be there any way to check the serial number for your ticket to verify that they have be activate without   void they for be a ' suspect third party transaction'?any way to verify ticket be activate ?\n",
      "my friend and I have park hopper pass for this come Monday at   in Orlando . we plan on get to the park when they open and want to cram in the most that we can in a day . any suggestions?park hop this Monday , how do we make the most of it ?\n",
      "hello my fellow er ! \n",
      "\n",
      "\n",
      " as some of you may know , Friday , September 18th will be Dapper Day at the   Resort ! what be Dapper Day , you ask ! ? \n",
      "\n",
      "\n",
      "\n",
      "\n",
      " DAPPER DAY ® event celebrate the tradition of step out in style . start spring of 2011 , DAPPER DAY organize fashionable gathering attend by over 20,000 well - dress guest twice a year at the   Resorts in LA , Orlando , and Paris ( autumn event only ) . dapper day event at   Parks be your chance enjoy your favorite ride and attraction while look your good . these be not strict period recreation event , instead , all sophisticated fashion , from vintage - inspire to contemporary chic , be encourage . * \n",
      " Source \n",
      "\n",
      "\n",
      "\n",
      "\n",
      " TLDR ? Dapper Day be an event where you dress Dapper to the   Resort and enjoy attraction while reminisce in the old day of . \n",
      "\n",
      "\n",
      " [ here be a few example of what to wear ! ] ( \n",
      " ) the user of /r / bind be ever so helpful in   clothing style if you would like any opinion on your outfits ! \n",
      "\n",
      "\n",
      " here be this year 's official \n",
      " Event Information \n",
      "\n",
      "\n",
      "\n",
      "\n",
      " meet up at 11 am at the Enchanted Tiki Room Lanai \n",
      "  for a picture or two ! \n",
      "\n",
      "\n",
      " due to popular demand , well host another meetup at 5 at the Animation Academy . meet inside sorcerer 's workshop!/r/ meet up : September 18 , 2015 DAPPER DAY\n",
      "post in hope that someone that have pull at the park might see this . \n",
      "\n",
      "\n",
      " the drink be good , taste like orange soda with something add . for $ 9 it be disappointing that the drink be like 4 oz . the guy fill they did n't even fill it to the top , maybe a bit over half . they do n't wait until fizz go down to actually top it off . the people on line before I go back up to complain and that should have be a warning sign . \n",
      "\n",
      "\n",
      " I get that it come in a cup you get to keep , so maybe compromise by have something like a $ 1 refill . 4 oz of orange soda for $ 9 feel like a rip off . I get a butterbeer pretty much every time I go , so it be n't just be cheap ,   but for the price a butterbeer be actually satisfy . flame moe taste good , but value be terrible\n",
      "my wife and I be head to   Jan 24 - 26 . we be stay off - site . I be in the Canadian Navy and have be to the park before and get a military discount at the gate . I ca n't recall how much of a discount it be ... do anybody have any idea if they still do this ? thanksmilitary discount at the gate ?\n",
      "pretty simple question . I could n't find an answer online or a place to put it at checkout so I be assume no . but think I would ask anyways . do you get a discount at store.com with an annual pass ?\n"
     ]
    }
   ],
   "source": [
    "# Set up a DataFrame 'result_df3' with columns 'true' for y_test, 'pred' for predictions, and 'post' for X_test\n",
    "result_df3 = pd.DataFrame({'true': y_test_boot, 'pred': predictions3, 'post': X_test_boot})\n",
    "\n",
    "# Set missprediction where y_test is not equal to prediction\n",
    "missprediction3 = result_df3[result_df3['true'] != result_df3['pred']]\n",
    "\n",
    "# Print the DataFrame containing mispredictions\n",
    "print(\"Mispredictions:\")\n",
    "print(missprediction3)\n",
    "\n",
    "# Print the full content of the 'post' column in mispredictions\n",
    "print(\"\\nFull 'post' content of Mispredictions:\")\n",
    "for post_content in missprediction3['post']:\n",
    "    print(post_content)"
   ]
  },
  {
   "cell_type": "markdown",
   "id": "8fee7bd1-a2f2-4837-9824-52569aa0088b",
   "metadata": {},
   "source": [
    "**Incorrectly predicted post analysis**\n",
    "- The contents are mainly irrelevant to any subreddits, did not mention any keywords that could identify as Disneyland or Universal Studios"
   ]
  },
  {
   "cell_type": "markdown",
   "id": "2ba53c6b-8215-45c0-8240-e4dfccf22dcf",
   "metadata": {},
   "source": [
    "**Model Evaluation**\n",
    "- Training score: 1 indicates that the model learned the patterns present in the data perfectly\n",
    "- Testing score: 0.96 indicates the model is able to perform very well on outside data\n",
    "- The model is not overfit and have a close performance between training data and testing data\n",
    "- Precision score: 0.96 and 0.96 indicates the model correctly predicts the class: Universal 96% and class: Disneyland 96% of the time\n",
    "- Recall score: 0.95 and 0.97 indicates that the model is able to identify the actual values of class: Universal 95% and class: Disneyland 97% of the time\n",
    "- F1 score: 0.96 and 0.96 indicates the model well balanced performance on both precision and recall and the score are matched between these 2 classes.\n",
    "- Accuracy score: 0.96 indicates the the model is highly accurate\n",
    "- Macro avg and Weighted avg: 0.96 and 0.96 indicates high performance of the model\n",
    "- Incorrectly predict: Universal 4% Disney 6%\n",
    "- Out of 2429 posts, 101 posts are incorrectly predicted: 4.16%\n",
    "\n",
    "**Final Evaluation**\n",
    "- Random Forest performance is better than Logistic Regression since Random Forest is a high-complexed model that works well with complexed data, reduce data overfitting, and robust to outliers.\n",
    "- Performance has been improved in both Universal and Disney classes\n",
    "- Universal precision score is 0.1 higher than Disney resulting in higher correct prediction"
   ]
  },
  {
   "cell_type": "markdown",
   "id": "24ea014f-70f0-487c-87c8-0bbaa8eaf2ea",
   "metadata": {},
   "source": [
    "## Model4: TfidfVectorizer + RandomForestClassifier"
   ]
  },
  {
   "cell_type": "code",
   "execution_count": 52,
   "id": "c67d25c2-3d83-42d2-82a2-21fb347bd5e7",
   "metadata": {},
   "outputs": [],
   "source": [
    "# Set up the pipeline of TfidfVectorizer and Random Forest Classifier combined with parameters obtained from GridSearch \n",
    "pipe4 = Pipeline([\n",
    "    ('tvec', TfidfVectorizer(max_df=0.9, max_features=5000, min_df=2, ngram_range= (1,1), stop_words='english')),\n",
    "    ('rf', RandomForestClassifier(max_depth=None, n_estimators=100))])\n"
   ]
  },
  {
   "cell_type": "code",
   "execution_count": 53,
   "id": "f22e120f-618c-434d-a323-52c44d0b92fc",
   "metadata": {},
   "outputs": [
    {
     "data": {
      "text/html": [
       "<style>#sk-container-id-4 {color: black;}#sk-container-id-4 pre{padding: 0;}#sk-container-id-4 div.sk-toggleable {background-color: white;}#sk-container-id-4 label.sk-toggleable__label {cursor: pointer;display: block;width: 100%;margin-bottom: 0;padding: 0.3em;box-sizing: border-box;text-align: center;}#sk-container-id-4 label.sk-toggleable__label-arrow:before {content: \"▸\";float: left;margin-right: 0.25em;color: #696969;}#sk-container-id-4 label.sk-toggleable__label-arrow:hover:before {color: black;}#sk-container-id-4 div.sk-estimator:hover label.sk-toggleable__label-arrow:before {color: black;}#sk-container-id-4 div.sk-toggleable__content {max-height: 0;max-width: 0;overflow: hidden;text-align: left;background-color: #f0f8ff;}#sk-container-id-4 div.sk-toggleable__content pre {margin: 0.2em;color: black;border-radius: 0.25em;background-color: #f0f8ff;}#sk-container-id-4 input.sk-toggleable__control:checked~div.sk-toggleable__content {max-height: 200px;max-width: 100%;overflow: auto;}#sk-container-id-4 input.sk-toggleable__control:checked~label.sk-toggleable__label-arrow:before {content: \"▾\";}#sk-container-id-4 div.sk-estimator input.sk-toggleable__control:checked~label.sk-toggleable__label {background-color: #d4ebff;}#sk-container-id-4 div.sk-label input.sk-toggleable__control:checked~label.sk-toggleable__label {background-color: #d4ebff;}#sk-container-id-4 input.sk-hidden--visually {border: 0;clip: rect(1px 1px 1px 1px);clip: rect(1px, 1px, 1px, 1px);height: 1px;margin: -1px;overflow: hidden;padding: 0;position: absolute;width: 1px;}#sk-container-id-4 div.sk-estimator {font-family: monospace;background-color: #f0f8ff;border: 1px dotted black;border-radius: 0.25em;box-sizing: border-box;margin-bottom: 0.5em;}#sk-container-id-4 div.sk-estimator:hover {background-color: #d4ebff;}#sk-container-id-4 div.sk-parallel-item::after {content: \"\";width: 100%;border-bottom: 1px solid gray;flex-grow: 1;}#sk-container-id-4 div.sk-label:hover label.sk-toggleable__label {background-color: #d4ebff;}#sk-container-id-4 div.sk-serial::before {content: \"\";position: absolute;border-left: 1px solid gray;box-sizing: border-box;top: 0;bottom: 0;left: 50%;z-index: 0;}#sk-container-id-4 div.sk-serial {display: flex;flex-direction: column;align-items: center;background-color: white;padding-right: 0.2em;padding-left: 0.2em;position: relative;}#sk-container-id-4 div.sk-item {position: relative;z-index: 1;}#sk-container-id-4 div.sk-parallel {display: flex;align-items: stretch;justify-content: center;background-color: white;position: relative;}#sk-container-id-4 div.sk-item::before, #sk-container-id-4 div.sk-parallel-item::before {content: \"\";position: absolute;border-left: 1px solid gray;box-sizing: border-box;top: 0;bottom: 0;left: 50%;z-index: -1;}#sk-container-id-4 div.sk-parallel-item {display: flex;flex-direction: column;z-index: 1;position: relative;background-color: white;}#sk-container-id-4 div.sk-parallel-item:first-child::after {align-self: flex-end;width: 50%;}#sk-container-id-4 div.sk-parallel-item:last-child::after {align-self: flex-start;width: 50%;}#sk-container-id-4 div.sk-parallel-item:only-child::after {width: 0;}#sk-container-id-4 div.sk-dashed-wrapped {border: 1px dashed gray;margin: 0 0.4em 0.5em 0.4em;box-sizing: border-box;padding-bottom: 0.4em;background-color: white;}#sk-container-id-4 div.sk-label label {font-family: monospace;font-weight: bold;display: inline-block;line-height: 1.2em;}#sk-container-id-4 div.sk-label-container {text-align: center;}#sk-container-id-4 div.sk-container {/* jupyter's `normalize.less` sets `[hidden] { display: none; }` but bootstrap.min.css set `[hidden] { display: none !important; }` so we also need the `!important` here to be able to override the default hidden behavior on the sphinx rendered scikit-learn.org. See: https://github.com/scikit-learn/scikit-learn/issues/21755 */display: inline-block !important;position: relative;}#sk-container-id-4 div.sk-text-repr-fallback {display: none;}</style><div id=\"sk-container-id-4\" class=\"sk-top-container\"><div class=\"sk-text-repr-fallback\"><pre>Pipeline(steps=[(&#x27;tvec&#x27;,\n",
       "                 TfidfVectorizer(max_df=0.9, max_features=5000, min_df=2,\n",
       "                                 stop_words=&#x27;english&#x27;)),\n",
       "                (&#x27;rf&#x27;, RandomForestClassifier())])</pre><b>In a Jupyter environment, please rerun this cell to show the HTML representation or trust the notebook. <br />On GitHub, the HTML representation is unable to render, please try loading this page with nbviewer.org.</b></div><div class=\"sk-container\" hidden><div class=\"sk-item sk-dashed-wrapped\"><div class=\"sk-label-container\"><div class=\"sk-label sk-toggleable\"><input class=\"sk-toggleable__control sk-hidden--visually\" id=\"sk-estimator-id-10\" type=\"checkbox\" ><label for=\"sk-estimator-id-10\" class=\"sk-toggleable__label sk-toggleable__label-arrow\">Pipeline</label><div class=\"sk-toggleable__content\"><pre>Pipeline(steps=[(&#x27;tvec&#x27;,\n",
       "                 TfidfVectorizer(max_df=0.9, max_features=5000, min_df=2,\n",
       "                                 stop_words=&#x27;english&#x27;)),\n",
       "                (&#x27;rf&#x27;, RandomForestClassifier())])</pre></div></div></div><div class=\"sk-serial\"><div class=\"sk-item\"><div class=\"sk-estimator sk-toggleable\"><input class=\"sk-toggleable__control sk-hidden--visually\" id=\"sk-estimator-id-11\" type=\"checkbox\" ><label for=\"sk-estimator-id-11\" class=\"sk-toggleable__label sk-toggleable__label-arrow\">TfidfVectorizer</label><div class=\"sk-toggleable__content\"><pre>TfidfVectorizer(max_df=0.9, max_features=5000, min_df=2, stop_words=&#x27;english&#x27;)</pre></div></div></div><div class=\"sk-item\"><div class=\"sk-estimator sk-toggleable\"><input class=\"sk-toggleable__control sk-hidden--visually\" id=\"sk-estimator-id-12\" type=\"checkbox\" ><label for=\"sk-estimator-id-12\" class=\"sk-toggleable__label sk-toggleable__label-arrow\">RandomForestClassifier</label><div class=\"sk-toggleable__content\"><pre>RandomForestClassifier()</pre></div></div></div></div></div></div></div>"
      ],
      "text/plain": [
       "Pipeline(steps=[('tvec',\n",
       "                 TfidfVectorizer(max_df=0.9, max_features=5000, min_df=2,\n",
       "                                 stop_words='english')),\n",
       "                ('rf', RandomForestClassifier())])"
      ]
     },
     "execution_count": 53,
     "metadata": {},
     "output_type": "execute_result"
    }
   ],
   "source": [
    "# Fit the pipeline to Training bootstrapped data\n",
    "pipe4.fit(X_train_boot, y_train_boot)"
   ]
  },
  {
   "cell_type": "code",
   "execution_count": 54,
   "id": "6e448b41-36f8-4c8a-8bd9-467388b04aab",
   "metadata": {},
   "outputs": [
    {
     "data": {
      "text/plain": [
       "1.0"
      ]
     },
     "execution_count": 54,
     "metadata": {},
     "output_type": "execute_result"
    }
   ],
   "source": [
    "# Retrieve the accuracy score of Training bootstrapped data\n",
    "pipe4.score(X_train_boot, y_train_boot).round(2)"
   ]
  },
  {
   "cell_type": "code",
   "execution_count": 55,
   "id": "e791c0bd-1c0c-415f-95cb-84e2b61759f7",
   "metadata": {},
   "outputs": [
    {
     "data": {
      "text/plain": [
       "0.96"
      ]
     },
     "execution_count": 55,
     "metadata": {},
     "output_type": "execute_result"
    }
   ],
   "source": [
    "# Retrieve the accuracy score of Testing bootstrapped data\n",
    "pipe4.score(X_test_boot, y_test_boot).round(2)"
   ]
  },
  {
   "cell_type": "code",
   "execution_count": 56,
   "id": "0435cc8a-afe5-47d1-8e5f-0921f5fd1550",
   "metadata": {},
   "outputs": [
    {
     "data": {
      "text/plain": [
       "<sklearn.metrics._plot.confusion_matrix.ConfusionMatrixDisplay at 0x125882100>"
      ]
     },
     "execution_count": 56,
     "metadata": {},
     "output_type": "execute_result"
    },
    {
     "data": {
      "image/png": "[encoded data removed]",
      "text/plain": [
       "<Figure size 640x480 with 2 Axes>"
      ]
     },
     "metadata": {},
     "output_type": "display_data"
    }
   ],
   "source": [
    "# Get predictions of Testing bootstrapped data\n",
    "predictions4 = pipe4.predict(X_test_boot)\n",
    "\n",
    "# Set up confusion matrix\n",
    "dist = ConfusionMatrixDisplay(confusion_matrix(y_test_boot, predictions4), \n",
    "                       display_labels=['Universal', 'Disney'])\n",
    "dist.plot()"
   ]
  },
  {
   "cell_type": "code",
   "execution_count": 57,
   "id": "b977cdd0-f4b3-4096-9a1e-60a2796d5192",
   "metadata": {},
   "outputs": [
    {
     "name": "stdout",
     "output_type": "stream",
     "text": [
      "True Negatives :  1076\n",
      "False Positives :  60\n",
      "False Negatives :  48\n",
      "True Positives :  1245\n"
     ]
    }
   ],
   "source": [
    "# Set up the confusion matrix and extract individual score elements\n",
    "\n",
    "tn4, fp4, fn4, tp4 = confusion_matrix(y_test_boot, predictions4).ravel()\n",
    "print(\"True Negatives : \",tn4)\n",
    "print(\"False Positives : \",fp4)\n",
    "print(\"False Negatives : \", fn4) \n",
    "print(\"True Positives : \", tp4)"
   ]
  },
  {
   "cell_type": "code",
   "execution_count": 58,
   "id": "d8889f38-08a5-47c2-ac4e-ac8470017631",
   "metadata": {},
   "outputs": [
    {
     "name": "stdout",
     "output_type": "stream",
     "text": [
      "Sensitivity:  0.96\n"
     ]
    }
   ],
   "source": [
    "# Obtain Sensitivity score\n",
    "print('Sensitivity: ', (tp4/(tp4+fn4)).round(2))"
   ]
  },
  {
   "cell_type": "code",
   "execution_count": 59,
   "id": "f697f052-5962-437c-af3c-ecfdac06be20",
   "metadata": {},
   "outputs": [
    {
     "name": "stdout",
     "output_type": "stream",
     "text": [
      "Specificity:  0.95\n"
     ]
    }
   ],
   "source": [
    "# Obtain Specificity score\n",
    "print('Specificity: ', (tn4/(tn4+fp4)).round(2))"
   ]
  },
  {
   "cell_type": "code",
   "execution_count": 60,
   "id": "7309ad4c-ba4b-46d3-ad6e-3f6922106cfd",
   "metadata": {},
   "outputs": [
    {
     "name": "stdout",
     "output_type": "stream",
     "text": [
      "              precision    recall  f1-score   support\n",
      "\n",
      "           0       0.96      0.95      0.95      1136\n",
      "           1       0.95      0.96      0.96      1293\n",
      "\n",
      "    accuracy                           0.96      2429\n",
      "   macro avg       0.96      0.96      0.96      2429\n",
      "weighted avg       0.96      0.96      0.96      2429\n",
      "\n"
     ]
    }
   ],
   "source": [
    "# Set up classification report\n",
    "print(classification_report(y_test_boot, predictions4))"
   ]
  },
  {
   "cell_type": "code",
   "execution_count": 61,
   "id": "daa90fb6-bd31-4eec-8b59-75ca5c3bca85",
   "metadata": {},
   "outputs": [
    {
     "name": "stdout",
     "output_type": "stream",
     "text": [
      "      true  pred                                               post\n",
      "1729     1     0  so I want to buy they online to skip the ticke...\n",
      "4172     0     1  what be some non - dessert snack credit option...\n",
      "4340     0     1  hello premier pass holder , \\n\\n\\n have anyone...\n",
      "5267     0     1  plan on visit the park on Saturday . anyone kn...\n",
      "2057     1     0  hi everyone , \\n\\n\\n I have be look off and on...\n",
      "...    ...   ...                                                ...\n",
      "1666     1     0  hello my fellow er ! \\n\\n\\n as some of you may...\n",
      "3975     0     1  I be interested in do the Gringotts ride but b...\n",
      "4564     0     1  post in hope that someone that have pull at th...\n",
      "3966     0     1  my wife and I be head to   Jan 24 - 26 . we be...\n",
      "2922     1     0  pretty simple question . I could n't find an a...\n",
      "\n",
      "[108 rows x 3 columns]\n"
     ]
    }
   ],
   "source": [
    "# Set up a dataframe of y_test, prediction, and X_test columns\n",
    "result_df4 = pd.DataFrame({'true':y_test_boot, 'pred':predictions4, 'post': X_test_boot})\n",
    "\n",
    "# Set missprediction where y_test is not equal to prediction\n",
    "missprediction4 = result_df4[result_df4['true']!=result_df4['pred']]\n",
    "print(missprediction4)\n",
    "\n",
    "# Save missprediction to csv file\n",
    "missprediction4.to_csv('missed_predictions5.csv', index=False)"
   ]
  },
  {
   "cell_type": "markdown",
   "id": "7a405124-782a-4e6d-baad-3544ff6998e6",
   "metadata": {},
   "source": [
    "**Model Evaluation**\n",
    "- Training score: 1 indicates that the model learned the patterns present in the data perfectly\n",
    "- Testing score: 0.96 indicates the model is able to perform very well on outside data\n",
    "- The model is not overfit and have a close performance between training data and testing data\n",
    "- Precision score: 0.96 and 0.95 indicates the model correctly predicts the class: Universal 96% and class: Disneyland 95% of the time\n",
    "- Recall score: 0.95 and 0.96 indicates that the model is able to identify the actual values of class: Universal 95% and class: Disneyland 96% of the time\n",
    "- F1 score: 0.95 and 0.96 indicates the model well balanced performance on both precision and recall and the score are close between these 2 classes.\n",
    "- Accuracy score: 0.96 indicates the the model is highly accurate\n",
    "- Macro avg and Weighted avg: 0.96 and 0.96 indicates high performance of the model\n",
    "- Incorrectly predict: Universal 2.6% Disney 5.9%\n",
    "- Out of 2429 posts, 108 posts are incorrectly predicted: 4.45%\n",
    "\n",
    "**Final Evaluation**\n",
    "- Combining TfidfVectorizer with Random Forest does not improve the performance of the model, even though TfidfVectorizer considers both frequency of the words and the importance of the words within the context, in contrast to CountVectorizer which only consider the frequency of the words.\n"
   ]
  },
  {
   "cell_type": "markdown",
   "id": "6ea8a196-3f95-43ce-8f49-855b85f27212",
   "metadata": {},
   "source": [
    "## Model5: CountVectorizer + MultinomialNB"
   ]
  },
  {
   "cell_type": "code",
   "execution_count": 62,
   "id": "a21e12f5-2c21-4287-b2fe-0e6fd32b8c7c",
   "metadata": {},
   "outputs": [],
   "source": [
    "# Set up the pipeline of CountVecotizer and Multinomial Naive Bayes combined with parameters obtained from GridSearch \n",
    "\n",
    "pipe5 = Pipeline([\n",
    "    ('cvec', CountVectorizer(max_df=0.95, max_features=5000, min_df=2, ngram_range=(1,1), stop_words='english')),\n",
    "    ('nb', MultinomialNB())])\n"
   ]
  },
  {
   "cell_type": "code",
   "execution_count": 63,
   "id": "ae58f69a-3ec8-41bf-addf-a75ac3593cbf",
   "metadata": {},
   "outputs": [],
   "source": [
    "#gs5 = GridSearchCV(pipe5, \n",
    "                  #param_grid=pipe5_params, \n",
    "                  #cv=5,\n",
    "                  #verbose=1)"
   ]
  },
  {
   "cell_type": "code",
   "execution_count": 64,
   "id": "e30243d9-9b3e-42d0-9047-513d4db9227e",
   "metadata": {},
   "outputs": [
    {
     "data": {
      "text/html": [
       "<style>#sk-container-id-5 {color: black;}#sk-container-id-5 pre{padding: 0;}#sk-container-id-5 div.sk-toggleable {background-color: white;}#sk-container-id-5 label.sk-toggleable__label {cursor: pointer;display: block;width: 100%;margin-bottom: 0;padding: 0.3em;box-sizing: border-box;text-align: center;}#sk-container-id-5 label.sk-toggleable__label-arrow:before {content: \"▸\";float: left;margin-right: 0.25em;color: #696969;}#sk-container-id-5 label.sk-toggleable__label-arrow:hover:before {color: black;}#sk-container-id-5 div.sk-estimator:hover label.sk-toggleable__label-arrow:before {color: black;}#sk-container-id-5 div.sk-toggleable__content {max-height: 0;max-width: 0;overflow: hidden;text-align: left;background-color: #f0f8ff;}#sk-container-id-5 div.sk-toggleable__content pre {margin: 0.2em;color: black;border-radius: 0.25em;background-color: #f0f8ff;}#sk-container-id-5 input.sk-toggleable__control:checked~div.sk-toggleable__content {max-height: 200px;max-width: 100%;overflow: auto;}#sk-container-id-5 input.sk-toggleable__control:checked~label.sk-toggleable__label-arrow:before {content: \"▾\";}#sk-container-id-5 div.sk-estimator input.sk-toggleable__control:checked~label.sk-toggleable__label {background-color: #d4ebff;}#sk-container-id-5 div.sk-label input.sk-toggleable__control:checked~label.sk-toggleable__label {background-color: #d4ebff;}#sk-container-id-5 input.sk-hidden--visually {border: 0;clip: rect(1px 1px 1px 1px);clip: rect(1px, 1px, 1px, 1px);height: 1px;margin: -1px;overflow: hidden;padding: 0;position: absolute;width: 1px;}#sk-container-id-5 div.sk-estimator {font-family: monospace;background-color: #f0f8ff;border: 1px dotted black;border-radius: 0.25em;box-sizing: border-box;margin-bottom: 0.5em;}#sk-container-id-5 div.sk-estimator:hover {background-color: #d4ebff;}#sk-container-id-5 div.sk-parallel-item::after {content: \"\";width: 100%;border-bottom: 1px solid gray;flex-grow: 1;}#sk-container-id-5 div.sk-label:hover label.sk-toggleable__label {background-color: #d4ebff;}#sk-container-id-5 div.sk-serial::before {content: \"\";position: absolute;border-left: 1px solid gray;box-sizing: border-box;top: 0;bottom: 0;left: 50%;z-index: 0;}#sk-container-id-5 div.sk-serial {display: flex;flex-direction: column;align-items: center;background-color: white;padding-right: 0.2em;padding-left: 0.2em;position: relative;}#sk-container-id-5 div.sk-item {position: relative;z-index: 1;}#sk-container-id-5 div.sk-parallel {display: flex;align-items: stretch;justify-content: center;background-color: white;position: relative;}#sk-container-id-5 div.sk-item::before, #sk-container-id-5 div.sk-parallel-item::before {content: \"\";position: absolute;border-left: 1px solid gray;box-sizing: border-box;top: 0;bottom: 0;left: 50%;z-index: -1;}#sk-container-id-5 div.sk-parallel-item {display: flex;flex-direction: column;z-index: 1;position: relative;background-color: white;}#sk-container-id-5 div.sk-parallel-item:first-child::after {align-self: flex-end;width: 50%;}#sk-container-id-5 div.sk-parallel-item:last-child::after {align-self: flex-start;width: 50%;}#sk-container-id-5 div.sk-parallel-item:only-child::after {width: 0;}#sk-container-id-5 div.sk-dashed-wrapped {border: 1px dashed gray;margin: 0 0.4em 0.5em 0.4em;box-sizing: border-box;padding-bottom: 0.4em;background-color: white;}#sk-container-id-5 div.sk-label label {font-family: monospace;font-weight: bold;display: inline-block;line-height: 1.2em;}#sk-container-id-5 div.sk-label-container {text-align: center;}#sk-container-id-5 div.sk-container {/* jupyter's `normalize.less` sets `[hidden] { display: none; }` but bootstrap.min.css set `[hidden] { display: none !important; }` so we also need the `!important` here to be able to override the default hidden behavior on the sphinx rendered scikit-learn.org. See: https://github.com/scikit-learn/scikit-learn/issues/21755 */display: inline-block !important;position: relative;}#sk-container-id-5 div.sk-text-repr-fallback {display: none;}</style><div id=\"sk-container-id-5\" class=\"sk-top-container\"><div class=\"sk-text-repr-fallback\"><pre>Pipeline(steps=[(&#x27;cvec&#x27;,\n",
       "                 CountVectorizer(max_df=0.95, max_features=5000, min_df=2,\n",
       "                                 stop_words=&#x27;english&#x27;)),\n",
       "                (&#x27;nb&#x27;, MultinomialNB())])</pre><b>In a Jupyter environment, please rerun this cell to show the HTML representation or trust the notebook. <br />On GitHub, the HTML representation is unable to render, please try loading this page with nbviewer.org.</b></div><div class=\"sk-container\" hidden><div class=\"sk-item sk-dashed-wrapped\"><div class=\"sk-label-container\"><div class=\"sk-label sk-toggleable\"><input class=\"sk-toggleable__control sk-hidden--visually\" id=\"sk-estimator-id-13\" type=\"checkbox\" ><label for=\"sk-estimator-id-13\" class=\"sk-toggleable__label sk-toggleable__label-arrow\">Pipeline</label><div class=\"sk-toggleable__content\"><pre>Pipeline(steps=[(&#x27;cvec&#x27;,\n",
       "                 CountVectorizer(max_df=0.95, max_features=5000, min_df=2,\n",
       "                                 stop_words=&#x27;english&#x27;)),\n",
       "                (&#x27;nb&#x27;, MultinomialNB())])</pre></div></div></div><div class=\"sk-serial\"><div class=\"sk-item\"><div class=\"sk-estimator sk-toggleable\"><input class=\"sk-toggleable__control sk-hidden--visually\" id=\"sk-estimator-id-14\" type=\"checkbox\" ><label for=\"sk-estimator-id-14\" class=\"sk-toggleable__label sk-toggleable__label-arrow\">CountVectorizer</label><div class=\"sk-toggleable__content\"><pre>CountVectorizer(max_df=0.95, max_features=5000, min_df=2, stop_words=&#x27;english&#x27;)</pre></div></div></div><div class=\"sk-item\"><div class=\"sk-estimator sk-toggleable\"><input class=\"sk-toggleable__control sk-hidden--visually\" id=\"sk-estimator-id-15\" type=\"checkbox\" ><label for=\"sk-estimator-id-15\" class=\"sk-toggleable__label sk-toggleable__label-arrow\">MultinomialNB</label><div class=\"sk-toggleable__content\"><pre>MultinomialNB()</pre></div></div></div></div></div></div></div>"
      ],
      "text/plain": [
       "Pipeline(steps=[('cvec',\n",
       "                 CountVectorizer(max_df=0.95, max_features=5000, min_df=2,\n",
       "                                 stop_words='english')),\n",
       "                ('nb', MultinomialNB())])"
      ]
     },
     "execution_count": 64,
     "metadata": {},
     "output_type": "execute_result"
    }
   ],
   "source": [
    "# Fit the pipeline to Training bootstrapped data\n",
    "\n",
    "pipe5.fit(X_train_boot, y_train_boot)"
   ]
  },
  {
   "cell_type": "code",
   "execution_count": 65,
   "id": "378f4662-f074-47e9-a5da-4dcb3dd838e8",
   "metadata": {},
   "outputs": [],
   "source": [
    "#pipe5.best_score_"
   ]
  },
  {
   "cell_type": "code",
   "execution_count": 66,
   "id": "1b34bf45-3267-484f-a66d-a17d225d2c09",
   "metadata": {},
   "outputs": [],
   "source": [
    "#pipe5.best_params_"
   ]
  },
  {
   "cell_type": "code",
   "execution_count": 67,
   "id": "52fe1b67-f6f9-4eef-a29a-8a48662bbc71",
   "metadata": {},
   "outputs": [
    {
     "data": {
      "text/plain": [
       "0.95"
      ]
     },
     "execution_count": 67,
     "metadata": {},
     "output_type": "execute_result"
    }
   ],
   "source": [
    "# Retrieve the accuracy score of Training bootstrapped data\n",
    "\n",
    "pipe5.score(X_train_boot, y_train_boot).round(2)"
   ]
  },
  {
   "cell_type": "code",
   "execution_count": 68,
   "id": "5a534c3d-d03a-4493-820c-6320440a076f",
   "metadata": {},
   "outputs": [
    {
     "data": {
      "text/plain": [
       "0.92"
      ]
     },
     "execution_count": 68,
     "metadata": {},
     "output_type": "execute_result"
    }
   ],
   "source": [
    "# Retrieve the accuracy score of Testing bootstrapped data\n",
    "\n",
    "pipe5.score(X_test_boot, y_test_boot).round(2)"
   ]
  },
  {
   "cell_type": "code",
   "execution_count": 69,
   "id": "97736a60-efdf-4889-b635-e8417b38964c",
   "metadata": {},
   "outputs": [
    {
     "data": {
      "text/plain": [
       "<sklearn.metrics._plot.confusion_matrix.ConfusionMatrixDisplay at 0x125eab9a0>"
      ]
     },
     "execution_count": 69,
     "metadata": {},
     "output_type": "execute_result"
    },
    {
     "data": {
      "image/png": "[encoded data removed]",
      "text/plain": [
       "<Figure size 640x480 with 2 Axes>"
      ]
     },
     "metadata": {},
     "output_type": "display_data"
    }
   ],
   "source": [
    "# Get predictions of Testing data\n",
    "predictions5 = pipe5.predict(X_test_boot)\n",
    "\n",
    "# Set up confusion matrix\n",
    "dist = ConfusionMatrixDisplay(confusion_matrix(y_test_boot, predictions4), \n",
    "                       display_labels=['Universal', 'Disney'])\n",
    "dist.plot()"
   ]
  },
  {
   "cell_type": "code",
   "execution_count": 70,
   "id": "e982cbdd-d8e8-477a-8879-fbb7c9e344e9",
   "metadata": {},
   "outputs": [
    {
     "name": "stdout",
     "output_type": "stream",
     "text": [
      "True Negatives :  1074\n",
      "False Positives :  62\n",
      "False Negatives :  121\n",
      "True Positives :  1172\n"
     ]
    }
   ],
   "source": [
    "# Set up the confusion matrix and extract individual score elements\n",
    "\n",
    "tn5, fp5, fn5, tp5 = confusion_matrix(y_test_boot, predictions5).ravel()\n",
    "print(\"True Negatives : \",tn5)\n",
    "print(\"False Positives : \",fp5)\n",
    "print(\"False Negatives : \", fn5) \n",
    "print(\"True Positives : \", tp5)"
   ]
  },
  {
   "cell_type": "code",
   "execution_count": 71,
   "id": "a12fc806-b7dc-4291-b40d-a28cf830a1a4",
   "metadata": {},
   "outputs": [
    {
     "name": "stdout",
     "output_type": "stream",
     "text": [
      "Sensitivity:  0.91\n"
     ]
    }
   ],
   "source": [
    "# Obtain Sensitivity score\n",
    "print('Sensitivity: ', (tp5/(tp5+fn5)).round(2))"
   ]
  },
  {
   "cell_type": "code",
   "execution_count": 72,
   "id": "2e51069c-bfaa-4c1f-9a50-db0f408aa7e5",
   "metadata": {},
   "outputs": [
    {
     "name": "stdout",
     "output_type": "stream",
     "text": [
      "Specificity:  0.95\n"
     ]
    }
   ],
   "source": [
    "# Obtain Specificity score\n",
    "print('Specificity: ', (tn5/(tn5+fp5)).round(2))"
   ]
  },
  {
   "cell_type": "code",
   "execution_count": 73,
   "id": "c32f3ad3-cfcb-401c-ba57-2de48ca829bb",
   "metadata": {},
   "outputs": [
    {
     "name": "stdout",
     "output_type": "stream",
     "text": [
      "              precision    recall  f1-score   support\n",
      "\n",
      "           0       0.90      0.95      0.92      1136\n",
      "           1       0.95      0.91      0.93      1293\n",
      "\n",
      "    accuracy                           0.92      2429\n",
      "   macro avg       0.92      0.93      0.92      2429\n",
      "weighted avg       0.93      0.92      0.92      2429\n",
      "\n"
     ]
    }
   ],
   "source": [
    "# Set up classification report\n",
    "\n",
    "print(classification_report(y_test_boot, predictions5))"
   ]
  },
  {
   "cell_type": "code",
   "execution_count": 74,
   "id": "721603c6-9e81-494f-b630-4cb4b8accb65",
   "metadata": {},
   "outputs": [
    {
     "name": "stdout",
     "output_type": "stream",
     "text": [
      "      true  pred                                               post\n",
      "1729     1     0  so I want to buy they online to skip the ticke...\n",
      "4172     0     1  what be some non - dessert snack credit option...\n",
      "4340     0     1  hello premier pass holder , \\n\\n\\n have anyone...\n",
      "5267     0     1  plan on visit the park on Saturday . anyone kn...\n",
      "2057     1     0  hi everyone , \\n\\n\\n I have be look off and on...\n",
      "...    ...   ...                                                ...\n",
      "1666     1     0  hello my fellow er ! \\n\\n\\n as some of you may...\n",
      "3975     0     1  I be interested in do the Gringotts ride but b...\n",
      "4564     0     1  post in hope that someone that have pull at th...\n",
      "3966     0     1  my wife and I be head to   Jan 24 - 26 . we be...\n",
      "2922     1     0  pretty simple question . I could n't find an a...\n",
      "\n",
      "[108 rows x 3 columns]\n"
     ]
    }
   ],
   "source": [
    "# Set up a dataframe of y_test, prediction, and X_test columns\n",
    "result_df5 = pd.DataFrame({'true':y_test_boot, 'pred':predictions5, 'post': X_test_boot})\n",
    "\n",
    "# Set missprediction where y_test is not equal to prediction\n",
    "missprediction5 = result_df5[result_df5['true']!=result_df5['pred']]\n",
    "print(missprediction4)\n",
    "\n",
    "# Save missprediction to csv file\n",
    "missprediction5.to_csv('missed_predictions5.csv', index=False)"
   ]
  },
  {
   "cell_type": "markdown",
   "id": "a3c94d84-5de0-4b4d-b973-bfb5ad438e7d",
   "metadata": {},
   "source": [
    "**Model Evaluation**\n",
    "- Training score: 0.95 indicates that the model learned the patterns present in the data perfectly\n",
    "- Testing score: 0.92 indicates the model is able to perform very well on outside data\n",
    "- The model is not overfit and have a close performance between training data and testing data\n",
    "- Precision score: 0.90 and 0.95 indicates the model correctly predicts the class: Universal 90% and class: Disneyland 95% of the time\n",
    "- Recall score: 0.95 and 0.91 indicates that the model is able to identify the actual values of class: Universal 95% and class: Disneyland 91% of the time\n",
    "- F1 score: 0.92 and 0.93 indicates the model well balanced performance on both precision and recall and the score are closed between these 2 classes.\n",
    "- Accuracy score: 0.92 indicates the the model is highly accurate\n",
    "- Macro avg and Weighted avg: 0.92 and 0.92 indicates high performance of the model\n",
    "- Incorrectly predict: Universal 10% Disney 5%\n",
    "- Out of 2429 posts, 108 posts are incorrectly predicted: 4.44%\n",
    "\n",
    "**Final Evaluation**\n",
    "- Multinomial Naive Bayes is commonly used in natural language processing and text classification, so this model is appropriate for this text data. \n",
    "- When comparing to the performance of Random Forest Classifier, the performance is not as good as Random Forest"
   ]
  },
  {
   "cell_type": "markdown",
   "id": "68a9b401-4ee2-4d6b-846c-9746cd02c30a",
   "metadata": {},
   "source": [
    "## Model 6: TfidfVectorizer + MultinomialNB"
   ]
  },
  {
   "cell_type": "code",
   "execution_count": 75,
   "id": "474dc006-4616-4e83-b7fd-d9e738cc8be8",
   "metadata": {},
   "outputs": [],
   "source": [
    "# Set up the pipeline of TfidfVectorizer and Multinomial Naive Bayes combined with parameters obtained from GridSearch \n",
    "pipe6 = Pipeline([\n",
    "    ('tvec', TfidfVectorizer(max_df=0.9, max_features=5000, min_df=2, ngram_range= (1,1), stop_words='english')),\n",
    "    ('nb',  MultinomialNB())])"
   ]
  },
  {
   "cell_type": "code",
   "execution_count": 76,
   "id": "3acfd552-b373-49d9-ba06-bfcd6cc4d9f8",
   "metadata": {},
   "outputs": [],
   "source": [
    "#gs6 = GridSearchCV(pipe6, \n",
    "                  #param_grid=pipe6_params, \n",
    "                  #cv=5,\n",
    "                  #verbose=1)"
   ]
  },
  {
   "cell_type": "code",
   "execution_count": 77,
   "id": "cc3252d3-ed1a-4cf1-8ad9-64245b032637",
   "metadata": {},
   "outputs": [
    {
     "data": {
      "text/html": [
       "<style>#sk-container-id-6 {color: black;}#sk-container-id-6 pre{padding: 0;}#sk-container-id-6 div.sk-toggleable {background-color: white;}#sk-container-id-6 label.sk-toggleable__label {cursor: pointer;display: block;width: 100%;margin-bottom: 0;padding: 0.3em;box-sizing: border-box;text-align: center;}#sk-container-id-6 label.sk-toggleable__label-arrow:before {content: \"▸\";float: left;margin-right: 0.25em;color: #696969;}#sk-container-id-6 label.sk-toggleable__label-arrow:hover:before {color: black;}#sk-container-id-6 div.sk-estimator:hover label.sk-toggleable__label-arrow:before {color: black;}#sk-container-id-6 div.sk-toggleable__content {max-height: 0;max-width: 0;overflow: hidden;text-align: left;background-color: #f0f8ff;}#sk-container-id-6 div.sk-toggleable__content pre {margin: 0.2em;color: black;border-radius: 0.25em;background-color: #f0f8ff;}#sk-container-id-6 input.sk-toggleable__control:checked~div.sk-toggleable__content {max-height: 200px;max-width: 100%;overflow: auto;}#sk-container-id-6 input.sk-toggleable__control:checked~label.sk-toggleable__label-arrow:before {content: \"▾\";}#sk-container-id-6 div.sk-estimator input.sk-toggleable__control:checked~label.sk-toggleable__label {background-color: #d4ebff;}#sk-container-id-6 div.sk-label input.sk-toggleable__control:checked~label.sk-toggleable__label {background-color: #d4ebff;}#sk-container-id-6 input.sk-hidden--visually {border: 0;clip: rect(1px 1px 1px 1px);clip: rect(1px, 1px, 1px, 1px);height: 1px;margin: -1px;overflow: hidden;padding: 0;position: absolute;width: 1px;}#sk-container-id-6 div.sk-estimator {font-family: monospace;background-color: #f0f8ff;border: 1px dotted black;border-radius: 0.25em;box-sizing: border-box;margin-bottom: 0.5em;}#sk-container-id-6 div.sk-estimator:hover {background-color: #d4ebff;}#sk-container-id-6 div.sk-parallel-item::after {content: \"\";width: 100%;border-bottom: 1px solid gray;flex-grow: 1;}#sk-container-id-6 div.sk-label:hover label.sk-toggleable__label {background-color: #d4ebff;}#sk-container-id-6 div.sk-serial::before {content: \"\";position: absolute;border-left: 1px solid gray;box-sizing: border-box;top: 0;bottom: 0;left: 50%;z-index: 0;}#sk-container-id-6 div.sk-serial {display: flex;flex-direction: column;align-items: center;background-color: white;padding-right: 0.2em;padding-left: 0.2em;position: relative;}#sk-container-id-6 div.sk-item {position: relative;z-index: 1;}#sk-container-id-6 div.sk-parallel {display: flex;align-items: stretch;justify-content: center;background-color: white;position: relative;}#sk-container-id-6 div.sk-item::before, #sk-container-id-6 div.sk-parallel-item::before {content: \"\";position: absolute;border-left: 1px solid gray;box-sizing: border-box;top: 0;bottom: 0;left: 50%;z-index: -1;}#sk-container-id-6 div.sk-parallel-item {display: flex;flex-direction: column;z-index: 1;position: relative;background-color: white;}#sk-container-id-6 div.sk-parallel-item:first-child::after {align-self: flex-end;width: 50%;}#sk-container-id-6 div.sk-parallel-item:last-child::after {align-self: flex-start;width: 50%;}#sk-container-id-6 div.sk-parallel-item:only-child::after {width: 0;}#sk-container-id-6 div.sk-dashed-wrapped {border: 1px dashed gray;margin: 0 0.4em 0.5em 0.4em;box-sizing: border-box;padding-bottom: 0.4em;background-color: white;}#sk-container-id-6 div.sk-label label {font-family: monospace;font-weight: bold;display: inline-block;line-height: 1.2em;}#sk-container-id-6 div.sk-label-container {text-align: center;}#sk-container-id-6 div.sk-container {/* jupyter's `normalize.less` sets `[hidden] { display: none; }` but bootstrap.min.css set `[hidden] { display: none !important; }` so we also need the `!important` here to be able to override the default hidden behavior on the sphinx rendered scikit-learn.org. See: https://github.com/scikit-learn/scikit-learn/issues/21755 */display: inline-block !important;position: relative;}#sk-container-id-6 div.sk-text-repr-fallback {display: none;}</style><div id=\"sk-container-id-6\" class=\"sk-top-container\"><div class=\"sk-text-repr-fallback\"><pre>Pipeline(steps=[(&#x27;tvec&#x27;,\n",
       "                 TfidfVectorizer(max_df=0.9, max_features=5000, min_df=2,\n",
       "                                 stop_words=&#x27;english&#x27;)),\n",
       "                (&#x27;nb&#x27;, MultinomialNB())])</pre><b>In a Jupyter environment, please rerun this cell to show the HTML representation or trust the notebook. <br />On GitHub, the HTML representation is unable to render, please try loading this page with nbviewer.org.</b></div><div class=\"sk-container\" hidden><div class=\"sk-item sk-dashed-wrapped\"><div class=\"sk-label-container\"><div class=\"sk-label sk-toggleable\"><input class=\"sk-toggleable__control sk-hidden--visually\" id=\"sk-estimator-id-16\" type=\"checkbox\" ><label for=\"sk-estimator-id-16\" class=\"sk-toggleable__label sk-toggleable__label-arrow\">Pipeline</label><div class=\"sk-toggleable__content\"><pre>Pipeline(steps=[(&#x27;tvec&#x27;,\n",
       "                 TfidfVectorizer(max_df=0.9, max_features=5000, min_df=2,\n",
       "                                 stop_words=&#x27;english&#x27;)),\n",
       "                (&#x27;nb&#x27;, MultinomialNB())])</pre></div></div></div><div class=\"sk-serial\"><div class=\"sk-item\"><div class=\"sk-estimator sk-toggleable\"><input class=\"sk-toggleable__control sk-hidden--visually\" id=\"sk-estimator-id-17\" type=\"checkbox\" ><label for=\"sk-estimator-id-17\" class=\"sk-toggleable__label sk-toggleable__label-arrow\">TfidfVectorizer</label><div class=\"sk-toggleable__content\"><pre>TfidfVectorizer(max_df=0.9, max_features=5000, min_df=2, stop_words=&#x27;english&#x27;)</pre></div></div></div><div class=\"sk-item\"><div class=\"sk-estimator sk-toggleable\"><input class=\"sk-toggleable__control sk-hidden--visually\" id=\"sk-estimator-id-18\" type=\"checkbox\" ><label for=\"sk-estimator-id-18\" class=\"sk-toggleable__label sk-toggleable__label-arrow\">MultinomialNB</label><div class=\"sk-toggleable__content\"><pre>MultinomialNB()</pre></div></div></div></div></div></div></div>"
      ],
      "text/plain": [
       "Pipeline(steps=[('tvec',\n",
       "                 TfidfVectorizer(max_df=0.9, max_features=5000, min_df=2,\n",
       "                                 stop_words='english')),\n",
       "                ('nb', MultinomialNB())])"
      ]
     },
     "execution_count": 77,
     "metadata": {},
     "output_type": "execute_result"
    }
   ],
   "source": [
    "# Fit the pipeline to Training bootstrapped data\n",
    "pipe6.fit(X_train_boot, y_train_boot)"
   ]
  },
  {
   "cell_type": "code",
   "execution_count": 78,
   "id": "d2647791-27c5-42d2-b425-287cb888ab0d",
   "metadata": {},
   "outputs": [],
   "source": [
    "#gs6.best_score_"
   ]
  },
  {
   "cell_type": "code",
   "execution_count": 79,
   "id": "da5ccccb-9e6a-4fc0-b26a-285ec9ffa09b",
   "metadata": {},
   "outputs": [],
   "source": [
    "#gs6.best_params_"
   ]
  },
  {
   "cell_type": "code",
   "execution_count": 80,
   "id": "d6c368df-b19d-49b3-a9af-8b98812ebaf7",
   "metadata": {},
   "outputs": [
    {
     "data": {
      "text/plain": [
       "0.96"
      ]
     },
     "execution_count": 80,
     "metadata": {},
     "output_type": "execute_result"
    }
   ],
   "source": [
    "# Retrieve the accuracy score of Training bootstrapped data\n",
    "pipe6.score(X_train_boot, y_train_boot).round(2)"
   ]
  },
  {
   "cell_type": "code",
   "execution_count": 81,
   "id": "879d1636-48d0-4a52-ab24-d5bd78818ad8",
   "metadata": {},
   "outputs": [
    {
     "data": {
      "text/plain": [
       "0.93"
      ]
     },
     "execution_count": 81,
     "metadata": {},
     "output_type": "execute_result"
    }
   ],
   "source": [
    "# Retrieve the accuracy score of Testing bootstrapped data\n",
    "pipe6.score(X_test_boot, y_test_boot).round(2)"
   ]
  },
  {
   "cell_type": "code",
   "execution_count": 82,
   "id": "c9573128-8536-4415-8fb4-80a7d84f2a1e",
   "metadata": {},
   "outputs": [
    {
     "data": {
      "text/plain": [
       "<sklearn.metrics._plot.confusion_matrix.ConfusionMatrixDisplay at 0x125cb4850>"
      ]
     },
     "execution_count": 82,
     "metadata": {},
     "output_type": "execute_result"
    },
    {
     "data": {
      "image/png": "[encoded data removed]",
      "text/plain": [
       "<Figure size 640x480 with 2 Axes>"
      ]
     },
     "metadata": {},
     "output_type": "display_data"
    }
   ],
   "source": [
    "# Get predictions of Testing data\n",
    "predictions6 = pipe6.predict(X_test_boot)\n",
    "\n",
    "# Set up confusion matrix\n",
    "dist = ConfusionMatrixDisplay(confusion_matrix(y_test_boot, predictions6), \n",
    "                       display_labels=['Universal', 'Disney'])\n",
    "dist.plot()"
   ]
  },
  {
   "cell_type": "code",
   "execution_count": 83,
   "id": "443c3d68-7b29-4675-8b5e-ef2ed16301ca",
   "metadata": {},
   "outputs": [
    {
     "name": "stdout",
     "output_type": "stream",
     "text": [
      "True Negatives :  1057\n",
      "False Positives :  79\n",
      "False Negatives :  99\n",
      "True Positives :  1194\n"
     ]
    }
   ],
   "source": [
    "# Set up the confusion matrix and extract individual score elements\n",
    "\n",
    "tn6, fp6, fn6, tp6 = confusion_matrix(y_test_boot, predictions6).ravel()\n",
    "print(\"True Negatives : \",tn6)\n",
    "print(\"False Positives : \",fp6)\n",
    "print(\"False Negatives : \", fn6) \n",
    "print(\"True Positives : \", tp6)"
   ]
  },
  {
   "cell_type": "code",
   "execution_count": 84,
   "id": "04ca1fbe-41f0-40ec-80d9-3fd5b62de3c1",
   "metadata": {},
   "outputs": [
    {
     "name": "stdout",
     "output_type": "stream",
     "text": [
      "Sensitivity:  0.92\n"
     ]
    }
   ],
   "source": [
    "# Obtain Sensitivity score\n",
    "print('Sensitivity: ', (tp6/(tp6+fn6)).round(2))"
   ]
  },
  {
   "cell_type": "code",
   "execution_count": 85,
   "id": "c5f5e99e-6e77-41ef-9264-97124f7a8d31",
   "metadata": {},
   "outputs": [
    {
     "name": "stdout",
     "output_type": "stream",
     "text": [
      "Specificity:  0.93\n"
     ]
    }
   ],
   "source": [
    "# Obtain Specificity score\n",
    "print('Specificity: ', (tn6/(tn6+fp6)).round(2))"
   ]
  },
  {
   "cell_type": "code",
   "execution_count": 86,
   "id": "de1dd63a-1d10-4b97-9b89-5c06cb04cfce",
   "metadata": {},
   "outputs": [
    {
     "name": "stdout",
     "output_type": "stream",
     "text": [
      "              precision    recall  f1-score   support\n",
      "\n",
      "           0       0.91      0.93      0.92      1136\n",
      "           1       0.94      0.92      0.93      1293\n",
      "\n",
      "    accuracy                           0.93      2429\n",
      "   macro avg       0.93      0.93      0.93      2429\n",
      "weighted avg       0.93      0.93      0.93      2429\n",
      "\n"
     ]
    }
   ],
   "source": [
    "# Set up classification report\n",
    "\n",
    "print(classification_report(y_test_boot, predictions6))"
   ]
  },
  {
   "cell_type": "code",
   "execution_count": 87,
   "id": "d430a561-5a30-4178-8085-3c268c36cbb8",
   "metadata": {},
   "outputs": [
    {
     "name": "stdout",
     "output_type": "stream",
     "text": [
      "      true  pred                                               post\n",
      "5255     0     1  link to post with Dropbox link from corporate ...\n",
      "5344     0     1  go next week - stay within a reasonable walk o...\n",
      "1669     1     0  hi all - \\n\\n\\n my wife & I be take our daught...\n",
      "468      1     0  hi all :) \\n\\n\\n my girlfriend and I be plan o...\n",
      "1446     1     0  Hi , all ! \\n\\n\\n I have n't be to the park in...\n",
      "...    ...   ...                                                ...\n",
      "4570     0     1  hello ! \\n\\n\\n I be go to be go to   Hollywood...\n",
      "4564     0     1  post in hope that someone that have pull at th...\n",
      "2922     1     0  pretty simple question . I could n't find an a...\n",
      "178      1     0  hey guy , \\n\\n\\n I go to   last weekend with m...\n",
      "5057     0     1  as more footage from Super Nintendo World in U...\n",
      "\n",
      "[178 rows x 3 columns]\n"
     ]
    }
   ],
   "source": [
    "# Set up a dataframe of y_test, prediction, and X_test columns\n",
    "result_df6 = pd.DataFrame({'true':y_test_boot, 'pred':predictions6, 'post': X_test_boot})\n",
    "\n",
    "# Set missprediction where y_test is not equal to prediction\n",
    "missprediction6 = result_df6[result_df6['true']!=result_df6['pred']]\n",
    "print(missprediction6)\n",
    "\n",
    "# Save missprediction to csv file\n",
    "missprediction5.to_csv('missed_predictions6.csv', index=False)"
   ]
  },
  {
   "cell_type": "markdown",
   "id": "b501d76a-ee78-489a-9368-d839b15cd5e8",
   "metadata": {},
   "source": [
    "**Model Evaluation**\n",
    "- Training score: 0.96 indicates that the model learned the patterns present in the data very well\n",
    "- Testing score: 0.93 indicates the model is able to perform very well on outside data\n",
    "- The model is not overfit and have a close performance between training data and testing data\n",
    "- Precision score: 0.91 and 0.94 indicates the model correctly predicts the class: Universal 91% and class: Disneyland 94% of the time\n",
    "- Recall score: 0.93 and 0.92 indicates that the model is able to identify the actual values of class: Universal 93% and class: Disneyland 92% of the time\n",
    "- F1 score: 0.92 and 0.93 indicates the model well balanced performance on both precision and recall and the score are closed between these 2 classes.\n",
    "- Accuracy score: 0.93 indicates the the model is highly accurate\n",
    "- Macro avg and Weighted avg: 0.93 and 0.93 indicates high performance of the model\n",
    "- Incorrectly predict: Universal 7% Disney 7%\n",
    "- Out of 2429 posts, 169 posts are incorrectly predicted: 7.33%\n",
    "\n",
    "**Final Evaluation**\n",
    "- Combining TfidfVectorizer with Multinomial Naives Bayes to compare the performance with CountVectorizer performance, where TfidfVectorizer considers both the frequency of the words and the rarity of across the entire corpus\n",
    "- When comparing to the performance of CountVectorizer + Multinomial Naives Bayes, the performance is close, however; CountVectorizer outperforms in the accuracy of the prediction"
   ]
  },
  {
   "cell_type": "markdown",
   "id": "2d49cc07-b69b-4bce-8255-b9373f1b9643",
   "metadata": {},
   "source": [
    "**Final Model Evaluation**\n",
    "- "
   ]
  },
  {
   "cell_type": "markdown",
   "id": "196bc35b-50d2-4b20-87ee-38e8ebbdada4",
   "metadata": {},
   "source": [
    "- The most optimal model is CountVectorizer + Random Forest Classifier, this model yields the best score of all and has the least amount of incorrect prediction\n",
    "- Disneyland is more popular than Universal Studios because of the higher posts received and more votes received, this means more public interest and engagement\n",
    "- Disneyland's post tone is also neutral/positive\n",
    "- Promotional tactics will be targeted toward Disneyland since more popular means more demand, which increases customer satisfaction"
   ]
  }
 ],
 "metadata": {
  "kernelspec": {
   "display_name": "Python 3 (ipykernel)",
   "language": "python",
   "name": "python3"
  },
  "language_info": {
   "codemirror_mode": {
    "name": "ipython",
    "version": 3
   },
   "file_extension": ".py",
   "mimetype": "text/x-python",
   "name": "python",
   "nbconvert_exporter": "python",
   "pygments_lexer": "ipython3",
   "version": "3.9.6"
  }
 },
 "nbformat": 4,
 "nbformat_minor": 5
}
